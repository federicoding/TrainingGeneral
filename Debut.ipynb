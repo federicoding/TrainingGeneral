{
  "nbformat": 4,
  "nbformat_minor": 0,
  "metadata": {
    "colab": {
      "name": "Debut.ipynb",
      "provenance": [],
      "collapsed_sections": [],
      "authorship_tag": "ABX9TyNnzqPR1/c1JpmK+H3t8HGT",
      "include_colab_link": true
    },
    "kernelspec": {
      "name": "python3",
      "display_name": "Python 3"
    },
    "language_info": {
      "name": "python"
    }
  },
  "cells": [
    {
      "cell_type": "markdown",
      "metadata": {
        "id": "view-in-github",
        "colab_type": "text"
      },
      "source": [
        "<a href=\"https://colab.research.google.com/github/federicoding/TrainingGeneral/blob/main/Debut.ipynb\" target=\"_parent\"><img src=\"https://colab.research.google.com/assets/colab-badge.svg\" alt=\"Open In Colab\"/></a>"
      ]
    },
    {
      "cell_type": "markdown",
      "metadata": {
        "id": "PCN40ozLKOB0"
      },
      "source": [
        "#Train Python"
      ]
    },
    {
      "cell_type": "code",
      "metadata": {
        "id": "cbvQoI6cKNYF"
      },
      "source": [
        "import pandas as pd"
      ],
      "execution_count": 1,
      "outputs": []
    },
    {
      "cell_type": "code",
      "metadata": {
        "id": "BPUHqNa5M-Kn"
      },
      "source": [
        "url = 'https://raw.githubusercontent.com/federicoding/TrainingGeneral/main/Transactions.csv'\n",
        "transactions = pd.read_csv(filepath_or_buffer=url, sep=',', header=0, index_col=\"transaction_id\")"
      ],
      "execution_count": 2,
      "outputs": []
    },
    {
      "cell_type": "code",
      "metadata": {
        "colab": {
          "base_uri": "https://localhost:8080/",
          "height": 340
        },
        "id": "-X_wiz5rNp5V",
        "outputId": "a63b4a09-0aec-4bb2-e379-b52cf06a7a3f"
      },
      "source": [
        "transactions.head()"
      ],
      "execution_count": 4,
      "outputs": [
        {
          "output_type": "execute_result",
          "data": {
            "text/html": [
              "<div>\n",
              "<style scoped>\n",
              "    .dataframe tbody tr th:only-of-type {\n",
              "        vertical-align: middle;\n",
              "    }\n",
              "\n",
              "    .dataframe tbody tr th {\n",
              "        vertical-align: top;\n",
              "    }\n",
              "\n",
              "    .dataframe thead th {\n",
              "        text-align: right;\n",
              "    }\n",
              "</style>\n",
              "<table border=\"1\" class=\"dataframe\">\n",
              "  <thead>\n",
              "    <tr style=\"text-align: right;\">\n",
              "      <th></th>\n",
              "      <th>cust_id</th>\n",
              "      <th>tran_date</th>\n",
              "      <th>prod_subcat_code</th>\n",
              "      <th>prod_cat_code</th>\n",
              "      <th>Qty</th>\n",
              "      <th>Rate</th>\n",
              "      <th>Tax</th>\n",
              "      <th>total_amt</th>\n",
              "      <th>Store_type</th>\n",
              "    </tr>\n",
              "    <tr>\n",
              "      <th>transaction_id</th>\n",
              "      <th></th>\n",
              "      <th></th>\n",
              "      <th></th>\n",
              "      <th></th>\n",
              "      <th></th>\n",
              "      <th></th>\n",
              "      <th></th>\n",
              "      <th></th>\n",
              "      <th></th>\n",
              "    </tr>\n",
              "  </thead>\n",
              "  <tbody>\n",
              "    <tr>\n",
              "      <th>80712190438</th>\n",
              "      <td>270351</td>\n",
              "      <td>28-02-2014</td>\n",
              "      <td>1</td>\n",
              "      <td>1</td>\n",
              "      <td>-5</td>\n",
              "      <td>-772</td>\n",
              "      <td>405.300</td>\n",
              "      <td>-4265.300</td>\n",
              "      <td>e-Shop</td>\n",
              "    </tr>\n",
              "    <tr>\n",
              "      <th>29258453508</th>\n",
              "      <td>270384</td>\n",
              "      <td>27-02-2014</td>\n",
              "      <td>5</td>\n",
              "      <td>3</td>\n",
              "      <td>-5</td>\n",
              "      <td>-1497</td>\n",
              "      <td>785.925</td>\n",
              "      <td>-8270.925</td>\n",
              "      <td>e-Shop</td>\n",
              "    </tr>\n",
              "    <tr>\n",
              "      <th>51750724947</th>\n",
              "      <td>273420</td>\n",
              "      <td>24-02-2014</td>\n",
              "      <td>6</td>\n",
              "      <td>5</td>\n",
              "      <td>-2</td>\n",
              "      <td>-791</td>\n",
              "      <td>166.110</td>\n",
              "      <td>-1748.110</td>\n",
              "      <td>TeleShop</td>\n",
              "    </tr>\n",
              "    <tr>\n",
              "      <th>93274880719</th>\n",
              "      <td>271509</td>\n",
              "      <td>24-02-2014</td>\n",
              "      <td>11</td>\n",
              "      <td>6</td>\n",
              "      <td>-3</td>\n",
              "      <td>-1363</td>\n",
              "      <td>429.345</td>\n",
              "      <td>-4518.345</td>\n",
              "      <td>e-Shop</td>\n",
              "    </tr>\n",
              "    <tr>\n",
              "      <th>51750724947</th>\n",
              "      <td>273420</td>\n",
              "      <td>23-02-2014</td>\n",
              "      <td>6</td>\n",
              "      <td>5</td>\n",
              "      <td>-2</td>\n",
              "      <td>-791</td>\n",
              "      <td>166.110</td>\n",
              "      <td>-1748.110</td>\n",
              "      <td>TeleShop</td>\n",
              "    </tr>\n",
              "  </tbody>\n",
              "</table>\n",
              "</div>"
            ],
            "text/plain": [
              "                cust_id   tran_date  ...  total_amt  Store_type\n",
              "transaction_id                       ...                       \n",
              "80712190438      270351  28-02-2014  ...  -4265.300      e-Shop\n",
              "29258453508      270384  27-02-2014  ...  -8270.925      e-Shop\n",
              "51750724947      273420  24-02-2014  ...  -1748.110    TeleShop\n",
              "93274880719      271509  24-02-2014  ...  -4518.345      e-Shop\n",
              "51750724947      273420  23-02-2014  ...  -1748.110    TeleShop\n",
              "\n",
              "[5 rows x 9 columns]"
            ]
          },
          "metadata": {
            "tags": []
          },
          "execution_count": 4
        }
      ]
    },
    {
      "cell_type": "code",
      "metadata": {
        "colab": {
          "base_uri": "https://localhost:8080/"
        },
        "id": "ePd5K8rkNrea",
        "outputId": "353d3234-05c9-4d94-816c-8adadd964dfd"
      },
      "source": [
        "transactions.shape"
      ],
      "execution_count": 5,
      "outputs": [
        {
          "output_type": "execute_result",
          "data": {
            "text/plain": [
              "(23053, 9)"
            ]
          },
          "metadata": {
            "tags": []
          },
          "execution_count": 5
        }
      ]
    },
    {
      "cell_type": "markdown",
      "metadata": {
        "id": "AXUfe5-FN5ri"
      },
      "source": [
        "Préparation des variables catégorielles et quantitatives"
      ]
    },
    {
      "cell_type": "code",
      "metadata": {
        "colab": {
          "base_uri": "https://localhost:8080/",
          "height": 354
        },
        "id": "2fa2pyaDN0Kq",
        "outputId": "9c98d554-d365-4a44-ec82-c885d2fab72c"
      },
      "source": [
        "cat_vars = transactions[['cust_id', 'tran_date', 'prod_subcat_code', 'prod_cat_code', 'Store_type']]\n",
        "num_vars = transactions[['Qty', 'Rate', 'Tax', 'total_amt']]\n",
        "print(cat_vars.head())\n",
        "num_vars.head()"
      ],
      "execution_count": 7,
      "outputs": [
        {
          "output_type": "stream",
          "text": [
            "                cust_id   tran_date  prod_subcat_code  prod_cat_code Store_type\n",
            "transaction_id                                                                 \n",
            "80712190438      270351  28-02-2014                 1              1     e-Shop\n",
            "29258453508      270384  27-02-2014                 5              3     e-Shop\n",
            "51750724947      273420  24-02-2014                 6              5   TeleShop\n",
            "93274880719      271509  24-02-2014                11              6     e-Shop\n",
            "51750724947      273420  23-02-2014                 6              5   TeleShop\n"
          ],
          "name": "stdout"
        },
        {
          "output_type": "execute_result",
          "data": {
            "text/html": [
              "<div>\n",
              "<style scoped>\n",
              "    .dataframe tbody tr th:only-of-type {\n",
              "        vertical-align: middle;\n",
              "    }\n",
              "\n",
              "    .dataframe tbody tr th {\n",
              "        vertical-align: top;\n",
              "    }\n",
              "\n",
              "    .dataframe thead th {\n",
              "        text-align: right;\n",
              "    }\n",
              "</style>\n",
              "<table border=\"1\" class=\"dataframe\">\n",
              "  <thead>\n",
              "    <tr style=\"text-align: right;\">\n",
              "      <th></th>\n",
              "      <th>Qty</th>\n",
              "      <th>Rate</th>\n",
              "      <th>Tax</th>\n",
              "      <th>total_amt</th>\n",
              "    </tr>\n",
              "    <tr>\n",
              "      <th>transaction_id</th>\n",
              "      <th></th>\n",
              "      <th></th>\n",
              "      <th></th>\n",
              "      <th></th>\n",
              "    </tr>\n",
              "  </thead>\n",
              "  <tbody>\n",
              "    <tr>\n",
              "      <th>80712190438</th>\n",
              "      <td>-5</td>\n",
              "      <td>-772</td>\n",
              "      <td>405.300</td>\n",
              "      <td>-4265.300</td>\n",
              "    </tr>\n",
              "    <tr>\n",
              "      <th>29258453508</th>\n",
              "      <td>-5</td>\n",
              "      <td>-1497</td>\n",
              "      <td>785.925</td>\n",
              "      <td>-8270.925</td>\n",
              "    </tr>\n",
              "    <tr>\n",
              "      <th>51750724947</th>\n",
              "      <td>-2</td>\n",
              "      <td>-791</td>\n",
              "      <td>166.110</td>\n",
              "      <td>-1748.110</td>\n",
              "    </tr>\n",
              "    <tr>\n",
              "      <th>93274880719</th>\n",
              "      <td>-3</td>\n",
              "      <td>-1363</td>\n",
              "      <td>429.345</td>\n",
              "      <td>-4518.345</td>\n",
              "    </tr>\n",
              "    <tr>\n",
              "      <th>51750724947</th>\n",
              "      <td>-2</td>\n",
              "      <td>-791</td>\n",
              "      <td>166.110</td>\n",
              "      <td>-1748.110</td>\n",
              "    </tr>\n",
              "  </tbody>\n",
              "</table>\n",
              "</div>"
            ],
            "text/plain": [
              "                Qty  Rate      Tax  total_amt\n",
              "transaction_id                               \n",
              "80712190438      -5  -772  405.300  -4265.300\n",
              "29258453508      -5 -1497  785.925  -8270.925\n",
              "51750724947      -2  -791  166.110  -1748.110\n",
              "93274880719      -3 -1363  429.345  -4518.345\n",
              "51750724947      -2  -791  166.110  -1748.110"
            ]
          },
          "metadata": {
            "tags": []
          },
          "execution_count": 7
        }
      ]
    },
    {
      "cell_type": "markdown",
      "metadata": {
        "id": "NqZmzMo9QIB6"
      },
      "source": [
        "On split vite fait des données."
      ]
    },
    {
      "cell_type": "code",
      "metadata": {
        "colab": {
          "base_uri": "https://localhost:8080/",
          "height": 235
        },
        "id": "S_Rnve-RPN8q",
        "outputId": "d28a6b3c-d1d1-405d-b34b-0a141ca2a7de"
      },
      "source": [
        "transactions_eshop = transactions.loc[transactions.Store_type=='e-Shop']\n",
        "transactions_id_date = transactions_eshop[['cust_id','tran_date']]\n",
        "transactions_id_date.head()"
      ],
      "execution_count": 8,
      "outputs": [
        {
          "output_type": "execute_result",
          "data": {
            "text/html": [
              "<div>\n",
              "<style scoped>\n",
              "    .dataframe tbody tr th:only-of-type {\n",
              "        vertical-align: middle;\n",
              "    }\n",
              "\n",
              "    .dataframe tbody tr th {\n",
              "        vertical-align: top;\n",
              "    }\n",
              "\n",
              "    .dataframe thead th {\n",
              "        text-align: right;\n",
              "    }\n",
              "</style>\n",
              "<table border=\"1\" class=\"dataframe\">\n",
              "  <thead>\n",
              "    <tr style=\"text-align: right;\">\n",
              "      <th></th>\n",
              "      <th>cust_id</th>\n",
              "      <th>tran_date</th>\n",
              "    </tr>\n",
              "    <tr>\n",
              "      <th>transaction_id</th>\n",
              "      <th></th>\n",
              "      <th></th>\n",
              "    </tr>\n",
              "  </thead>\n",
              "  <tbody>\n",
              "    <tr>\n",
              "      <th>80712190438</th>\n",
              "      <td>270351</td>\n",
              "      <td>28-02-2014</td>\n",
              "    </tr>\n",
              "    <tr>\n",
              "      <th>29258453508</th>\n",
              "      <td>270384</td>\n",
              "      <td>27-02-2014</td>\n",
              "    </tr>\n",
              "    <tr>\n",
              "      <th>93274880719</th>\n",
              "      <td>271509</td>\n",
              "      <td>24-02-2014</td>\n",
              "    </tr>\n",
              "    <tr>\n",
              "      <th>45649838090</th>\n",
              "      <td>273667</td>\n",
              "      <td>22-02-2014</td>\n",
              "    </tr>\n",
              "    <tr>\n",
              "      <th>50076728598</th>\n",
              "      <td>269014</td>\n",
              "      <td>21-02-2014</td>\n",
              "    </tr>\n",
              "  </tbody>\n",
              "</table>\n",
              "</div>"
            ],
            "text/plain": [
              "                cust_id   tran_date\n",
              "transaction_id                     \n",
              "80712190438      270351  28-02-2014\n",
              "29258453508      270384  27-02-2014\n",
              "93274880719      271509  24-02-2014\n",
              "45649838090      273667  22-02-2014\n",
              "50076728598      269014  21-02-2014"
            ]
          },
          "metadata": {
            "tags": []
          },
          "execution_count": 8
        }
      ]
    },
    {
      "cell_type": "markdown",
      "metadata": {
        "id": "iw1-BrMoRIS7"
      },
      "source": [
        "On regarde un client en particulier"
      ]
    },
    {
      "cell_type": "code",
      "metadata": {
        "colab": {
          "base_uri": "https://localhost:8080/"
        },
        "id": "2Y3_ttcxRKiY",
        "outputId": "0dab5166-53df-42f4-e957-0ee4424cf4c0"
      },
      "source": [
        "transactions_client_268819 = transactions[transactions['cust_id'] == 268819]\n",
        "\n",
        "total = 0\n",
        "\n",
        "for amount in transactions_client_268819['total_amt']:\n",
        "  total += amount\n",
        "\n",
        "print(total)"
      ],
      "execution_count": 9,
      "outputs": [
        {
          "output_type": "stream",
          "text": [
            "14911.974999999999\n"
          ],
          "name": "stdout"
        }
      ]
    },
    {
      "cell_type": "markdown",
      "metadata": {
        "id": "HarzpHMTRocy"
      },
      "source": [
        "**Stats de base**"
      ]
    },
    {
      "cell_type": "code",
      "metadata": {
        "colab": {
          "base_uri": "https://localhost:8080/",
          "height": 317
        },
        "id": "4-XY59vdRqBt",
        "outputId": "f79a7048-cd53-4049-f21d-1deccf39af51"
      },
      "source": [
        "transactions.describe()"
      ],
      "execution_count": 11,
      "outputs": [
        {
          "output_type": "execute_result",
          "data": {
            "text/html": [
              "<div>\n",
              "<style scoped>\n",
              "    .dataframe tbody tr th:only-of-type {\n",
              "        vertical-align: middle;\n",
              "    }\n",
              "\n",
              "    .dataframe tbody tr th {\n",
              "        vertical-align: top;\n",
              "    }\n",
              "\n",
              "    .dataframe thead th {\n",
              "        text-align: right;\n",
              "    }\n",
              "</style>\n",
              "<table border=\"1\" class=\"dataframe\">\n",
              "  <thead>\n",
              "    <tr style=\"text-align: right;\">\n",
              "      <th></th>\n",
              "      <th>cust_id</th>\n",
              "      <th>prod_subcat_code</th>\n",
              "      <th>prod_cat_code</th>\n",
              "      <th>Qty</th>\n",
              "      <th>Rate</th>\n",
              "      <th>Tax</th>\n",
              "      <th>total_amt</th>\n",
              "    </tr>\n",
              "  </thead>\n",
              "  <tbody>\n",
              "    <tr>\n",
              "      <th>count</th>\n",
              "      <td>23053.000000</td>\n",
              "      <td>23053.000000</td>\n",
              "      <td>23053.000000</td>\n",
              "      <td>23053.000000</td>\n",
              "      <td>23053.000000</td>\n",
              "      <td>23053.000000</td>\n",
              "      <td>23053.000000</td>\n",
              "    </tr>\n",
              "    <tr>\n",
              "      <th>mean</th>\n",
              "      <td>271021.746497</td>\n",
              "      <td>6.149091</td>\n",
              "      <td>3.763632</td>\n",
              "      <td>2.432395</td>\n",
              "      <td>636.369713</td>\n",
              "      <td>248.667192</td>\n",
              "      <td>2107.308002</td>\n",
              "    </tr>\n",
              "    <tr>\n",
              "      <th>std</th>\n",
              "      <td>2431.692059</td>\n",
              "      <td>3.726372</td>\n",
              "      <td>1.677016</td>\n",
              "      <td>2.268406</td>\n",
              "      <td>622.363498</td>\n",
              "      <td>187.177773</td>\n",
              "      <td>2507.561264</td>\n",
              "    </tr>\n",
              "    <tr>\n",
              "      <th>min</th>\n",
              "      <td>266783.000000</td>\n",
              "      <td>1.000000</td>\n",
              "      <td>1.000000</td>\n",
              "      <td>-5.000000</td>\n",
              "      <td>-1499.000000</td>\n",
              "      <td>7.350000</td>\n",
              "      <td>-8270.925000</td>\n",
              "    </tr>\n",
              "    <tr>\n",
              "      <th>25%</th>\n",
              "      <td>268935.000000</td>\n",
              "      <td>3.000000</td>\n",
              "      <td>2.000000</td>\n",
              "      <td>1.000000</td>\n",
              "      <td>312.000000</td>\n",
              "      <td>98.280000</td>\n",
              "      <td>762.450000</td>\n",
              "    </tr>\n",
              "    <tr>\n",
              "      <th>50%</th>\n",
              "      <td>270980.000000</td>\n",
              "      <td>5.000000</td>\n",
              "      <td>4.000000</td>\n",
              "      <td>3.000000</td>\n",
              "      <td>710.000000</td>\n",
              "      <td>199.080000</td>\n",
              "      <td>1754.740000</td>\n",
              "    </tr>\n",
              "    <tr>\n",
              "      <th>75%</th>\n",
              "      <td>273114.000000</td>\n",
              "      <td>10.000000</td>\n",
              "      <td>5.000000</td>\n",
              "      <td>4.000000</td>\n",
              "      <td>1109.000000</td>\n",
              "      <td>365.715000</td>\n",
              "      <td>3569.150000</td>\n",
              "    </tr>\n",
              "    <tr>\n",
              "      <th>max</th>\n",
              "      <td>275265.000000</td>\n",
              "      <td>12.000000</td>\n",
              "      <td>6.000000</td>\n",
              "      <td>5.000000</td>\n",
              "      <td>1500.000000</td>\n",
              "      <td>787.500000</td>\n",
              "      <td>8287.500000</td>\n",
              "    </tr>\n",
              "  </tbody>\n",
              "</table>\n",
              "</div>"
            ],
            "text/plain": [
              "             cust_id  prod_subcat_code  ...           Tax     total_amt\n",
              "count   23053.000000      23053.000000  ...  23053.000000  23053.000000\n",
              "mean   271021.746497          6.149091  ...    248.667192   2107.308002\n",
              "std      2431.692059          3.726372  ...    187.177773   2507.561264\n",
              "min    266783.000000          1.000000  ...      7.350000  -8270.925000\n",
              "25%    268935.000000          3.000000  ...     98.280000    762.450000\n",
              "50%    270980.000000          5.000000  ...    199.080000   1754.740000\n",
              "75%    273114.000000         10.000000  ...    365.715000   3569.150000\n",
              "max    275265.000000         12.000000  ...    787.500000   8287.500000\n",
              "\n",
              "[8 rows x 7 columns]"
            ]
          },
          "metadata": {
            "tags": []
          },
          "execution_count": 11
        }
      ]
    },
    {
      "cell_type": "markdown",
      "metadata": {
        "id": "HpgLAxMERCrL"
      },
      "source": [
        "**Comptage** des valeurs différentes"
      ]
    },
    {
      "cell_type": "code",
      "metadata": {
        "colab": {
          "base_uri": "https://localhost:8080/"
        },
        "id": "Qse_mR5_Rh_Y",
        "outputId": "69b095ea-02c7-4c50-a507-3c70ce8faa6b"
      },
      "source": [
        "transactions.Store_type.value_counts()"
      ],
      "execution_count": 12,
      "outputs": [
        {
          "output_type": "execute_result",
          "data": {
            "text/plain": [
              "e-Shop            9311\n",
              "MBR               4661\n",
              "Flagship store    4577\n",
              "TeleShop          4504\n",
              "Name: Store_type, dtype: int64"
            ]
          },
          "metadata": {
            "tags": []
          },
          "execution_count": 12
        }
      ]
    },
    {
      "cell_type": "code",
      "metadata": {
        "colab": {
          "base_uri": "https://localhost:8080/"
        },
        "id": "rsRlfbM6RzuI",
        "outputId": "b09f5a10-8b79-40ca-f006-b5336284228b"
      },
      "source": [
        "transactions['Store_type'].value_counts()"
      ],
      "execution_count": 13,
      "outputs": [
        {
          "output_type": "execute_result",
          "data": {
            "text/plain": [
              "e-Shop            9311\n",
              "MBR               4661\n",
              "Flagship store    4577\n",
              "TeleShop          4504\n",
              "Name: Store_type, dtype: int64"
            ]
          },
          "metadata": {
            "tags": []
          },
          "execution_count": 13
        }
      ]
    },
    {
      "cell_type": "markdown",
      "metadata": {
        "id": "hmdsyJ3eSPe9"
      },
      "source": [
        "Questions sur des résultats du describe.\n",
        "Soit on affiche direct le describe et on se met à lire.\n",
        "Soit on demande les quantités, direct, c'est ce que je vais faire ici."
      ]
    },
    {
      "cell_type": "code",
      "metadata": {
        "colab": {
          "base_uri": "https://localhost:8080/"
        },
        "id": "GVK_nD9QR_P4",
        "outputId": "9d76b273-384f-41ed-dd95-514b2e13a20a"
      },
      "source": [
        "transactions.total_amt.mean(),transactions.Qty.max()"
      ],
      "execution_count": 14,
      "outputs": [
        {
          "output_type": "execute_result",
          "data": {
            "text/plain": [
              "(2107.3080019953964, 5)"
            ]
          },
          "metadata": {
            "tags": []
          },
          "execution_count": 14
        }
      ]
    },
    {
      "cell_type": "markdown",
      "metadata": {
        "id": "Vtw6NbLvSqYK"
      },
      "source": [
        "On peut bidouiller 'en avance de phase' les datas"
      ]
    },
    {
      "cell_type": "code",
      "metadata": {
        "colab": {
          "base_uri": "https://localhost:8080/",
          "height": 317
        },
        "id": "O9i4yZgHStrR",
        "outputId": "b61ddff8-61dd-4792-be76-7d81da36cd56"
      },
      "source": [
        "transactions[transactions['total_amt'] > 0].describe()"
      ],
      "execution_count": 15,
      "outputs": [
        {
          "output_type": "execute_result",
          "data": {
            "text/html": [
              "<div>\n",
              "<style scoped>\n",
              "    .dataframe tbody tr th:only-of-type {\n",
              "        vertical-align: middle;\n",
              "    }\n",
              "\n",
              "    .dataframe tbody tr th {\n",
              "        vertical-align: top;\n",
              "    }\n",
              "\n",
              "    .dataframe thead th {\n",
              "        text-align: right;\n",
              "    }\n",
              "</style>\n",
              "<table border=\"1\" class=\"dataframe\">\n",
              "  <thead>\n",
              "    <tr style=\"text-align: right;\">\n",
              "      <th></th>\n",
              "      <th>cust_id</th>\n",
              "      <th>prod_subcat_code</th>\n",
              "      <th>prod_cat_code</th>\n",
              "      <th>Qty</th>\n",
              "      <th>Rate</th>\n",
              "      <th>Tax</th>\n",
              "      <th>total_amt</th>\n",
              "    </tr>\n",
              "  </thead>\n",
              "  <tbody>\n",
              "    <tr>\n",
              "      <th>count</th>\n",
              "      <td>20876.000000</td>\n",
              "      <td>20876.000000</td>\n",
              "      <td>20876.000000</td>\n",
              "      <td>20876.000000</td>\n",
              "      <td>20876.000000</td>\n",
              "      <td>20876.000000</td>\n",
              "      <td>20876.000000</td>\n",
              "    </tr>\n",
              "    <tr>\n",
              "      <th>mean</th>\n",
              "      <td>271027.141981</td>\n",
              "      <td>6.156639</td>\n",
              "      <td>3.761496</td>\n",
              "      <td>3.003497</td>\n",
              "      <td>785.927764</td>\n",
              "      <td>247.861232</td>\n",
              "      <td>2608.444389</td>\n",
              "    </tr>\n",
              "    <tr>\n",
              "      <th>std</th>\n",
              "      <td>2433.338935</td>\n",
              "      <td>3.722363</td>\n",
              "      <td>1.675859</td>\n",
              "      <td>1.420479</td>\n",
              "      <td>415.586498</td>\n",
              "      <td>186.644248</td>\n",
              "      <td>1964.208517</td>\n",
              "    </tr>\n",
              "    <tr>\n",
              "      <th>min</th>\n",
              "      <td>266783.000000</td>\n",
              "      <td>1.000000</td>\n",
              "      <td>1.000000</td>\n",
              "      <td>1.000000</td>\n",
              "      <td>70.000000</td>\n",
              "      <td>7.350000</td>\n",
              "      <td>77.350000</td>\n",
              "    </tr>\n",
              "    <tr>\n",
              "      <th>25%</th>\n",
              "      <td>268938.000000</td>\n",
              "      <td>3.000000</td>\n",
              "      <td>2.000000</td>\n",
              "      <td>2.000000</td>\n",
              "      <td>426.000000</td>\n",
              "      <td>97.938750</td>\n",
              "      <td>1030.688750</td>\n",
              "    </tr>\n",
              "    <tr>\n",
              "      <th>50%</th>\n",
              "      <td>271004.000000</td>\n",
              "      <td>5.000000</td>\n",
              "      <td>4.000000</td>\n",
              "      <td>3.000000</td>\n",
              "      <td>788.000000</td>\n",
              "      <td>198.555000</td>\n",
              "      <td>2089.555000</td>\n",
              "    </tr>\n",
              "    <tr>\n",
              "      <th>75%</th>\n",
              "      <td>273122.250000</td>\n",
              "      <td>10.000000</td>\n",
              "      <td>5.000000</td>\n",
              "      <td>4.000000</td>\n",
              "      <td>1148.000000</td>\n",
              "      <td>363.510000</td>\n",
              "      <td>3825.510000</td>\n",
              "    </tr>\n",
              "    <tr>\n",
              "      <th>max</th>\n",
              "      <td>275265.000000</td>\n",
              "      <td>12.000000</td>\n",
              "      <td>6.000000</td>\n",
              "      <td>5.000000</td>\n",
              "      <td>1500.000000</td>\n",
              "      <td>787.500000</td>\n",
              "      <td>8287.500000</td>\n",
              "    </tr>\n",
              "  </tbody>\n",
              "</table>\n",
              "</div>"
            ],
            "text/plain": [
              "             cust_id  prod_subcat_code  ...           Tax     total_amt\n",
              "count   20876.000000      20876.000000  ...  20876.000000  20876.000000\n",
              "mean   271027.141981          6.156639  ...    247.861232   2608.444389\n",
              "std      2433.338935          3.722363  ...    186.644248   1964.208517\n",
              "min    266783.000000          1.000000  ...      7.350000     77.350000\n",
              "25%    268938.000000          3.000000  ...     97.938750   1030.688750\n",
              "50%    271004.000000          5.000000  ...    198.555000   2089.555000\n",
              "75%    273122.250000         10.000000  ...    363.510000   3825.510000\n",
              "max    275265.000000         12.000000  ...    787.500000   8287.500000\n",
              "\n",
              "[8 rows x 7 columns]"
            ]
          },
          "metadata": {
            "tags": []
          },
          "execution_count": 15
        }
      ]
    },
    {
      "cell_type": "code",
      "metadata": {
        "colab": {
          "base_uri": "https://localhost:8080/"
        },
        "id": "1m2Y8cAnS0I4",
        "outputId": "50f9b330-9b9a-439e-d6d4-660d3735fb59"
      },
      "source": [
        "#ou\n",
        "transactions[transactions['total_amt'] > 0].total_amt.mean()"
      ],
      "execution_count": 16,
      "outputs": [
        {
          "output_type": "execute_result",
          "data": {
            "text/plain": [
              "2608.444389250814"
            ]
          },
          "metadata": {
            "tags": []
          },
          "execution_count": 16
        }
      ]
    },
    {
      "cell_type": "markdown",
      "metadata": {
        "id": "gbLDmQ2RTAu2"
      },
      "source": [
        "#Data cleaning rapide"
      ]
    },
    {
      "cell_type": "code",
      "metadata": {
        "id": "HAxkdN5ZTko5"
      },
      "source": [
        "#reboot?\n",
        "url = 'https://raw.githubusercontent.com/federicoding/TrainingGeneral/main/Transactions.csv'\n",
        "transactions = pd.read_csv(filepath_or_buffer=url, sep=',', header=0, index_col=\"transaction_id\")"
      ],
      "execution_count": 3,
      "outputs": []
    },
    {
      "cell_type": "markdown",
      "metadata": {
        "id": "cOcUX0D0THm0"
      },
      "source": [
        "Recherche de **duplicates**\n",
        "\n",
        "Avec **duplicated** qui ressort une Series de False&True si la ligne est un doublon.\n",
        "\n",
        "Pour en avoir le **total** on en finit avec **.sum()**"
      ]
    },
    {
      "cell_type": "code",
      "metadata": {
        "colab": {
          "base_uri": "https://localhost:8080/"
        },
        "id": "DmwGXoVvS6c4",
        "outputId": "aa0f3f52-aab8-4afe-e30b-8b284cbc057e"
      },
      "source": [
        "print(\"Il y a : \",transactions.duplicated().sum(), \"doublons dans le dataframe de transactions\")"
      ],
      "execution_count": 19,
      "outputs": [
        {
          "output_type": "stream",
          "text": [
            "Il y a :  13 doublons dans le dataframe de transactions\n"
          ],
          "name": "stdout"
        }
      ]
    },
    {
      "cell_type": "markdown",
      "metadata": {
        "id": "OCHYKGtXRo4b"
      },
      "source": [
        "Suppression des **doublons**\n",
        "\n",
        "Avec **drop_duplicates** avec la syntaxe suivante:\n",
        "\n",
        "drop_duplicates(subset, keep, inplace)\n",
        "\n",
        "*   Paramètre **subset** indique la ou les colonnes à considérer pour identifier et supprimer les doublons. Par défaut, **subset = None**: on considère toutes les colonnes du DataFrame.\n",
        "*   Paramètre keep indique quelle entrée garder:\n",
        "    * **'first'**: on garde la **première** occurence\n",
        "    * **'last'**: on garde la **dernière** occurence\n",
        "    * **'False'**: on ne garde **aucune** des occurences\n",
        "    * par défaut, **keep = 'first'**\n",
        "  \n",
        "*  Param **inplace** précise si on modifie **directement** le DataFrame (si **True**) ou si la méthode renvoie une **copie** du DataFrame. Si inplace=True la méthode est **irréversible**. Par défaut, inplace = False."
      ]
    },
    {
      "cell_type": "code",
      "metadata": {
        "colab": {
          "base_uri": "https://localhost:8080/",
          "height": 640
        },
        "id": "q-lI0I88TXQZ",
        "outputId": "f2ed0d6e-6aa3-47bb-f338-df1cd312a348"
      },
      "source": [
        "transactions = transactions.drop_duplicates(keep='first')\n",
        "transactions"
      ],
      "execution_count": 4,
      "outputs": [
        {
          "output_type": "execute_result",
          "data": {
            "text/html": [
              "<div>\n",
              "<style scoped>\n",
              "    .dataframe tbody tr th:only-of-type {\n",
              "        vertical-align: middle;\n",
              "    }\n",
              "\n",
              "    .dataframe tbody tr th {\n",
              "        vertical-align: top;\n",
              "    }\n",
              "\n",
              "    .dataframe thead th {\n",
              "        text-align: right;\n",
              "    }\n",
              "</style>\n",
              "<table border=\"1\" class=\"dataframe\">\n",
              "  <thead>\n",
              "    <tr style=\"text-align: right;\">\n",
              "      <th></th>\n",
              "      <th>cust_id</th>\n",
              "      <th>tran_date</th>\n",
              "      <th>prod_subcat_code</th>\n",
              "      <th>prod_cat_code</th>\n",
              "      <th>Qty</th>\n",
              "      <th>Rate</th>\n",
              "      <th>Tax</th>\n",
              "      <th>total_amt</th>\n",
              "      <th>Store_type</th>\n",
              "    </tr>\n",
              "    <tr>\n",
              "      <th>transaction_id</th>\n",
              "      <th></th>\n",
              "      <th></th>\n",
              "      <th></th>\n",
              "      <th></th>\n",
              "      <th></th>\n",
              "      <th></th>\n",
              "      <th></th>\n",
              "      <th></th>\n",
              "      <th></th>\n",
              "    </tr>\n",
              "  </thead>\n",
              "  <tbody>\n",
              "    <tr>\n",
              "      <th>80712190438</th>\n",
              "      <td>270351</td>\n",
              "      <td>28-02-2014</td>\n",
              "      <td>1</td>\n",
              "      <td>1</td>\n",
              "      <td>-5</td>\n",
              "      <td>-772</td>\n",
              "      <td>405.300</td>\n",
              "      <td>-4265.300</td>\n",
              "      <td>e-Shop</td>\n",
              "    </tr>\n",
              "    <tr>\n",
              "      <th>29258453508</th>\n",
              "      <td>270384</td>\n",
              "      <td>27-02-2014</td>\n",
              "      <td>5</td>\n",
              "      <td>3</td>\n",
              "      <td>-5</td>\n",
              "      <td>-1497</td>\n",
              "      <td>785.925</td>\n",
              "      <td>-8270.925</td>\n",
              "      <td>e-Shop</td>\n",
              "    </tr>\n",
              "    <tr>\n",
              "      <th>51750724947</th>\n",
              "      <td>273420</td>\n",
              "      <td>24-02-2014</td>\n",
              "      <td>6</td>\n",
              "      <td>5</td>\n",
              "      <td>-2</td>\n",
              "      <td>-791</td>\n",
              "      <td>166.110</td>\n",
              "      <td>-1748.110</td>\n",
              "      <td>TeleShop</td>\n",
              "    </tr>\n",
              "    <tr>\n",
              "      <th>93274880719</th>\n",
              "      <td>271509</td>\n",
              "      <td>24-02-2014</td>\n",
              "      <td>11</td>\n",
              "      <td>6</td>\n",
              "      <td>-3</td>\n",
              "      <td>-1363</td>\n",
              "      <td>429.345</td>\n",
              "      <td>-4518.345</td>\n",
              "      <td>e-Shop</td>\n",
              "    </tr>\n",
              "    <tr>\n",
              "      <th>51750724947</th>\n",
              "      <td>273420</td>\n",
              "      <td>23-02-2014</td>\n",
              "      <td>6</td>\n",
              "      <td>5</td>\n",
              "      <td>-2</td>\n",
              "      <td>-791</td>\n",
              "      <td>166.110</td>\n",
              "      <td>-1748.110</td>\n",
              "      <td>TeleShop</td>\n",
              "    </tr>\n",
              "    <tr>\n",
              "      <th>...</th>\n",
              "      <td>...</td>\n",
              "      <td>...</td>\n",
              "      <td>...</td>\n",
              "      <td>...</td>\n",
              "      <td>...</td>\n",
              "      <td>...</td>\n",
              "      <td>...</td>\n",
              "      <td>...</td>\n",
              "      <td>...</td>\n",
              "    </tr>\n",
              "    <tr>\n",
              "      <th>94340757522</th>\n",
              "      <td>274550</td>\n",
              "      <td>25-01-2011</td>\n",
              "      <td>12</td>\n",
              "      <td>5</td>\n",
              "      <td>1</td>\n",
              "      <td>1264</td>\n",
              "      <td>132.720</td>\n",
              "      <td>1396.720</td>\n",
              "      <td>e-Shop</td>\n",
              "    </tr>\n",
              "    <tr>\n",
              "      <th>89780862956</th>\n",
              "      <td>270022</td>\n",
              "      <td>25-01-2011</td>\n",
              "      <td>4</td>\n",
              "      <td>1</td>\n",
              "      <td>1</td>\n",
              "      <td>677</td>\n",
              "      <td>71.085</td>\n",
              "      <td>748.085</td>\n",
              "      <td>e-Shop</td>\n",
              "    </tr>\n",
              "    <tr>\n",
              "      <th>85115299378</th>\n",
              "      <td>271020</td>\n",
              "      <td>25-01-2011</td>\n",
              "      <td>2</td>\n",
              "      <td>6</td>\n",
              "      <td>4</td>\n",
              "      <td>1052</td>\n",
              "      <td>441.840</td>\n",
              "      <td>4649.840</td>\n",
              "      <td>MBR</td>\n",
              "    </tr>\n",
              "    <tr>\n",
              "      <th>72870271171</th>\n",
              "      <td>270911</td>\n",
              "      <td>25-01-2011</td>\n",
              "      <td>11</td>\n",
              "      <td>5</td>\n",
              "      <td>3</td>\n",
              "      <td>1142</td>\n",
              "      <td>359.730</td>\n",
              "      <td>3785.730</td>\n",
              "      <td>TeleShop</td>\n",
              "    </tr>\n",
              "    <tr>\n",
              "      <th>77960931771</th>\n",
              "      <td>271961</td>\n",
              "      <td>25-01-2011</td>\n",
              "      <td>11</td>\n",
              "      <td>5</td>\n",
              "      <td>1</td>\n",
              "      <td>447</td>\n",
              "      <td>46.935</td>\n",
              "      <td>493.935</td>\n",
              "      <td>TeleShop</td>\n",
              "    </tr>\n",
              "  </tbody>\n",
              "</table>\n",
              "<p>23040 rows × 9 columns</p>\n",
              "</div>"
            ],
            "text/plain": [
              "                cust_id   tran_date  ...  total_amt  Store_type\n",
              "transaction_id                       ...                       \n",
              "80712190438      270351  28-02-2014  ...  -4265.300      e-Shop\n",
              "29258453508      270384  27-02-2014  ...  -8270.925      e-Shop\n",
              "51750724947      273420  24-02-2014  ...  -1748.110    TeleShop\n",
              "93274880719      271509  24-02-2014  ...  -4518.345      e-Shop\n",
              "51750724947      273420  23-02-2014  ...  -1748.110    TeleShop\n",
              "...                 ...         ...  ...        ...         ...\n",
              "94340757522      274550  25-01-2011  ...   1396.720      e-Shop\n",
              "89780862956      270022  25-01-2011  ...    748.085      e-Shop\n",
              "85115299378      271020  25-01-2011  ...   4649.840         MBR\n",
              "72870271171      270911  25-01-2011  ...   3785.730    TeleShop\n",
              "77960931771      271961  25-01-2011  ...    493.935    TeleShop\n",
              "\n",
              "[23040 rows x 9 columns]"
            ]
          },
          "metadata": {
            "tags": []
          },
          "execution_count": 4
        }
      ]
    },
    {
      "cell_type": "code",
      "metadata": {
        "colab": {
          "base_uri": "https://localhost:8080/",
          "height": 388
        },
        "id": "mP8K30Z2T3_D",
        "outputId": "e7acd856-d7b6-471d-a65b-005bc24ca146"
      },
      "source": [
        "transactions.drop_duplicates(subset='prod_cat_code', keep='first')"
      ],
      "execution_count": 21,
      "outputs": [
        {
          "output_type": "execute_result",
          "data": {
            "text/html": [
              "<div>\n",
              "<style scoped>\n",
              "    .dataframe tbody tr th:only-of-type {\n",
              "        vertical-align: middle;\n",
              "    }\n",
              "\n",
              "    .dataframe tbody tr th {\n",
              "        vertical-align: top;\n",
              "    }\n",
              "\n",
              "    .dataframe thead th {\n",
              "        text-align: right;\n",
              "    }\n",
              "</style>\n",
              "<table border=\"1\" class=\"dataframe\">\n",
              "  <thead>\n",
              "    <tr style=\"text-align: right;\">\n",
              "      <th></th>\n",
              "      <th>cust_id</th>\n",
              "      <th>tran_date</th>\n",
              "      <th>prod_subcat_code</th>\n",
              "      <th>prod_cat_code</th>\n",
              "      <th>Qty</th>\n",
              "      <th>Rate</th>\n",
              "      <th>Tax</th>\n",
              "      <th>total_amt</th>\n",
              "      <th>Store_type</th>\n",
              "    </tr>\n",
              "    <tr>\n",
              "      <th>transaction_id</th>\n",
              "      <th></th>\n",
              "      <th></th>\n",
              "      <th></th>\n",
              "      <th></th>\n",
              "      <th></th>\n",
              "      <th></th>\n",
              "      <th></th>\n",
              "      <th></th>\n",
              "      <th></th>\n",
              "    </tr>\n",
              "  </thead>\n",
              "  <tbody>\n",
              "    <tr>\n",
              "      <th>80712190438</th>\n",
              "      <td>270351</td>\n",
              "      <td>28-02-2014</td>\n",
              "      <td>1</td>\n",
              "      <td>1</td>\n",
              "      <td>-5</td>\n",
              "      <td>-772</td>\n",
              "      <td>405.300</td>\n",
              "      <td>-4265.300</td>\n",
              "      <td>e-Shop</td>\n",
              "    </tr>\n",
              "    <tr>\n",
              "      <th>29258453508</th>\n",
              "      <td>270384</td>\n",
              "      <td>27-02-2014</td>\n",
              "      <td>5</td>\n",
              "      <td>3</td>\n",
              "      <td>-5</td>\n",
              "      <td>-1497</td>\n",
              "      <td>785.925</td>\n",
              "      <td>-8270.925</td>\n",
              "      <td>e-Shop</td>\n",
              "    </tr>\n",
              "    <tr>\n",
              "      <th>51750724947</th>\n",
              "      <td>273420</td>\n",
              "      <td>24-02-2014</td>\n",
              "      <td>6</td>\n",
              "      <td>5</td>\n",
              "      <td>-2</td>\n",
              "      <td>-791</td>\n",
              "      <td>166.110</td>\n",
              "      <td>-1748.110</td>\n",
              "      <td>TeleShop</td>\n",
              "    </tr>\n",
              "    <tr>\n",
              "      <th>93274880719</th>\n",
              "      <td>271509</td>\n",
              "      <td>24-02-2014</td>\n",
              "      <td>11</td>\n",
              "      <td>6</td>\n",
              "      <td>-3</td>\n",
              "      <td>-1363</td>\n",
              "      <td>429.345</td>\n",
              "      <td>-4518.345</td>\n",
              "      <td>e-Shop</td>\n",
              "    </tr>\n",
              "    <tr>\n",
              "      <th>43134751727</th>\n",
              "      <td>268487</td>\n",
              "      <td>20-02-2014</td>\n",
              "      <td>3</td>\n",
              "      <td>2</td>\n",
              "      <td>-1</td>\n",
              "      <td>-611</td>\n",
              "      <td>64.155</td>\n",
              "      <td>-675.155</td>\n",
              "      <td>e-Shop</td>\n",
              "    </tr>\n",
              "    <tr>\n",
              "      <th>25963520987</th>\n",
              "      <td>274829</td>\n",
              "      <td>20-02-2014</td>\n",
              "      <td>4</td>\n",
              "      <td>4</td>\n",
              "      <td>3</td>\n",
              "      <td>502</td>\n",
              "      <td>158.130</td>\n",
              "      <td>1664.130</td>\n",
              "      <td>Flagship store</td>\n",
              "    </tr>\n",
              "  </tbody>\n",
              "</table>\n",
              "</div>"
            ],
            "text/plain": [
              "                cust_id   tran_date  ...  total_amt      Store_type\n",
              "transaction_id                       ...                           \n",
              "80712190438      270351  28-02-2014  ...  -4265.300          e-Shop\n",
              "29258453508      270384  27-02-2014  ...  -8270.925          e-Shop\n",
              "51750724947      273420  24-02-2014  ...  -1748.110        TeleShop\n",
              "93274880719      271509  24-02-2014  ...  -4518.345          e-Shop\n",
              "43134751727      268487  20-02-2014  ...   -675.155          e-Shop\n",
              "25963520987      274829  20-02-2014  ...   1664.130  Flagship store\n",
              "\n",
              "[6 rows x 9 columns]"
            ]
          },
          "metadata": {
            "tags": []
          },
          "execution_count": 21
        }
      ]
    },
    {
      "cell_type": "code",
      "metadata": {
        "id": "xD3W8029UAbo"
      },
      "source": [
        "url = 'https://raw.githubusercontent.com/federicoding/TrainingGeneral/main/Transactions.csv'\n",
        "transactions = pd.read_csv(filepath_or_buffer=url, sep=',', header=0, index_col=\"transaction_id\")\n",
        "\n",
        "transactions = transactions.drop_duplicates(keep = 'first')"
      ],
      "execution_count": 4,
      "outputs": []
    },
    {
      "cell_type": "code",
      "metadata": {
        "id": "b8TRzZmVUZaS"
      },
      "source": [
        "import numpy as np"
      ],
      "execution_count": 5,
      "outputs": []
    },
    {
      "cell_type": "markdown",
      "metadata": {
        "id": "terZgaBpUfmW"
      },
      "source": [
        "On va remplacer des modalités, convertir et renommer des colonnes"
      ]
    },
    {
      "cell_type": "code",
      "metadata": {
        "id": "sRKNQtkRUbQo"
      },
      "source": [
        "#transactions = transactions.replace(['e-Shop', 'TeleShop', 'MBR', 'Flagship store', np.nan],\n",
        "#                                   [1, 2, 3, 4, 0])\n",
        "#print(transactions.head(10))\n",
        "#\n",
        "#new_types = {'Store_type'        : 'int',\n",
        "#             'prod_sub_cat_code' : 'int'}\n",
        "#\n",
        "#transactions = transactions.astype(new_types)\n",
        "#\n",
        "#new_names = {'Store_type'  : 'store_type',\n",
        "#new_names = { 'Qty'        : 'qty',\n",
        "#              'Rate'       : 'rate',\n",
        "#              'Tax'        : 'tax'}\n",
        "#\n",
        "#transactions = transactions.rename(new_names, axis = 1)\n",
        "#\n",
        "#transactions.head()"
      ],
      "execution_count": null,
      "outputs": []
    },
    {
      "cell_type": "markdown",
      "metadata": {
        "id": "38JpW40vYoq_"
      },
      "source": [
        "Bon, ça galère en dictionnary ><"
      ]
    },
    {
      "cell_type": "code",
      "metadata": {
        "id": "h9VpXRIeV344"
      },
      "source": [
        "transactions = transactions.replace(['e-Shop', 'TeleShop', 'MBR', 'Flagship store', np.nan],\n",
        "                                   [1, 2, 3, 4, 0])"
      ],
      "execution_count": 6,
      "outputs": []
    },
    {
      "cell_type": "code",
      "metadata": {
        "id": "81T5JP9UYtAk"
      },
      "source": [
        "transactions['Store_type'] = transactions['Store_type'].astype('int')"
      ],
      "execution_count": 7,
      "outputs": []
    },
    {
      "cell_type": "code",
      "metadata": {
        "id": "JMb8OtRSY6wF"
      },
      "source": [
        "transactions['prod_subcat_code'] = transactions['prod_subcat_code'].astype('int')"
      ],
      "execution_count": 8,
      "outputs": []
    },
    {
      "cell_type": "code",
      "metadata": {
        "colab": {
          "base_uri": "https://localhost:8080/",
          "height": 340
        },
        "id": "C8pIUJWHZHbx",
        "outputId": "a1c44e03-0947-49be-e229-53a82e209569"
      },
      "source": [
        "new_names = {'Store_type'  : 'store_type',\n",
        "              'Qty'        : 'qty',\n",
        "              'Rate'       : 'rate',\n",
        "              'Tax'        : 'tax'}\n",
        "\n",
        "transactions = transactions.rename(new_names, axis = 1)\n",
        "\n",
        "transactions.head()"
      ],
      "execution_count": 9,
      "outputs": [
        {
          "output_type": "execute_result",
          "data": {
            "text/html": [
              "<div>\n",
              "<style scoped>\n",
              "    .dataframe tbody tr th:only-of-type {\n",
              "        vertical-align: middle;\n",
              "    }\n",
              "\n",
              "    .dataframe tbody tr th {\n",
              "        vertical-align: top;\n",
              "    }\n",
              "\n",
              "    .dataframe thead th {\n",
              "        text-align: right;\n",
              "    }\n",
              "</style>\n",
              "<table border=\"1\" class=\"dataframe\">\n",
              "  <thead>\n",
              "    <tr style=\"text-align: right;\">\n",
              "      <th></th>\n",
              "      <th>cust_id</th>\n",
              "      <th>tran_date</th>\n",
              "      <th>prod_subcat_code</th>\n",
              "      <th>prod_cat_code</th>\n",
              "      <th>qty</th>\n",
              "      <th>rate</th>\n",
              "      <th>tax</th>\n",
              "      <th>total_amt</th>\n",
              "      <th>store_type</th>\n",
              "    </tr>\n",
              "    <tr>\n",
              "      <th>transaction_id</th>\n",
              "      <th></th>\n",
              "      <th></th>\n",
              "      <th></th>\n",
              "      <th></th>\n",
              "      <th></th>\n",
              "      <th></th>\n",
              "      <th></th>\n",
              "      <th></th>\n",
              "      <th></th>\n",
              "    </tr>\n",
              "  </thead>\n",
              "  <tbody>\n",
              "    <tr>\n",
              "      <th>80712190438</th>\n",
              "      <td>270351</td>\n",
              "      <td>28-02-2014</td>\n",
              "      <td>1</td>\n",
              "      <td>1</td>\n",
              "      <td>-5</td>\n",
              "      <td>-772</td>\n",
              "      <td>405.300</td>\n",
              "      <td>-4265.300</td>\n",
              "      <td>1</td>\n",
              "    </tr>\n",
              "    <tr>\n",
              "      <th>29258453508</th>\n",
              "      <td>270384</td>\n",
              "      <td>27-02-2014</td>\n",
              "      <td>5</td>\n",
              "      <td>3</td>\n",
              "      <td>-5</td>\n",
              "      <td>-1497</td>\n",
              "      <td>785.925</td>\n",
              "      <td>-8270.925</td>\n",
              "      <td>1</td>\n",
              "    </tr>\n",
              "    <tr>\n",
              "      <th>51750724947</th>\n",
              "      <td>273420</td>\n",
              "      <td>24-02-2014</td>\n",
              "      <td>6</td>\n",
              "      <td>5</td>\n",
              "      <td>-2</td>\n",
              "      <td>-791</td>\n",
              "      <td>166.110</td>\n",
              "      <td>-1748.110</td>\n",
              "      <td>2</td>\n",
              "    </tr>\n",
              "    <tr>\n",
              "      <th>93274880719</th>\n",
              "      <td>271509</td>\n",
              "      <td>24-02-2014</td>\n",
              "      <td>11</td>\n",
              "      <td>6</td>\n",
              "      <td>-3</td>\n",
              "      <td>-1363</td>\n",
              "      <td>429.345</td>\n",
              "      <td>-4518.345</td>\n",
              "      <td>1</td>\n",
              "    </tr>\n",
              "    <tr>\n",
              "      <th>51750724947</th>\n",
              "      <td>273420</td>\n",
              "      <td>23-02-2014</td>\n",
              "      <td>6</td>\n",
              "      <td>5</td>\n",
              "      <td>-2</td>\n",
              "      <td>-791</td>\n",
              "      <td>166.110</td>\n",
              "      <td>-1748.110</td>\n",
              "      <td>2</td>\n",
              "    </tr>\n",
              "  </tbody>\n",
              "</table>\n",
              "</div>"
            ],
            "text/plain": [
              "                cust_id   tran_date  ...  total_amt  store_type\n",
              "transaction_id                       ...                       \n",
              "80712190438      270351  28-02-2014  ...  -4265.300           1\n",
              "29258453508      270384  27-02-2014  ...  -8270.925           1\n",
              "51750724947      273420  24-02-2014  ...  -1748.110           2\n",
              "93274880719      271509  24-02-2014  ...  -4518.345           1\n",
              "51750724947      273420  23-02-2014  ...  -1748.110           2\n",
              "\n",
              "[5 rows x 9 columns]"
            ]
          },
          "metadata": {
            "tags": []
          },
          "execution_count": 9
        }
      ]
    },
    {
      "cell_type": "markdown",
      "metadata": {
        "id": "nwyzTRTEZy1i"
      },
      "source": [
        "On va split la date (qui est en texte) en trois valeurs traitables (pas du texte quoi ^^)\n",
        "\n",
        "Pour ça on crée 3 fonctions qui splittent et renvoient un n-ième élément, et ensuite on l'applique au jeu de données avec un **apply**"
      ]
    },
    {
      "cell_type": "code",
      "metadata": {
        "id": "a8Ljh0d2lBnX"
      },
      "source": [
        "transactions = transactions[~transactions['tran_date'].str.contains(pat='/')]"
      ],
      "execution_count": 10,
      "outputs": []
    },
    {
      "cell_type": "markdown",
      "metadata": {
        "id": "aazjeihdeowI"
      },
      "source": [
        "**Nota Bene** belle galère car mon fichier n'est pas aussi clean, donc je dois enlever des trucs en plus avant que ça puisse passer...\n"
      ]
    },
    {
      "cell_type": "code",
      "metadata": {
        "colab": {
          "base_uri": "https://localhost:8080/"
        },
        "id": "K6icAD3je7Wq",
        "outputId": "e4a68c8c-afd3-4096-dcaf-1f28f53a1eac"
      },
      "source": [
        "transactions['tran_date'].isnull().values.any()"
      ],
      "execution_count": 34,
      "outputs": [
        {
          "output_type": "execute_result",
          "data": {
            "text/plain": [
              "False"
            ]
          },
          "metadata": {
            "tags": []
          },
          "execution_count": 34
        }
      ]
    },
    {
      "cell_type": "code",
      "metadata": {
        "colab": {
          "base_uri": "https://localhost:8080/",
          "height": 35
        },
        "id": "jAsz-Y_qcpEf",
        "outputId": "1e386f10-fc17-4e21-fccb-4454a81084dd"
      },
      "source": [
        "transactions['tran_date'].iloc[0].split('-')[2]"
      ],
      "execution_count": 24,
      "outputs": [
        {
          "output_type": "execute_result",
          "data": {
            "application/vnd.google.colaboratory.intrinsic+json": {
              "type": "string"
            },
            "text/plain": [
              "'2014'"
            ]
          },
          "metadata": {
            "tags": []
          },
          "execution_count": 24
        }
      ]
    },
    {
      "cell_type": "code",
      "metadata": {
        "id": "w2E0JZosbX9Y"
      },
      "source": [
        "def get_day(date) :\n",
        "    return date.split(\"-\")[0]\n",
        "\n"
      ],
      "execution_count": 11,
      "outputs": []
    },
    {
      "cell_type": "code",
      "metadata": {
        "id": "16YI7JJWeZZC"
      },
      "source": [
        "def get_month(date) :\n",
        "    return date.split(\"-\")[1]"
      ],
      "execution_count": 12,
      "outputs": []
    },
    {
      "cell_type": "code",
      "metadata": {
        "id": "Jwidc9gmebyA"
      },
      "source": [
        "def get_year(date) :\n",
        "    return date.split(\"-\")[1]"
      ],
      "execution_count": 13,
      "outputs": []
    },
    {
      "cell_type": "markdown",
      "metadata": {
        "id": "kHKwrYpflE5H"
      },
      "source": [
        "**ça marche une fois qu'on a filtré toutes les dates avec putain de /**"
      ]
    },
    {
      "cell_type": "code",
      "metadata": {
        "colab": {
          "base_uri": "https://localhost:8080/",
          "height": 580
        },
        "id": "-DoP_bo2eioT",
        "outputId": "aad39111-6c29-4b21-fbe1-5d075b01a2a5"
      },
      "source": [
        "transactions['day'], transactions['month'], transactions['year'] = transactions.tran_date.apply(get_day), transactions.tran_date.apply(get_month), transactions.tran_date.apply(get_year)\n",
        "transactions.head(10)"
      ],
      "execution_count": 14,
      "outputs": [
        {
          "output_type": "execute_result",
          "data": {
            "text/html": [
              "<div>\n",
              "<style scoped>\n",
              "    .dataframe tbody tr th:only-of-type {\n",
              "        vertical-align: middle;\n",
              "    }\n",
              "\n",
              "    .dataframe tbody tr th {\n",
              "        vertical-align: top;\n",
              "    }\n",
              "\n",
              "    .dataframe thead th {\n",
              "        text-align: right;\n",
              "    }\n",
              "</style>\n",
              "<table border=\"1\" class=\"dataframe\">\n",
              "  <thead>\n",
              "    <tr style=\"text-align: right;\">\n",
              "      <th></th>\n",
              "      <th>cust_id</th>\n",
              "      <th>tran_date</th>\n",
              "      <th>prod_subcat_code</th>\n",
              "      <th>prod_cat_code</th>\n",
              "      <th>qty</th>\n",
              "      <th>rate</th>\n",
              "      <th>tax</th>\n",
              "      <th>total_amt</th>\n",
              "      <th>store_type</th>\n",
              "      <th>day</th>\n",
              "      <th>month</th>\n",
              "      <th>year</th>\n",
              "    </tr>\n",
              "    <tr>\n",
              "      <th>transaction_id</th>\n",
              "      <th></th>\n",
              "      <th></th>\n",
              "      <th></th>\n",
              "      <th></th>\n",
              "      <th></th>\n",
              "      <th></th>\n",
              "      <th></th>\n",
              "      <th></th>\n",
              "      <th></th>\n",
              "      <th></th>\n",
              "      <th></th>\n",
              "      <th></th>\n",
              "    </tr>\n",
              "  </thead>\n",
              "  <tbody>\n",
              "    <tr>\n",
              "      <th>80712190438</th>\n",
              "      <td>270351</td>\n",
              "      <td>28-02-2014</td>\n",
              "      <td>1</td>\n",
              "      <td>1</td>\n",
              "      <td>-5</td>\n",
              "      <td>-772</td>\n",
              "      <td>405.300</td>\n",
              "      <td>-4265.300</td>\n",
              "      <td>1</td>\n",
              "      <td>28</td>\n",
              "      <td>02</td>\n",
              "      <td>02</td>\n",
              "    </tr>\n",
              "    <tr>\n",
              "      <th>29258453508</th>\n",
              "      <td>270384</td>\n",
              "      <td>27-02-2014</td>\n",
              "      <td>5</td>\n",
              "      <td>3</td>\n",
              "      <td>-5</td>\n",
              "      <td>-1497</td>\n",
              "      <td>785.925</td>\n",
              "      <td>-8270.925</td>\n",
              "      <td>1</td>\n",
              "      <td>27</td>\n",
              "      <td>02</td>\n",
              "      <td>02</td>\n",
              "    </tr>\n",
              "    <tr>\n",
              "      <th>51750724947</th>\n",
              "      <td>273420</td>\n",
              "      <td>24-02-2014</td>\n",
              "      <td>6</td>\n",
              "      <td>5</td>\n",
              "      <td>-2</td>\n",
              "      <td>-791</td>\n",
              "      <td>166.110</td>\n",
              "      <td>-1748.110</td>\n",
              "      <td>2</td>\n",
              "      <td>24</td>\n",
              "      <td>02</td>\n",
              "      <td>02</td>\n",
              "    </tr>\n",
              "    <tr>\n",
              "      <th>93274880719</th>\n",
              "      <td>271509</td>\n",
              "      <td>24-02-2014</td>\n",
              "      <td>11</td>\n",
              "      <td>6</td>\n",
              "      <td>-3</td>\n",
              "      <td>-1363</td>\n",
              "      <td>429.345</td>\n",
              "      <td>-4518.345</td>\n",
              "      <td>1</td>\n",
              "      <td>24</td>\n",
              "      <td>02</td>\n",
              "      <td>02</td>\n",
              "    </tr>\n",
              "    <tr>\n",
              "      <th>51750724947</th>\n",
              "      <td>273420</td>\n",
              "      <td>23-02-2014</td>\n",
              "      <td>6</td>\n",
              "      <td>5</td>\n",
              "      <td>-2</td>\n",
              "      <td>-791</td>\n",
              "      <td>166.110</td>\n",
              "      <td>-1748.110</td>\n",
              "      <td>2</td>\n",
              "      <td>23</td>\n",
              "      <td>02</td>\n",
              "      <td>02</td>\n",
              "    </tr>\n",
              "    <tr>\n",
              "      <th>97439039119</th>\n",
              "      <td>272357</td>\n",
              "      <td>23-02-2014</td>\n",
              "      <td>8</td>\n",
              "      <td>3</td>\n",
              "      <td>-2</td>\n",
              "      <td>-824</td>\n",
              "      <td>173.040</td>\n",
              "      <td>-1821.040</td>\n",
              "      <td>2</td>\n",
              "      <td>23</td>\n",
              "      <td>02</td>\n",
              "      <td>02</td>\n",
              "    </tr>\n",
              "    <tr>\n",
              "      <th>45649838090</th>\n",
              "      <td>273667</td>\n",
              "      <td>22-02-2014</td>\n",
              "      <td>11</td>\n",
              "      <td>6</td>\n",
              "      <td>-1</td>\n",
              "      <td>-1450</td>\n",
              "      <td>152.250</td>\n",
              "      <td>-1602.250</td>\n",
              "      <td>1</td>\n",
              "      <td>22</td>\n",
              "      <td>02</td>\n",
              "      <td>02</td>\n",
              "    </tr>\n",
              "    <tr>\n",
              "      <th>22643667930</th>\n",
              "      <td>271489</td>\n",
              "      <td>22-02-2014</td>\n",
              "      <td>12</td>\n",
              "      <td>6</td>\n",
              "      <td>-1</td>\n",
              "      <td>-1225</td>\n",
              "      <td>128.625</td>\n",
              "      <td>-1353.625</td>\n",
              "      <td>2</td>\n",
              "      <td>22</td>\n",
              "      <td>02</td>\n",
              "      <td>02</td>\n",
              "    </tr>\n",
              "    <tr>\n",
              "      <th>79792372943</th>\n",
              "      <td>275108</td>\n",
              "      <td>22-02-2014</td>\n",
              "      <td>3</td>\n",
              "      <td>1</td>\n",
              "      <td>-3</td>\n",
              "      <td>-908</td>\n",
              "      <td>286.020</td>\n",
              "      <td>-3010.020</td>\n",
              "      <td>3</td>\n",
              "      <td>22</td>\n",
              "      <td>02</td>\n",
              "      <td>02</td>\n",
              "    </tr>\n",
              "    <tr>\n",
              "      <th>50076728598</th>\n",
              "      <td>269014</td>\n",
              "      <td>21-02-2014</td>\n",
              "      <td>8</td>\n",
              "      <td>3</td>\n",
              "      <td>-4</td>\n",
              "      <td>-581</td>\n",
              "      <td>244.020</td>\n",
              "      <td>-2568.020</td>\n",
              "      <td>1</td>\n",
              "      <td>21</td>\n",
              "      <td>02</td>\n",
              "      <td>02</td>\n",
              "    </tr>\n",
              "  </tbody>\n",
              "</table>\n",
              "</div>"
            ],
            "text/plain": [
              "                cust_id   tran_date  prod_subcat_code  ...  day  month  year\n",
              "transaction_id                                         ...                  \n",
              "80712190438      270351  28-02-2014                 1  ...   28     02    02\n",
              "29258453508      270384  27-02-2014                 5  ...   27     02    02\n",
              "51750724947      273420  24-02-2014                 6  ...   24     02    02\n",
              "93274880719      271509  24-02-2014                11  ...   24     02    02\n",
              "51750724947      273420  23-02-2014                 6  ...   23     02    02\n",
              "97439039119      272357  23-02-2014                 8  ...   23     02    02\n",
              "45649838090      273667  22-02-2014                11  ...   22     02    02\n",
              "22643667930      271489  22-02-2014                12  ...   22     02    02\n",
              "79792372943      275108  22-02-2014                 3  ...   22     02    02\n",
              "50076728598      269014  21-02-2014                 8  ...   21     02    02\n",
              "\n",
              "[10 rows x 12 columns]"
            ]
          },
          "metadata": {
            "tags": []
          },
          "execution_count": 14
        }
      ]
    },
    {
      "cell_type": "code",
      "metadata": {
        "id": "0kcn0gg9fZ28"
      },
      "source": [
        "#days = transactions['tran_date'].apply(get_day)\n"
      ],
      "execution_count": 36,
      "outputs": []
    },
    {
      "cell_type": "code",
      "metadata": {
        "id": "v0VfpV0Vfeqa"
      },
      "source": [
        "#months = transactions['tran_date'].apply(get_month)"
      ],
      "execution_count": null,
      "outputs": []
    },
    {
      "cell_type": "code",
      "metadata": {
        "id": "qMNPIxSzfgLc"
      },
      "source": [
        "#years = transactions['tran_date'].apply(get_year)"
      ],
      "execution_count": null,
      "outputs": []
    },
    {
      "cell_type": "markdown",
      "metadata": {
        "id": "fPthFDrbfwH2"
      },
      "source": [
        "Je perds patience mais il semble que certaines dates n'aient pas le bon format / longueur"
      ]
    },
    {
      "cell_type": "code",
      "metadata": {
        "colab": {
          "base_uri": "https://localhost:8080/"
        },
        "id": "q43Q-oyHf0Jf",
        "outputId": "37300be3-06fe-46fe-bf99-3cb92b6db177"
      },
      "source": [
        "transactions['tran_date'].sort_values( key = lambda x: x.str.len())"
      ],
      "execution_count": 41,
      "outputs": [
        {
          "output_type": "execute_result",
          "data": {
            "text/plain": [
              "transaction_id\n",
              "71286190189      5/9/2011\n",
              "76929396378      8/4/2013\n",
              "79507616107      8/4/2013\n",
              "64276885615      8/4/2013\n",
              "6539826915       8/4/2013\n",
              "                  ...    \n",
              "7199499669     19-11-2012\n",
              "32511506570    19-11-2012\n",
              "35525966352    19-11-2012\n",
              "99959918143    19-11-2012\n",
              "77960931771    25-01-2011\n",
              "Name: tran_date, Length: 23040, dtype: object"
            ]
          },
          "metadata": {
            "tags": []
          },
          "execution_count": 41
        }
      ]
    },
    {
      "cell_type": "markdown",
      "metadata": {
        "id": "rIuT3_q9gNBE"
      },
      "source": [
        "OK y a des dates qui ont des **putain de / de mes deux**, forcément, en split sur **-** ben ça passe pas ><\n",
        "\n",
        "Faudrait filtrer et tout et tout, mais pour l'instant, je passe...\n",
        "\n",
        "Ou alors, petit détour vite fait..."
      ]
    },
    {
      "cell_type": "code",
      "metadata": {
        "colab": {
          "base_uri": "https://localhost:8080/"
        },
        "id": "axyRFAIPhV3h",
        "outputId": "5832f1d1-83c5-402c-c485-c776563102a4"
      },
      "source": [
        "y_a_un_slash = transactions['tran_date'].str.contains(pat = '/')\n",
        "y_a_un_slash"
      ],
      "execution_count": 44,
      "outputs": [
        {
          "output_type": "execute_result",
          "data": {
            "text/plain": [
              "transaction_id\n",
              "71286190189     True\n",
              "76929396378     True\n",
              "79507616107     True\n",
              "64276885615     True\n",
              "6539826915      True\n",
              "               ...  \n",
              "7199499669     False\n",
              "32511506570    False\n",
              "35525966352    False\n",
              "99959918143    False\n",
              "77960931771    False\n",
              "Name: tran_date, Length: 23040, dtype: bool"
            ]
          },
          "metadata": {
            "tags": []
          },
          "execution_count": 44
        }
      ]
    },
    {
      "cell_type": "code",
      "metadata": {
        "id": "921zrxDqiR0z"
      },
      "source": [
        "#transactions2 = transactions[~transactions['tran_date'].str.contains(pat='/')]"
      ],
      "execution_count": 48,
      "outputs": []
    },
    {
      "cell_type": "code",
      "metadata": {
        "colab": {
          "base_uri": "https://localhost:8080/",
          "height": 317
        },
        "id": "HVthSXVTk5Qj",
        "outputId": "04a51a4d-0316-4c3a-d4f3-5aa2f9add580"
      },
      "source": [
        "#transactions2.describe()"
      ],
      "execution_count": 49,
      "outputs": [
        {
          "output_type": "execute_result",
          "data": {
            "text/html": [
              "<div>\n",
              "<style scoped>\n",
              "    .dataframe tbody tr th:only-of-type {\n",
              "        vertical-align: middle;\n",
              "    }\n",
              "\n",
              "    .dataframe tbody tr th {\n",
              "        vertical-align: top;\n",
              "    }\n",
              "\n",
              "    .dataframe thead th {\n",
              "        text-align: right;\n",
              "    }\n",
              "</style>\n",
              "<table border=\"1\" class=\"dataframe\">\n",
              "  <thead>\n",
              "    <tr style=\"text-align: right;\">\n",
              "      <th></th>\n",
              "      <th>cust_id</th>\n",
              "      <th>prod_subcat_code</th>\n",
              "      <th>prod_cat_code</th>\n",
              "      <th>qty</th>\n",
              "      <th>rate</th>\n",
              "      <th>tax</th>\n",
              "      <th>total_amt</th>\n",
              "      <th>store_type</th>\n",
              "    </tr>\n",
              "  </thead>\n",
              "  <tbody>\n",
              "    <tr>\n",
              "      <th>count</th>\n",
              "      <td>13918.000000</td>\n",
              "      <td>13918.000000</td>\n",
              "      <td>13918.000000</td>\n",
              "      <td>13918.000000</td>\n",
              "      <td>13918.000000</td>\n",
              "      <td>13918.000000</td>\n",
              "      <td>13918.000000</td>\n",
              "      <td>13918.000000</td>\n",
              "    </tr>\n",
              "    <tr>\n",
              "      <th>mean</th>\n",
              "      <td>271043.425277</td>\n",
              "      <td>6.122288</td>\n",
              "      <td>3.759520</td>\n",
              "      <td>2.434401</td>\n",
              "      <td>635.744504</td>\n",
              "      <td>249.997395</td>\n",
              "      <td>2114.047129</td>\n",
              "      <td>2.201466</td>\n",
              "    </tr>\n",
              "    <tr>\n",
              "      <th>std</th>\n",
              "      <td>2428.196652</td>\n",
              "      <td>3.732157</td>\n",
              "      <td>1.683648</td>\n",
              "      <td>2.274470</td>\n",
              "      <td>625.718711</td>\n",
              "      <td>187.731059</td>\n",
              "      <td>2521.095774</td>\n",
              "      <td>1.166313</td>\n",
              "    </tr>\n",
              "    <tr>\n",
              "      <th>min</th>\n",
              "      <td>266783.000000</td>\n",
              "      <td>1.000000</td>\n",
              "      <td>1.000000</td>\n",
              "      <td>-5.000000</td>\n",
              "      <td>-1499.000000</td>\n",
              "      <td>7.350000</td>\n",
              "      <td>-8270.925000</td>\n",
              "      <td>1.000000</td>\n",
              "    </tr>\n",
              "    <tr>\n",
              "      <th>25%</th>\n",
              "      <td>268969.000000</td>\n",
              "      <td>3.000000</td>\n",
              "      <td>2.000000</td>\n",
              "      <td>1.000000</td>\n",
              "      <td>310.000000</td>\n",
              "      <td>98.175000</td>\n",
              "      <td>762.450000</td>\n",
              "      <td>1.000000</td>\n",
              "    </tr>\n",
              "    <tr>\n",
              "      <th>50%</th>\n",
              "      <td>271027.000000</td>\n",
              "      <td>5.000000</td>\n",
              "      <td>4.000000</td>\n",
              "      <td>3.000000</td>\n",
              "      <td>713.000000</td>\n",
              "      <td>201.967500</td>\n",
              "      <td>1763.580000</td>\n",
              "      <td>2.000000</td>\n",
              "    </tr>\n",
              "    <tr>\n",
              "      <th>75%</th>\n",
              "      <td>273121.750000</td>\n",
              "      <td>10.000000</td>\n",
              "      <td>5.000000</td>\n",
              "      <td>4.000000</td>\n",
              "      <td>1112.750000</td>\n",
              "      <td>368.707500</td>\n",
              "      <td>3606.720000</td>\n",
              "      <td>3.000000</td>\n",
              "    </tr>\n",
              "    <tr>\n",
              "      <th>max</th>\n",
              "      <td>275265.000000</td>\n",
              "      <td>12.000000</td>\n",
              "      <td>6.000000</td>\n",
              "      <td>5.000000</td>\n",
              "      <td>1500.000000</td>\n",
              "      <td>787.500000</td>\n",
              "      <td>8287.500000</td>\n",
              "      <td>4.000000</td>\n",
              "    </tr>\n",
              "  </tbody>\n",
              "</table>\n",
              "</div>"
            ],
            "text/plain": [
              "             cust_id  prod_subcat_code  ...     total_amt    store_type\n",
              "count   13918.000000      13918.000000  ...  13918.000000  13918.000000\n",
              "mean   271043.425277          6.122288  ...   2114.047129      2.201466\n",
              "std      2428.196652          3.732157  ...   2521.095774      1.166313\n",
              "min    266783.000000          1.000000  ...  -8270.925000      1.000000\n",
              "25%    268969.000000          3.000000  ...    762.450000      1.000000\n",
              "50%    271027.000000          5.000000  ...   1763.580000      2.000000\n",
              "75%    273121.750000         10.000000  ...   3606.720000      3.000000\n",
              "max    275265.000000         12.000000  ...   8287.500000      4.000000\n",
              "\n",
              "[8 rows x 8 columns]"
            ]
          },
          "metadata": {
            "tags": []
          },
          "execution_count": 49
        }
      ]
    },
    {
      "cell_type": "markdown",
      "metadata": {
        "id": "RVNtjw__gh5T"
      },
      "source": [
        "Petite manip de row etc etc"
      ]
    },
    {
      "cell_type": "code",
      "metadata": {
        "colab": {
          "base_uri": "https://localhost:8080/"
        },
        "id": "2PkWR0FqLQJu",
        "outputId": "2761f00d-dd7c-42d4-d492-49e103398cec"
      },
      "source": [
        "transactions['prod_cat'] = transactions.astype('str').apply(lambda row: row['prod_cat_code']+'-'+row['prod_subcat_code'],\n",
        "                                                            axis = 1)\n",
        "print(transactions['prod_cat'])"
      ],
      "execution_count": 15,
      "outputs": [
        {
          "output_type": "stream",
          "text": [
            "transaction_id\n",
            "80712190438     1-1\n",
            "29258453508     3-5\n",
            "51750724947     5-6\n",
            "93274880719    6-11\n",
            "51750724947     5-6\n",
            "               ... \n",
            "94340757522    5-12\n",
            "89780862956     1-4\n",
            "85115299378     6-2\n",
            "72870271171    5-11\n",
            "77960931771    5-11\n",
            "Name: prod_cat, Length: 13918, dtype: object\n"
          ],
          "name": "stdout"
        }
      ]
    },
    {
      "cell_type": "markdown",
      "metadata": {
        "id": "dTX18U11LLNe"
      },
      "source": [
        "Vite fait les valeurs manquantes (*el classico*)"
      ]
    },
    {
      "cell_type": "markdown",
      "metadata": {
        "id": "Md7IERsBNbqI"
      },
      "source": [
        "Avec primo une relance"
      ]
    },
    {
      "cell_type": "code",
      "metadata": {
        "id": "ZqS1FIhYNdy9"
      },
      "source": [
        "url = 'https://raw.githubusercontent.com/federicoding/TrainingGeneral/main/Transactions.csv'\n",
        "transactions = pd.read_csv(filepath_or_buffer=url, sep=',', header=0, index_col=\"transaction_id\")\n",
        "\n",
        "transactions = transactions.drop_duplicates(keep = 'first')"
      ],
      "execution_count": 24,
      "outputs": []
    },
    {
      "cell_type": "code",
      "metadata": {
        "colab": {
          "base_uri": "https://localhost:8080/",
          "height": 340
        },
        "id": "6C8yfWuJNkMn",
        "outputId": "fa319183-c4e2-48af-88e1-fe63f69f6ea6"
      },
      "source": [
        "new_names = {'Store_type'  : 'store_type',\n",
        "              'Qty'        : 'qty',\n",
        "              'Rate'       : 'rate',\n",
        "              'Tax'        : 'tax'}\n",
        "\n",
        "transactions = transactions.rename(new_names, axis = 1)\n",
        "\n",
        "transactions.head()"
      ],
      "execution_count": 25,
      "outputs": [
        {
          "output_type": "execute_result",
          "data": {
            "text/html": [
              "<div>\n",
              "<style scoped>\n",
              "    .dataframe tbody tr th:only-of-type {\n",
              "        vertical-align: middle;\n",
              "    }\n",
              "\n",
              "    .dataframe tbody tr th {\n",
              "        vertical-align: top;\n",
              "    }\n",
              "\n",
              "    .dataframe thead th {\n",
              "        text-align: right;\n",
              "    }\n",
              "</style>\n",
              "<table border=\"1\" class=\"dataframe\">\n",
              "  <thead>\n",
              "    <tr style=\"text-align: right;\">\n",
              "      <th></th>\n",
              "      <th>cust_id</th>\n",
              "      <th>tran_date</th>\n",
              "      <th>prod_subcat_code</th>\n",
              "      <th>prod_cat_code</th>\n",
              "      <th>qty</th>\n",
              "      <th>rate</th>\n",
              "      <th>tax</th>\n",
              "      <th>total_amt</th>\n",
              "      <th>store_type</th>\n",
              "    </tr>\n",
              "    <tr>\n",
              "      <th>transaction_id</th>\n",
              "      <th></th>\n",
              "      <th></th>\n",
              "      <th></th>\n",
              "      <th></th>\n",
              "      <th></th>\n",
              "      <th></th>\n",
              "      <th></th>\n",
              "      <th></th>\n",
              "      <th></th>\n",
              "    </tr>\n",
              "  </thead>\n",
              "  <tbody>\n",
              "    <tr>\n",
              "      <th>80712190438</th>\n",
              "      <td>270351</td>\n",
              "      <td>28-02-2014</td>\n",
              "      <td>1</td>\n",
              "      <td>1</td>\n",
              "      <td>-5</td>\n",
              "      <td>-772</td>\n",
              "      <td>405.300</td>\n",
              "      <td>-4265.300</td>\n",
              "      <td>e-Shop</td>\n",
              "    </tr>\n",
              "    <tr>\n",
              "      <th>29258453508</th>\n",
              "      <td>270384</td>\n",
              "      <td>27-02-2014</td>\n",
              "      <td>5</td>\n",
              "      <td>3</td>\n",
              "      <td>-5</td>\n",
              "      <td>-1497</td>\n",
              "      <td>785.925</td>\n",
              "      <td>-8270.925</td>\n",
              "      <td>e-Shop</td>\n",
              "    </tr>\n",
              "    <tr>\n",
              "      <th>51750724947</th>\n",
              "      <td>273420</td>\n",
              "      <td>24-02-2014</td>\n",
              "      <td>6</td>\n",
              "      <td>5</td>\n",
              "      <td>-2</td>\n",
              "      <td>-791</td>\n",
              "      <td>166.110</td>\n",
              "      <td>-1748.110</td>\n",
              "      <td>TeleShop</td>\n",
              "    </tr>\n",
              "    <tr>\n",
              "      <th>93274880719</th>\n",
              "      <td>271509</td>\n",
              "      <td>24-02-2014</td>\n",
              "      <td>11</td>\n",
              "      <td>6</td>\n",
              "      <td>-3</td>\n",
              "      <td>-1363</td>\n",
              "      <td>429.345</td>\n",
              "      <td>-4518.345</td>\n",
              "      <td>e-Shop</td>\n",
              "    </tr>\n",
              "    <tr>\n",
              "      <th>51750724947</th>\n",
              "      <td>273420</td>\n",
              "      <td>23-02-2014</td>\n",
              "      <td>6</td>\n",
              "      <td>5</td>\n",
              "      <td>-2</td>\n",
              "      <td>-791</td>\n",
              "      <td>166.110</td>\n",
              "      <td>-1748.110</td>\n",
              "      <td>TeleShop</td>\n",
              "    </tr>\n",
              "  </tbody>\n",
              "</table>\n",
              "</div>"
            ],
            "text/plain": [
              "                cust_id   tran_date  ...  total_amt  store_type\n",
              "transaction_id                       ...                       \n",
              "80712190438      270351  28-02-2014  ...  -4265.300      e-Shop\n",
              "29258453508      270384  27-02-2014  ...  -8270.925      e-Shop\n",
              "51750724947      273420  24-02-2014  ...  -1748.110    TeleShop\n",
              "93274880719      271509  24-02-2014  ...  -4518.345      e-Shop\n",
              "51750724947      273420  23-02-2014  ...  -1748.110    TeleShop\n",
              "\n",
              "[5 rows x 9 columns]"
            ]
          },
          "metadata": {
            "tags": []
          },
          "execution_count": 25
        }
      ]
    },
    {
      "cell_type": "markdown",
      "metadata": {
        "id": "0CRzDWaxMBtq"
      },
      "source": [
        "Detection des **colonnes** avec **au moins une NA**"
      ]
    },
    {
      "cell_type": "code",
      "metadata": {
        "colab": {
          "base_uri": "https://localhost:8080/"
        },
        "id": "GdERxuDCLyRe",
        "outputId": "453f3f1e-1754-4dec-b72b-bf2dcc8fe05d"
      },
      "source": [
        "transactions.isna().any(axis=0)"
      ],
      "execution_count": 26,
      "outputs": [
        {
          "output_type": "execute_result",
          "data": {
            "text/plain": [
              "cust_id             False\n",
              "tran_date           False\n",
              "prod_subcat_code    False\n",
              "prod_cat_code       False\n",
              "qty                 False\n",
              "rate                False\n",
              "tax                 False\n",
              "total_amt           False\n",
              "store_type          False\n",
              "dtype: bool"
            ]
          },
          "metadata": {
            "tags": []
          },
          "execution_count": 26
        }
      ]
    },
    {
      "cell_type": "markdown",
      "metadata": {
        "id": "78N_cPRnMOI4"
      },
      "source": [
        "Detection des **lignes** avec **au moins une NA** "
      ]
    },
    {
      "cell_type": "code",
      "metadata": {
        "colab": {
          "base_uri": "https://localhost:8080/"
        },
        "id": "vFO7mcTeMLM5",
        "outputId": "c0eeb57c-587c-461a-9681-433fa0e1a044"
      },
      "source": [
        "transactions.isna().any(axis=1)"
      ],
      "execution_count": 27,
      "outputs": [
        {
          "output_type": "execute_result",
          "data": {
            "text/plain": [
              "transaction_id\n",
              "80712190438    False\n",
              "29258453508    False\n",
              "51750724947    False\n",
              "93274880719    False\n",
              "51750724947    False\n",
              "               ...  \n",
              "94340757522    False\n",
              "89780862956    False\n",
              "85115299378    False\n",
              "72870271171    False\n",
              "77960931771    False\n",
              "Length: 23040, dtype: bool"
            ]
          },
          "metadata": {
            "tags": []
          },
          "execution_count": 27
        }
      ]
    },
    {
      "cell_type": "markdown",
      "metadata": {
        "id": "yBe4ZlAZMhcV"
      },
      "source": [
        "Affichage des **entrées contenant des NA**"
      ]
    },
    {
      "cell_type": "code",
      "metadata": {
        "colab": {
          "base_uri": "https://localhost:8080/",
          "height": 100
        },
        "id": "oh5Ci5-IMkjg",
        "outputId": "3a1f0716-1e98-44a8-812b-0d22b66e925c"
      },
      "source": [
        "transactions[transactions.isna().any(axis=1)]"
      ],
      "execution_count": 28,
      "outputs": [
        {
          "output_type": "execute_result",
          "data": {
            "text/html": [
              "<div>\n",
              "<style scoped>\n",
              "    .dataframe tbody tr th:only-of-type {\n",
              "        vertical-align: middle;\n",
              "    }\n",
              "\n",
              "    .dataframe tbody tr th {\n",
              "        vertical-align: top;\n",
              "    }\n",
              "\n",
              "    .dataframe thead th {\n",
              "        text-align: right;\n",
              "    }\n",
              "</style>\n",
              "<table border=\"1\" class=\"dataframe\">\n",
              "  <thead>\n",
              "    <tr style=\"text-align: right;\">\n",
              "      <th></th>\n",
              "      <th>cust_id</th>\n",
              "      <th>tran_date</th>\n",
              "      <th>prod_subcat_code</th>\n",
              "      <th>prod_cat_code</th>\n",
              "      <th>qty</th>\n",
              "      <th>rate</th>\n",
              "      <th>tax</th>\n",
              "      <th>total_amt</th>\n",
              "      <th>store_type</th>\n",
              "    </tr>\n",
              "    <tr>\n",
              "      <th>transaction_id</th>\n",
              "      <th></th>\n",
              "      <th></th>\n",
              "      <th></th>\n",
              "      <th></th>\n",
              "      <th></th>\n",
              "      <th></th>\n",
              "      <th></th>\n",
              "      <th></th>\n",
              "      <th></th>\n",
              "    </tr>\n",
              "  </thead>\n",
              "  <tbody>\n",
              "  </tbody>\n",
              "</table>\n",
              "</div>"
            ],
            "text/plain": [
              "Empty DataFrame\n",
              "Columns: [cust_id, tran_date, prod_subcat_code, prod_cat_code, qty, rate, tax, total_amt, store_type]\n",
              "Index: []"
            ]
          },
          "metadata": {
            "tags": []
          },
          "execution_count": 28
        }
      ]
    },
    {
      "cell_type": "markdown",
      "metadata": {
        "id": "QWEE3EGLMva2"
      },
      "source": [
        "**Comptage** du **nb de NA** dans une **colonne**"
      ]
    },
    {
      "cell_type": "code",
      "metadata": {
        "colab": {
          "base_uri": "https://localhost:8080/"
        },
        "id": "6gbCmf_VMr5K",
        "outputId": "76335d94-3cc0-47ee-e250-73d7ca723535"
      },
      "source": [
        "transactions.isnull().sum(axis=0)"
      ],
      "execution_count": 29,
      "outputs": [
        {
          "output_type": "execute_result",
          "data": {
            "text/plain": [
              "cust_id             0\n",
              "tran_date           0\n",
              "prod_subcat_code    0\n",
              "prod_cat_code       0\n",
              "qty                 0\n",
              "rate                0\n",
              "tax                 0\n",
              "total_amt           0\n",
              "store_type          0\n",
              "dtype: int64"
            ]
          },
          "metadata": {
            "tags": []
          },
          "execution_count": 29
        }
      ]
    },
    {
      "cell_type": "markdown",
      "metadata": {
        "id": "z3GpdjJFM_TE"
      },
      "source": [
        "**Comptage** du **nb de NA** par **ligne**"
      ]
    },
    {
      "cell_type": "code",
      "metadata": {
        "colab": {
          "base_uri": "https://localhost:8080/"
        },
        "id": "OEw108wJM4_n",
        "outputId": "a4a9d078-abf6-4ec3-8b52-36958ada8c51"
      },
      "source": [
        "transactions.isnull().sum(axis=1)"
      ],
      "execution_count": 30,
      "outputs": [
        {
          "output_type": "execute_result",
          "data": {
            "text/plain": [
              "transaction_id\n",
              "80712190438    0\n",
              "29258453508    0\n",
              "51750724947    0\n",
              "93274880719    0\n",
              "51750724947    0\n",
              "              ..\n",
              "94340757522    0\n",
              "89780862956    0\n",
              "85115299378    0\n",
              "72870271171    0\n",
              "77960931771    0\n",
              "Length: 23040, dtype: int64"
            ]
          },
          "metadata": {
            "tags": []
          },
          "execution_count": 30
        }
      ]
    },
    {
      "cell_type": "code",
      "metadata": {
        "colab": {
          "base_uri": "https://localhost:8080/",
          "height": 351
        },
        "id": "tQvjkO5MNQKL",
        "outputId": "f6e1f11d-7437-4456-8c22-aaa6a1fddb80"
      },
      "source": [
        "transactions.isna()\n",
        "print(transactions.isna().any(axis=0).sum(),\" colonnes contiennent des valeurs manquantes.\")\n",
        "print(transactions.isna().any(axis=1).sum(),\" lignes contiennent des valeurs manquantes.\")\n",
        "transactions.describe()"
      ],
      "execution_count": 31,
      "outputs": [
        {
          "output_type": "stream",
          "text": [
            "0  colonnes contiennent des valeurs manquantes.\n",
            "0  lignes contiennent des valeurs manquantes.\n"
          ],
          "name": "stdout"
        },
        {
          "output_type": "execute_result",
          "data": {
            "text/html": [
              "<div>\n",
              "<style scoped>\n",
              "    .dataframe tbody tr th:only-of-type {\n",
              "        vertical-align: middle;\n",
              "    }\n",
              "\n",
              "    .dataframe tbody tr th {\n",
              "        vertical-align: top;\n",
              "    }\n",
              "\n",
              "    .dataframe thead th {\n",
              "        text-align: right;\n",
              "    }\n",
              "</style>\n",
              "<table border=\"1\" class=\"dataframe\">\n",
              "  <thead>\n",
              "    <tr style=\"text-align: right;\">\n",
              "      <th></th>\n",
              "      <th>cust_id</th>\n",
              "      <th>prod_subcat_code</th>\n",
              "      <th>prod_cat_code</th>\n",
              "      <th>qty</th>\n",
              "      <th>rate</th>\n",
              "      <th>tax</th>\n",
              "      <th>total_amt</th>\n",
              "    </tr>\n",
              "  </thead>\n",
              "  <tbody>\n",
              "    <tr>\n",
              "      <th>count</th>\n",
              "      <td>23040.000000</td>\n",
              "      <td>23040.000000</td>\n",
              "      <td>23040.000000</td>\n",
              "      <td>23040.000000</td>\n",
              "      <td>23040.000000</td>\n",
              "      <td>23040.000000</td>\n",
              "      <td>23040.000000</td>\n",
              "    </tr>\n",
              "    <tr>\n",
              "      <th>mean</th>\n",
              "      <td>271021.880252</td>\n",
              "      <td>6.148785</td>\n",
              "      <td>3.763498</td>\n",
              "      <td>2.435764</td>\n",
              "      <td>637.094965</td>\n",
              "      <td>248.677488</td>\n",
              "      <td>2109.865226</td>\n",
              "    </tr>\n",
              "    <tr>\n",
              "      <th>std</th>\n",
              "      <td>2431.573668</td>\n",
              "      <td>3.726197</td>\n",
              "      <td>1.677091</td>\n",
              "      <td>2.264326</td>\n",
              "      <td>621.727374</td>\n",
              "      <td>187.188311</td>\n",
              "      <td>2505.610295</td>\n",
              "    </tr>\n",
              "    <tr>\n",
              "      <th>min</th>\n",
              "      <td>266783.000000</td>\n",
              "      <td>1.000000</td>\n",
              "      <td>1.000000</td>\n",
              "      <td>-5.000000</td>\n",
              "      <td>-1499.000000</td>\n",
              "      <td>7.350000</td>\n",
              "      <td>-8270.925000</td>\n",
              "    </tr>\n",
              "    <tr>\n",
              "      <th>25%</th>\n",
              "      <td>268935.000000</td>\n",
              "      <td>3.000000</td>\n",
              "      <td>2.000000</td>\n",
              "      <td>1.000000</td>\n",
              "      <td>312.000000</td>\n",
              "      <td>98.280000</td>\n",
              "      <td>762.450000</td>\n",
              "    </tr>\n",
              "    <tr>\n",
              "      <th>50%</th>\n",
              "      <td>270980.500000</td>\n",
              "      <td>5.000000</td>\n",
              "      <td>4.000000</td>\n",
              "      <td>3.000000</td>\n",
              "      <td>710.000000</td>\n",
              "      <td>199.080000</td>\n",
              "      <td>1756.950000</td>\n",
              "    </tr>\n",
              "    <tr>\n",
              "      <th>75%</th>\n",
              "      <td>273114.250000</td>\n",
              "      <td>10.000000</td>\n",
              "      <td>5.000000</td>\n",
              "      <td>4.000000</td>\n",
              "      <td>1109.000000</td>\n",
              "      <td>365.767500</td>\n",
              "      <td>3570.255000</td>\n",
              "    </tr>\n",
              "    <tr>\n",
              "      <th>max</th>\n",
              "      <td>275265.000000</td>\n",
              "      <td>12.000000</td>\n",
              "      <td>6.000000</td>\n",
              "      <td>5.000000</td>\n",
              "      <td>1500.000000</td>\n",
              "      <td>787.500000</td>\n",
              "      <td>8287.500000</td>\n",
              "    </tr>\n",
              "  </tbody>\n",
              "</table>\n",
              "</div>"
            ],
            "text/plain": [
              "             cust_id  prod_subcat_code  ...           tax     total_amt\n",
              "count   23040.000000      23040.000000  ...  23040.000000  23040.000000\n",
              "mean   271021.880252          6.148785  ...    248.677488   2109.865226\n",
              "std      2431.573668          3.726197  ...    187.188311   2505.610295\n",
              "min    266783.000000          1.000000  ...      7.350000  -8270.925000\n",
              "25%    268935.000000          3.000000  ...     98.280000    762.450000\n",
              "50%    270980.500000          5.000000  ...    199.080000   1756.950000\n",
              "75%    273114.250000         10.000000  ...    365.767500   3570.255000\n",
              "max    275265.000000         12.000000  ...    787.500000   8287.500000\n",
              "\n",
              "[8 rows x 7 columns]"
            ]
          },
          "metadata": {
            "tags": []
          },
          "execution_count": 31
        }
      ]
    },
    {
      "cell_type": "markdown",
      "metadata": {
        "id": "E-T4vj2KN8kF"
      },
      "source": [
        "**Remplacement** des **NA**\n",
        "\n",
        "Méthode **fillna()**\n",
        "\n",
        "Pour les colonnes de **type numérique**:\n",
        "\n",
        "*   Par une valeur constante: df.fillna(0)\n",
        "*   Par la moyenne (*e.g.*): df.fillna(df.mean())\n",
        "*   On peut aussi par la médiane (utiliser **median**) ou par le min/max (utiliser **min**/**max**)\n",
        "\n",
        "Pour les colonnes de **type catégorielle**\n",
        "\n",
        "*   Par le **mode**, *i.e.* la modalité la plus fréquente (utiliser **mode**)\n",
        "*   Par une constante ou catégorie arbitraire: 0, -1\n",
        "\n",
        "Faire attention à bien travailler sur la colonne cible, sinon c'est le bordel."
      ]
    },
    {
      "cell_type": "markdown",
      "metadata": {
        "id": "BMONKxlQOBYZ"
      },
      "source": [
        "**Suppression** des valeurs manquantes **NA**\n",
        "\n",
        "Méthode **dropna**\n",
        "\n",
        "Syntaxe:   dropna(axis, how, subset,..)\n",
        "\n",
        "*   Paramètre **axis** si on doit supprimer les lignes ou les colonnes (**0** pour les lignes, **1** pour les colonnes).\n",
        "*   Paramètre **how** précise la méthodologie de suppression:\n",
        "      *  **how = 'any'**: on supprime la ligne (ou colonne) si elle contient **au moins une* valeur manquante.\n",
        "      *  **how = 'all'** on supprime la ligne (ou colonne) que si elle ne contient **que** des valeurs manquantes.\n",
        "\n",
        "*   Paramètre **subset** permet de préciser les colonnes/lignes sur lesquelles on effectue la recherche de valeurs manquantes.\n",
        "\n",
        "*e.g.* Suppression des lignes ayant des valeurs manquantes dans les colonnes suivantes 'col1', 'col3' et 'col5':\n",
        "\n",
        "df.dropna(axis = 0, how = 'any', subset = ['col1','col3', 'col5'])"
      ]
    },
    {
      "cell_type": "markdown",
      "metadata": {
        "id": "XIqXwV7pUF0y"
      },
      "source": [
        "#Préprocessing\n",
        "\n",
        "Généralement **4 opérations**:\n",
        "*  **filtrer**\n",
        "*  **unir**\n",
        "*  **ordonner**\n",
        "*  **grouper**"
      ]
    },
    {
      "cell_type": "markdown",
      "metadata": {
        "id": "XE7DtQsUUaP9"
      },
      "source": [
        "##Filtrer\n",
        "\n",
        "Les opérations suivantes sont disponibles:\n",
        "*  l'opérateur 'et': **&**\n",
        "*  l'opérateur 'ou': **|**\n",
        "*  l'opérateur 'non': **-**\n",
        "\n",
        "**NB:** s'il faut vérifier **simultanément** des conditions, alors les isoler chacune dans sa paranthèse, l'isolant de **l'opérateur**.\n",
        "\n",
        "Exemple de deux conditions remplies simultanément:\n",
        "\n",
        "print(df[(df['année'] == 1953) **&** (df['surface'] >75)])\n",
        "\n",
        "Remplacer **&** par **|** si l'on veut un *ou* logique, *i.e.* **au moins une** condition vérifiée."
      ]
    },
    {
      "cell_type": "code",
      "metadata": {
        "colab": {
          "base_uri": "https://localhost:8080/"
        },
        "id": "kiApfn6HOC_Q",
        "outputId": "f33f0899-f677-4252-a6ee-6dc1e9dd2723"
      },
      "source": [
        "# Création de e_shop et teleshop\n",
        "teleshop = transactions[(transactions['store_type'] == 'TeleShop') & (transactions['total_amt'] > 5000)]\n",
        "\n",
        "e_shop = transactions[(transactions['store_type'] == 'e-Shop') & (transactions['total_amt'] > 5000)]\n",
        "\n",
        "# Dénombrement des lignes des 2 DataFrame avec la fonction len. D'autres solutions existent.\n",
        "print('Nombre de transactions à plus de 5000€ pour le e-shop :', len(e_shop['total_amt']))\n",
        "print('Nombre de transactions à plus de 5000€ pour le TeleShop :', len(teleshop['total_amt']))"
      ],
      "execution_count": 32,
      "outputs": [
        {
          "output_type": "stream",
          "text": [
            "Nombre de transactions à plus de 5000€ pour le e-shop : 1190\n",
            "Nombre de transactions à plus de 5000€ pour le TeleShop : 536\n"
          ],
          "name": "stdout"
        }
      ]
    },
    {
      "cell_type": "markdown",
      "metadata": {
        "id": "j0bRBTHkV8pA"
      },
      "source": [
        "On s'attaque maintenant aux autres fichiers:"
      ]
    },
    {
      "cell_type": "code",
      "metadata": {
        "id": "sJPRdTlUWAV0"
      },
      "source": [
        "url = 'https://raw.githubusercontent.com/federicoding/TrainingGeneral/main/Customer.csv'\n",
        "customer = pd.read_csv(filepath_or_buffer=url, sep=',')\n",
        "\n",
        "url = 'https://raw.githubusercontent.com/federicoding/TrainingGeneral/main/prod_cat_info.csv'\n",
        "prod_cat_info = pd.read_csv(filepath_or_buffer=url, sep=',')"
      ],
      "execution_count": 33,
      "outputs": []
    },
    {
      "cell_type": "markdown",
      "metadata": {
        "id": "_3IjNQ-qWszX"
      },
      "source": [
        "Remplacement du **Gender** et du **city_code** par leur mode"
      ]
    },
    {
      "cell_type": "code",
      "metadata": {
        "id": "DWPCeNjfW4Rf"
      },
      "source": [
        "customer['Gender'] = customer['Gender'].fillna(customer['Gender'].mode()[0])\n",
        "customer['city_code'] = customer['city_code'].fillna(customer['city_code'].mode()[0])"
      ],
      "execution_count": 35,
      "outputs": []
    },
    {
      "cell_type": "markdown",
      "metadata": {
        "id": "1wlfK_amXVkl"
      },
      "source": [
        "##Unir\n",
        "\n",
        "Avec les fonctions **concat** et **merge**\n",
        "\n",
        "**concat** permet de concaténer plusieurs DataFrames, c'est à dire les juxtaposer horizontalement ou verticalement.\n",
        "\n",
        "`pd.concat(obj, axis..`\n",
        "\n",
        "*   Le paramètre `obj` contient la liste des `DataFrames` à concaténer\n",
        "*   Le paramètre `axis` précise si l'on doit concaténer verticalement (`axis = 0`) [par *en dessous* quoi] ou horizontalement (`axis = 1`) [collé *côte à côte* / *rajout de colonnes*]. "
      ]
    },
    {
      "cell_type": "markdown",
      "metadata": {
        "id": "YX437hdDY-5z"
      },
      "source": [
        "Méthode **merge** \n",
        "\n",
        "Utile si les deux `DataFrames` ont une colonne en commun, via:\n",
        "\n",
        "`merge(right, on how, ...)`\n",
        "\n",
        "*   Le paramètre **right** est le `DataFrame` à fusionner avec celui qui appelle la méthode\n",
        "*   Le paramètre **on** est le nom des colonnes des `DataFrame` qui serviront de référence pour la fusion. Elles doivent être **communes** aux deux `DataFrames`\n",
        "*   Le paramètre **how** permet de choisir le **type de jointure** à effectuer. Les valeurs de ce paramètre sont basées sur les jointures de la syntaxe SQL.\n",
        "\n",
        "**how** peut prendre 4 valeurs (`'inner','outer,'left','right'`)\n",
        "\n",
        "Voir les images (stockées sur le DD local malheureusement ^^).\n",
        "\n",
        "Bref, en gros on fait souvent du `left`.\n",
        "\n",
        "NB: on peut faire ça *proprement* en changeant les noms des colonnes avant et tout et tout"
      ]
    },
    {
      "cell_type": "code",
      "metadata": {
        "colab": {
          "base_uri": "https://localhost:8080/",
          "height": 394
        },
        "id": "oR8IntbRXM9G",
        "outputId": "10790f7f-4bdb-4bfd-8794-666b8c1ff999"
      },
      "source": [
        "#genre:\n",
        "# On renomme la colonne 'customer_Id' en 'cust_id' pour faire la fusion\n",
        "customer = customer.rename(columns = {'customer_Id':'cust_id'})\n",
        "\n",
        "# Jointure à gauche entre transactions et customer sur la colonne 'cust_id'\n",
        "fusion = transactions.merge(right = customer, on = 'cust_id', how = 'left')\n",
        "\n",
        "# La fusion n'a produit aucun NaN\n",
        "fusion.isna().sum()\n",
        "\n",
        "# Les colonnes DOB, Gender, city_code ont bien été ajoutées à transactions\n",
        "fusion.head()"
      ],
      "execution_count": 36,
      "outputs": [
        {
          "output_type": "execute_result",
          "data": {
            "text/html": [
              "<div>\n",
              "<style scoped>\n",
              "    .dataframe tbody tr th:only-of-type {\n",
              "        vertical-align: middle;\n",
              "    }\n",
              "\n",
              "    .dataframe tbody tr th {\n",
              "        vertical-align: top;\n",
              "    }\n",
              "\n",
              "    .dataframe thead th {\n",
              "        text-align: right;\n",
              "    }\n",
              "</style>\n",
              "<table border=\"1\" class=\"dataframe\">\n",
              "  <thead>\n",
              "    <tr style=\"text-align: right;\">\n",
              "      <th></th>\n",
              "      <th>cust_id</th>\n",
              "      <th>tran_date</th>\n",
              "      <th>prod_subcat_code</th>\n",
              "      <th>prod_cat_code</th>\n",
              "      <th>qty</th>\n",
              "      <th>rate</th>\n",
              "      <th>tax</th>\n",
              "      <th>total_amt</th>\n",
              "      <th>store_type</th>\n",
              "      <th>DOB</th>\n",
              "      <th>Gender</th>\n",
              "      <th>city_code</th>\n",
              "    </tr>\n",
              "  </thead>\n",
              "  <tbody>\n",
              "    <tr>\n",
              "      <th>0</th>\n",
              "      <td>270351</td>\n",
              "      <td>28-02-2014</td>\n",
              "      <td>1</td>\n",
              "      <td>1</td>\n",
              "      <td>-5</td>\n",
              "      <td>-772</td>\n",
              "      <td>405.300</td>\n",
              "      <td>-4265.300</td>\n",
              "      <td>e-Shop</td>\n",
              "      <td>26-09-1981</td>\n",
              "      <td>M</td>\n",
              "      <td>5.0</td>\n",
              "    </tr>\n",
              "    <tr>\n",
              "      <th>1</th>\n",
              "      <td>270384</td>\n",
              "      <td>27-02-2014</td>\n",
              "      <td>5</td>\n",
              "      <td>3</td>\n",
              "      <td>-5</td>\n",
              "      <td>-1497</td>\n",
              "      <td>785.925</td>\n",
              "      <td>-8270.925</td>\n",
              "      <td>e-Shop</td>\n",
              "      <td>11-05-1973</td>\n",
              "      <td>F</td>\n",
              "      <td>8.0</td>\n",
              "    </tr>\n",
              "    <tr>\n",
              "      <th>2</th>\n",
              "      <td>273420</td>\n",
              "      <td>24-02-2014</td>\n",
              "      <td>6</td>\n",
              "      <td>5</td>\n",
              "      <td>-2</td>\n",
              "      <td>-791</td>\n",
              "      <td>166.110</td>\n",
              "      <td>-1748.110</td>\n",
              "      <td>TeleShop</td>\n",
              "      <td>27-07-1992</td>\n",
              "      <td>M</td>\n",
              "      <td>8.0</td>\n",
              "    </tr>\n",
              "    <tr>\n",
              "      <th>3</th>\n",
              "      <td>271509</td>\n",
              "      <td>24-02-2014</td>\n",
              "      <td>11</td>\n",
              "      <td>6</td>\n",
              "      <td>-3</td>\n",
              "      <td>-1363</td>\n",
              "      <td>429.345</td>\n",
              "      <td>-4518.345</td>\n",
              "      <td>e-Shop</td>\n",
              "      <td>08-06-1981</td>\n",
              "      <td>M</td>\n",
              "      <td>3.0</td>\n",
              "    </tr>\n",
              "    <tr>\n",
              "      <th>4</th>\n",
              "      <td>273420</td>\n",
              "      <td>23-02-2014</td>\n",
              "      <td>6</td>\n",
              "      <td>5</td>\n",
              "      <td>-2</td>\n",
              "      <td>-791</td>\n",
              "      <td>166.110</td>\n",
              "      <td>-1748.110</td>\n",
              "      <td>TeleShop</td>\n",
              "      <td>27-07-1992</td>\n",
              "      <td>M</td>\n",
              "      <td>8.0</td>\n",
              "    </tr>\n",
              "  </tbody>\n",
              "</table>\n",
              "</div>"
            ],
            "text/plain": [
              "   cust_id   tran_date  prod_subcat_code  ...         DOB  Gender  city_code\n",
              "0   270351  28-02-2014                 1  ...  26-09-1981       M        5.0\n",
              "1   270384  27-02-2014                 5  ...  11-05-1973       F        8.0\n",
              "2   273420  24-02-2014                 6  ...  27-07-1992       M        8.0\n",
              "3   271509  24-02-2014                11  ...  08-06-1981       M        3.0\n",
              "4   273420  23-02-2014                 6  ...  27-07-1992       M        8.0\n",
              "\n",
              "[5 rows x 12 columns]"
            ]
          },
          "metadata": {
            "tags": []
          },
          "execution_count": 36
        }
      ]
    },
    {
      "cell_type": "markdown",
      "metadata": {
        "id": "WxjeMfgRa9Bz"
      },
      "source": [
        "Ou un peu plus salement, mais rapidement"
      ]
    },
    {
      "cell_type": "code",
      "metadata": {
        "id": "ayAIRMxSa8OL"
      },
      "source": [
        "#genre:\n",
        "#merge \"prod_concat\" and \"customer\" table and create the final table \"customer_final\"\n",
        "#customer_final = pd.merge(left=prod_concat, right=customer,right_on=\"customer_Id\", left_on=\"cust_id\", how=\"left\")"
      ],
      "execution_count": null,
      "outputs": []
    },
    {
      "cell_type": "markdown",
      "metadata": {
        "id": "atVq8ZfObiBA"
      },
      "source": [
        "La **fusion** s'est bien passée, mais **l'index** à sauté. Il faut le refaire. Avec la méthode **set_index**.\n",
        "\n",
        "Il faut donner à manger à `set_index()` soit:\n",
        "*   le **nom** d'une colonne à utiliser comme indexation\n",
        "*  un `array` Numpy ou une `Series` pandas avec le même nombre de lignes que le `DataFrame` appelant la méthode."
      ]
    },
    {
      "cell_type": "code",
      "metadata": {
        "colab": {
          "base_uri": "https://localhost:8080/",
          "height": 425
        },
        "id": "xRNmq5XbcEfE",
        "outputId": "8c5e93dc-fb09-4920-dac3-fbc829087d75"
      },
      "source": [
        "new_index = transactions.index\n",
        "fusion = fusion.set_index(new_index)\n",
        "fusion.head()"
      ],
      "execution_count": 37,
      "outputs": [
        {
          "output_type": "execute_result",
          "data": {
            "text/html": [
              "<div>\n",
              "<style scoped>\n",
              "    .dataframe tbody tr th:only-of-type {\n",
              "        vertical-align: middle;\n",
              "    }\n",
              "\n",
              "    .dataframe tbody tr th {\n",
              "        vertical-align: top;\n",
              "    }\n",
              "\n",
              "    .dataframe thead th {\n",
              "        text-align: right;\n",
              "    }\n",
              "</style>\n",
              "<table border=\"1\" class=\"dataframe\">\n",
              "  <thead>\n",
              "    <tr style=\"text-align: right;\">\n",
              "      <th></th>\n",
              "      <th>cust_id</th>\n",
              "      <th>tran_date</th>\n",
              "      <th>prod_subcat_code</th>\n",
              "      <th>prod_cat_code</th>\n",
              "      <th>qty</th>\n",
              "      <th>rate</th>\n",
              "      <th>tax</th>\n",
              "      <th>total_amt</th>\n",
              "      <th>store_type</th>\n",
              "      <th>DOB</th>\n",
              "      <th>Gender</th>\n",
              "      <th>city_code</th>\n",
              "    </tr>\n",
              "    <tr>\n",
              "      <th>transaction_id</th>\n",
              "      <th></th>\n",
              "      <th></th>\n",
              "      <th></th>\n",
              "      <th></th>\n",
              "      <th></th>\n",
              "      <th></th>\n",
              "      <th></th>\n",
              "      <th></th>\n",
              "      <th></th>\n",
              "      <th></th>\n",
              "      <th></th>\n",
              "      <th></th>\n",
              "    </tr>\n",
              "  </thead>\n",
              "  <tbody>\n",
              "    <tr>\n",
              "      <th>80712190438</th>\n",
              "      <td>270351</td>\n",
              "      <td>28-02-2014</td>\n",
              "      <td>1</td>\n",
              "      <td>1</td>\n",
              "      <td>-5</td>\n",
              "      <td>-772</td>\n",
              "      <td>405.300</td>\n",
              "      <td>-4265.300</td>\n",
              "      <td>e-Shop</td>\n",
              "      <td>26-09-1981</td>\n",
              "      <td>M</td>\n",
              "      <td>5.0</td>\n",
              "    </tr>\n",
              "    <tr>\n",
              "      <th>29258453508</th>\n",
              "      <td>270384</td>\n",
              "      <td>27-02-2014</td>\n",
              "      <td>5</td>\n",
              "      <td>3</td>\n",
              "      <td>-5</td>\n",
              "      <td>-1497</td>\n",
              "      <td>785.925</td>\n",
              "      <td>-8270.925</td>\n",
              "      <td>e-Shop</td>\n",
              "      <td>11-05-1973</td>\n",
              "      <td>F</td>\n",
              "      <td>8.0</td>\n",
              "    </tr>\n",
              "    <tr>\n",
              "      <th>51750724947</th>\n",
              "      <td>273420</td>\n",
              "      <td>24-02-2014</td>\n",
              "      <td>6</td>\n",
              "      <td>5</td>\n",
              "      <td>-2</td>\n",
              "      <td>-791</td>\n",
              "      <td>166.110</td>\n",
              "      <td>-1748.110</td>\n",
              "      <td>TeleShop</td>\n",
              "      <td>27-07-1992</td>\n",
              "      <td>M</td>\n",
              "      <td>8.0</td>\n",
              "    </tr>\n",
              "    <tr>\n",
              "      <th>93274880719</th>\n",
              "      <td>271509</td>\n",
              "      <td>24-02-2014</td>\n",
              "      <td>11</td>\n",
              "      <td>6</td>\n",
              "      <td>-3</td>\n",
              "      <td>-1363</td>\n",
              "      <td>429.345</td>\n",
              "      <td>-4518.345</td>\n",
              "      <td>e-Shop</td>\n",
              "      <td>08-06-1981</td>\n",
              "      <td>M</td>\n",
              "      <td>3.0</td>\n",
              "    </tr>\n",
              "    <tr>\n",
              "      <th>51750724947</th>\n",
              "      <td>273420</td>\n",
              "      <td>23-02-2014</td>\n",
              "      <td>6</td>\n",
              "      <td>5</td>\n",
              "      <td>-2</td>\n",
              "      <td>-791</td>\n",
              "      <td>166.110</td>\n",
              "      <td>-1748.110</td>\n",
              "      <td>TeleShop</td>\n",
              "      <td>27-07-1992</td>\n",
              "      <td>M</td>\n",
              "      <td>8.0</td>\n",
              "    </tr>\n",
              "  </tbody>\n",
              "</table>\n",
              "</div>"
            ],
            "text/plain": [
              "                cust_id   tran_date  ...  Gender  city_code\n",
              "transaction_id                       ...                   \n",
              "80712190438      270351  28-02-2014  ...       M        5.0\n",
              "29258453508      270384  27-02-2014  ...       F        8.0\n",
              "51750724947      273420  24-02-2014  ...       M        8.0\n",
              "93274880719      271509  24-02-2014  ...       M        3.0\n",
              "51750724947      273420  23-02-2014  ...       M        8.0\n",
              "\n",
              "[5 rows x 12 columns]"
            ]
          },
          "metadata": {
            "tags": []
          },
          "execution_count": 37
        }
      ]
    },
    {
      "cell_type": "markdown",
      "metadata": {
        "id": "LtXe9rUacR9z"
      },
      "source": [
        "##Trier et Ordonner\n",
        "\n",
        "Deux méthodes: **sort_values** et **sort_index**\n",
        "\n",
        "**sort_values** permet de trier les lignes d'une `DataFrame` selon les valeurs d'une ou de plusieurs colonnes, syntaxe:\n",
        "\n",
        "`sort_values(by, ascending,...)`\n",
        "\n",
        "*   le paramètre `by` permet de préciser sur quelle(s) colonne(s) le tri est effectué\n",
        "*   le paramètre `ascending` est un booléen (`True` ou `False`) déterminant l'odre croissant/décroissant du tri. Par défaut ce paramètre vaut `True`\n",
        "\n",
        "On peut trier par *tiroirs* *i.e.* un premier tri global, par exemple par une valeur numérique, et ensuite par ordre alphabétique sur une deuxième colonne (sans toucher au premier tri).\n",
        "\n",
        "**sort_index** permet de trier par l'index."
      ]
    },
    {
      "cell_type": "markdown",
      "metadata": {
        "id": "hiep--VSd9vx"
      },
      "source": [
        "Petit exercice de style avec des `DataFrames` de bateaux"
      ]
    },
    {
      "cell_type": "code",
      "metadata": {
        "id": "QtM_xqthcPD0"
      },
      "source": [
        "# Definition des dictionnaires\n",
        "data_bateaux = {'nom_bateau'  : ['Julia', 'Siren', 'Sea Sons', 'Hercules', 'Cesar', 'Minerva'], \n",
        "                'couleur'    : ['bleu', 'vert', 'rouge', 'bleu', 'jaune', 'vert'],\n",
        "                'numero_reservation': [2, 3, 6, 1, 4, 5],\n",
        "                'nombre_reservations': [34, 10, 20, 41, 12, 16]}\n",
        "\n",
        "data_clients = {'id_client' : [91, 154, 124, 320, 87, 22], \n",
        "                'nom_client'        : ['Marie', 'Anna', 'Yann', 'Lea', 'Marc', 'Yassine'],\n",
        "                'id_reservation': [1, 2, 3, 7, 9, 5]}\n",
        "\n",
        "# Creation des DataFrames\n",
        "bateaux = pd.DataFrame(data_bateaux)\n",
        "clients = pd.DataFrame(data_clients)"
      ],
      "execution_count": 38,
      "outputs": []
    },
    {
      "cell_type": "code",
      "metadata": {
        "id": "JTRVnL7YeHRv"
      },
      "source": [
        "#on renome la colonne\n",
        "bateaux = bateaux.rename(columns={'numero_reservation':'id_reservation'})\n",
        "\n",
        "#on joint bateaux et clients\n",
        "bateaux_clients = bateaux.merge(right = clients, on='id_reservation', how='left')\n",
        "\n",
        "#on indexe avec la colonne 'nom_bateau'\n",
        "bateaux_clients = bateaux_clients.set_index('nom_bateau')"
      ],
      "execution_count": 39,
      "outputs": []
    },
    {
      "cell_type": "markdown",
      "metadata": {
        "id": "N3wI9Gwkevla"
      },
      "source": [
        "On cherche qui a réservé les bateaux `Julia` et `Siren`"
      ]
    },
    {
      "cell_type": "code",
      "metadata": {
        "colab": {
          "base_uri": "https://localhost:8080/"
        },
        "id": "sfSih72Ae21M",
        "outputId": "252326c6-9d59-49e2-a6e6-352c10158822"
      },
      "source": [
        "print(\"Le client qui a réservé 'Julia' est:\", bateaux_clients.loc['Julia','nom_client'])\n",
        "print(\"Le client qui a réservé 'Siren' est:\", bateaux_clients.loc['Siren', 'nom_client'])"
      ],
      "execution_count": 41,
      "outputs": [
        {
          "output_type": "stream",
          "text": [
            "Le client qui a réservé 'Julia' est: Anna\n",
            "Le client qui a réservé 'Siren' est: Yann\n"
          ],
          "name": "stdout"
        }
      ]
    },
    {
      "cell_type": "markdown",
      "metadata": {
        "id": "JEfwJqLafV5F"
      },
      "source": [
        "Avec la méthode **`isna`** appliquée à la colonne `nom_client` déterminer les bateaux non réservés"
      ]
    },
    {
      "cell_type": "code",
      "metadata": {
        "colab": {
          "base_uri": "https://localhost:8080/"
        },
        "id": "W2t0ysUwfiz7",
        "outputId": "fbc38dc2-01b7-4abb-b9d2-850906618912"
      },
      "source": [
        "bateaux_non_reserves = bateaux_clients[bateaux_clients['nom_client'].isna()]\n",
        "print(\"Les bateaux qui n'ont pas été réservés sont:\", [bateau for bateau in bateaux_non_reserves.index])"
      ],
      "execution_count": 42,
      "outputs": [
        {
          "output_type": "stream",
          "text": [
            "Les bateaux qui n'ont pas été réservés sont: ['Sea Sons', 'Cesar']\n"
          ],
          "name": "stdout"
        }
      ]
    },
    {
      "cell_type": "markdown",
      "metadata": {
        "id": "oWKEUwlvf9_o"
      },
      "source": [
        "Avec **sort_values** déterminer le nom du client qui a réservé le bateau bleu ayant le plus de réservations à son actif."
      ]
    },
    {
      "cell_type": "code",
      "metadata": {
        "colab": {
          "base_uri": "https://localhost:8080/"
        },
        "id": "o09TVwIbf4dV",
        "outputId": "50673327-8663-4768-f8d1-6f2328fde4a2"
      },
      "source": [
        "bateaux_clients = bateaux_clients.sort_values(by=['couleur','nombre_reservations'], ascending=[True,False])\n",
        "\n",
        "print(bateaux_clients)\n",
        "\n",
        "print(\"Le bateau bleu le plus réservé l'est par:\",bateaux_clients.nom_client[0])"
      ],
      "execution_count": 48,
      "outputs": [
        {
          "output_type": "stream",
          "text": [
            "           couleur  id_reservation  nombre_reservations  id_client nom_client\n",
            "nom_bateau                                                                   \n",
            "Hercules      bleu               1                   41       91.0      Marie\n",
            "Julia         bleu               2                   34      154.0       Anna\n",
            "Cesar        jaune               4                   12        NaN        NaN\n",
            "Sea Sons     rouge               6                   20        NaN        NaN\n",
            "Minerva       vert               5                   16       22.0    Yassine\n",
            "Siren         vert               3                   10      124.0       Yann\n",
            "Le bateau bleu le plus réservé l'est par: Marie\n"
          ],
          "name": "stdout"
        }
      ]
    },
    {
      "cell_type": "code",
      "metadata": {
        "id": "7ksFdXtngx_D"
      },
      "source": [
        ""
      ],
      "execution_count": null,
      "outputs": []
    }
  ]
}