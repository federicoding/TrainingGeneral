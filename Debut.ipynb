{
  "nbformat": 4,
  "nbformat_minor": 0,
  "metadata": {
    "colab": {
      "name": "Debut.ipynb",
      "provenance": [],
      "collapsed_sections": [
        "0BbyVYLQeKaV",
        "gbLDmQ2RTAu2",
        "1wlfK_amXVkl",
        "LtXe9rUacR9z"
      ],
      "authorship_tag": "ABX9TyNoLCoE9GStT7HYii/pC50r",
      "include_colab_link": true
    },
    "kernelspec": {
      "name": "python3",
      "display_name": "Python 3"
    },
    "language_info": {
      "name": "python"
    }
  },
  "cells": [
    {
      "cell_type": "markdown",
      "metadata": {
        "id": "view-in-github",
        "colab_type": "text"
      },
      "source": [
        "<a href=\"https://colab.research.google.com/github/federicoding/TrainingGeneral/blob/main/Debut.ipynb\" target=\"_parent\"><img src=\"https://colab.research.google.com/assets/colab-badge.svg\" alt=\"Open In Colab\"/></a>"
      ]
    },
    {
      "cell_type": "markdown",
      "metadata": {
        "id": "PCN40ozLKOB0"
      },
      "source": [
        "#Train Python"
      ]
    },
    {
      "cell_type": "code",
      "metadata": {
        "id": "cbvQoI6cKNYF"
      },
      "source": [
        "import pandas as pd\n",
        "import numpy as np"
      ],
      "execution_count": 1,
      "outputs": []
    },
    {
      "cell_type": "code",
      "metadata": {
        "id": "BPUHqNa5M-Kn"
      },
      "source": [
        "url = 'https://raw.githubusercontent.com/federicoding/TrainingGeneral/main/Transactions.csv'\n",
        "transactions = pd.read_csv(filepath_or_buffer=url, sep=',', header=0, index_col=\"transaction_id\")"
      ],
      "execution_count": null,
      "outputs": []
    },
    {
      "cell_type": "markdown",
      "metadata": {
        "id": "RoEI7CBGeeAs"
      },
      "source": [
        "ou"
      ]
    },
    {
      "cell_type": "code",
      "metadata": {
        "id": "cXZCfHSneG05"
      },
      "source": [
        "url = 'https://raw.githubusercontent.com/federicoding/TrainingGeneral/main/Transactions.csv'\n",
        "transactions = pd.read_csv(filepath_or_buffer=url, sep=',', header=0, index_col=\"transaction_id\")\n",
        "\n",
        "transactions = transactions.drop_duplicates(keep = 'first')"
      ],
      "execution_count": 2,
      "outputs": []
    },
    {
      "cell_type": "markdown",
      "metadata": {
        "id": "0BbyVYLQeKaV"
      },
      "source": [
        "#Première partie\n",
        "\n",
        "Premier feuillet quoi"
      ]
    },
    {
      "cell_type": "code",
      "metadata": {
        "colab": {
          "base_uri": "https://localhost:8080/",
          "height": 340
        },
        "id": "-X_wiz5rNp5V",
        "outputId": "a63b4a09-0aec-4bb2-e379-b52cf06a7a3f"
      },
      "source": [
        "transactions.head()"
      ],
      "execution_count": null,
      "outputs": [
        {
          "output_type": "execute_result",
          "data": {
            "text/html": [
              "<div>\n",
              "<style scoped>\n",
              "    .dataframe tbody tr th:only-of-type {\n",
              "        vertical-align: middle;\n",
              "    }\n",
              "\n",
              "    .dataframe tbody tr th {\n",
              "        vertical-align: top;\n",
              "    }\n",
              "\n",
              "    .dataframe thead th {\n",
              "        text-align: right;\n",
              "    }\n",
              "</style>\n",
              "<table border=\"1\" class=\"dataframe\">\n",
              "  <thead>\n",
              "    <tr style=\"text-align: right;\">\n",
              "      <th></th>\n",
              "      <th>cust_id</th>\n",
              "      <th>tran_date</th>\n",
              "      <th>prod_subcat_code</th>\n",
              "      <th>prod_cat_code</th>\n",
              "      <th>Qty</th>\n",
              "      <th>Rate</th>\n",
              "      <th>Tax</th>\n",
              "      <th>total_amt</th>\n",
              "      <th>Store_type</th>\n",
              "    </tr>\n",
              "    <tr>\n",
              "      <th>transaction_id</th>\n",
              "      <th></th>\n",
              "      <th></th>\n",
              "      <th></th>\n",
              "      <th></th>\n",
              "      <th></th>\n",
              "      <th></th>\n",
              "      <th></th>\n",
              "      <th></th>\n",
              "      <th></th>\n",
              "    </tr>\n",
              "  </thead>\n",
              "  <tbody>\n",
              "    <tr>\n",
              "      <th>80712190438</th>\n",
              "      <td>270351</td>\n",
              "      <td>28-02-2014</td>\n",
              "      <td>1</td>\n",
              "      <td>1</td>\n",
              "      <td>-5</td>\n",
              "      <td>-772</td>\n",
              "      <td>405.300</td>\n",
              "      <td>-4265.300</td>\n",
              "      <td>e-Shop</td>\n",
              "    </tr>\n",
              "    <tr>\n",
              "      <th>29258453508</th>\n",
              "      <td>270384</td>\n",
              "      <td>27-02-2014</td>\n",
              "      <td>5</td>\n",
              "      <td>3</td>\n",
              "      <td>-5</td>\n",
              "      <td>-1497</td>\n",
              "      <td>785.925</td>\n",
              "      <td>-8270.925</td>\n",
              "      <td>e-Shop</td>\n",
              "    </tr>\n",
              "    <tr>\n",
              "      <th>51750724947</th>\n",
              "      <td>273420</td>\n",
              "      <td>24-02-2014</td>\n",
              "      <td>6</td>\n",
              "      <td>5</td>\n",
              "      <td>-2</td>\n",
              "      <td>-791</td>\n",
              "      <td>166.110</td>\n",
              "      <td>-1748.110</td>\n",
              "      <td>TeleShop</td>\n",
              "    </tr>\n",
              "    <tr>\n",
              "      <th>93274880719</th>\n",
              "      <td>271509</td>\n",
              "      <td>24-02-2014</td>\n",
              "      <td>11</td>\n",
              "      <td>6</td>\n",
              "      <td>-3</td>\n",
              "      <td>-1363</td>\n",
              "      <td>429.345</td>\n",
              "      <td>-4518.345</td>\n",
              "      <td>e-Shop</td>\n",
              "    </tr>\n",
              "    <tr>\n",
              "      <th>51750724947</th>\n",
              "      <td>273420</td>\n",
              "      <td>23-02-2014</td>\n",
              "      <td>6</td>\n",
              "      <td>5</td>\n",
              "      <td>-2</td>\n",
              "      <td>-791</td>\n",
              "      <td>166.110</td>\n",
              "      <td>-1748.110</td>\n",
              "      <td>TeleShop</td>\n",
              "    </tr>\n",
              "  </tbody>\n",
              "</table>\n",
              "</div>"
            ],
            "text/plain": [
              "                cust_id   tran_date  ...  total_amt  Store_type\n",
              "transaction_id                       ...                       \n",
              "80712190438      270351  28-02-2014  ...  -4265.300      e-Shop\n",
              "29258453508      270384  27-02-2014  ...  -8270.925      e-Shop\n",
              "51750724947      273420  24-02-2014  ...  -1748.110    TeleShop\n",
              "93274880719      271509  24-02-2014  ...  -4518.345      e-Shop\n",
              "51750724947      273420  23-02-2014  ...  -1748.110    TeleShop\n",
              "\n",
              "[5 rows x 9 columns]"
            ]
          },
          "metadata": {
            "tags": []
          },
          "execution_count": 4
        }
      ]
    },
    {
      "cell_type": "code",
      "metadata": {
        "colab": {
          "base_uri": "https://localhost:8080/"
        },
        "id": "ePd5K8rkNrea",
        "outputId": "353d3234-05c9-4d94-816c-8adadd964dfd"
      },
      "source": [
        "transactions.shape"
      ],
      "execution_count": null,
      "outputs": [
        {
          "output_type": "execute_result",
          "data": {
            "text/plain": [
              "(23053, 9)"
            ]
          },
          "metadata": {
            "tags": []
          },
          "execution_count": 5
        }
      ]
    },
    {
      "cell_type": "markdown",
      "metadata": {
        "id": "AXUfe5-FN5ri"
      },
      "source": [
        "Préparation des variables catégorielles et quantitatives"
      ]
    },
    {
      "cell_type": "code",
      "metadata": {
        "colab": {
          "base_uri": "https://localhost:8080/",
          "height": 354
        },
        "id": "2fa2pyaDN0Kq",
        "outputId": "9c98d554-d365-4a44-ec82-c885d2fab72c"
      },
      "source": [
        "cat_vars = transactions[['cust_id', 'tran_date', 'prod_subcat_code', 'prod_cat_code', 'Store_type']]\n",
        "num_vars = transactions[['Qty', 'Rate', 'Tax', 'total_amt']]\n",
        "print(cat_vars.head())\n",
        "num_vars.head()"
      ],
      "execution_count": null,
      "outputs": [
        {
          "output_type": "stream",
          "text": [
            "                cust_id   tran_date  prod_subcat_code  prod_cat_code Store_type\n",
            "transaction_id                                                                 \n",
            "80712190438      270351  28-02-2014                 1              1     e-Shop\n",
            "29258453508      270384  27-02-2014                 5              3     e-Shop\n",
            "51750724947      273420  24-02-2014                 6              5   TeleShop\n",
            "93274880719      271509  24-02-2014                11              6     e-Shop\n",
            "51750724947      273420  23-02-2014                 6              5   TeleShop\n"
          ],
          "name": "stdout"
        },
        {
          "output_type": "execute_result",
          "data": {
            "text/html": [
              "<div>\n",
              "<style scoped>\n",
              "    .dataframe tbody tr th:only-of-type {\n",
              "        vertical-align: middle;\n",
              "    }\n",
              "\n",
              "    .dataframe tbody tr th {\n",
              "        vertical-align: top;\n",
              "    }\n",
              "\n",
              "    .dataframe thead th {\n",
              "        text-align: right;\n",
              "    }\n",
              "</style>\n",
              "<table border=\"1\" class=\"dataframe\">\n",
              "  <thead>\n",
              "    <tr style=\"text-align: right;\">\n",
              "      <th></th>\n",
              "      <th>Qty</th>\n",
              "      <th>Rate</th>\n",
              "      <th>Tax</th>\n",
              "      <th>total_amt</th>\n",
              "    </tr>\n",
              "    <tr>\n",
              "      <th>transaction_id</th>\n",
              "      <th></th>\n",
              "      <th></th>\n",
              "      <th></th>\n",
              "      <th></th>\n",
              "    </tr>\n",
              "  </thead>\n",
              "  <tbody>\n",
              "    <tr>\n",
              "      <th>80712190438</th>\n",
              "      <td>-5</td>\n",
              "      <td>-772</td>\n",
              "      <td>405.300</td>\n",
              "      <td>-4265.300</td>\n",
              "    </tr>\n",
              "    <tr>\n",
              "      <th>29258453508</th>\n",
              "      <td>-5</td>\n",
              "      <td>-1497</td>\n",
              "      <td>785.925</td>\n",
              "      <td>-8270.925</td>\n",
              "    </tr>\n",
              "    <tr>\n",
              "      <th>51750724947</th>\n",
              "      <td>-2</td>\n",
              "      <td>-791</td>\n",
              "      <td>166.110</td>\n",
              "      <td>-1748.110</td>\n",
              "    </tr>\n",
              "    <tr>\n",
              "      <th>93274880719</th>\n",
              "      <td>-3</td>\n",
              "      <td>-1363</td>\n",
              "      <td>429.345</td>\n",
              "      <td>-4518.345</td>\n",
              "    </tr>\n",
              "    <tr>\n",
              "      <th>51750724947</th>\n",
              "      <td>-2</td>\n",
              "      <td>-791</td>\n",
              "      <td>166.110</td>\n",
              "      <td>-1748.110</td>\n",
              "    </tr>\n",
              "  </tbody>\n",
              "</table>\n",
              "</div>"
            ],
            "text/plain": [
              "                Qty  Rate      Tax  total_amt\n",
              "transaction_id                               \n",
              "80712190438      -5  -772  405.300  -4265.300\n",
              "29258453508      -5 -1497  785.925  -8270.925\n",
              "51750724947      -2  -791  166.110  -1748.110\n",
              "93274880719      -3 -1363  429.345  -4518.345\n",
              "51750724947      -2  -791  166.110  -1748.110"
            ]
          },
          "metadata": {
            "tags": []
          },
          "execution_count": 7
        }
      ]
    },
    {
      "cell_type": "markdown",
      "metadata": {
        "id": "NqZmzMo9QIB6"
      },
      "source": [
        "On split vite fait des données."
      ]
    },
    {
      "cell_type": "code",
      "metadata": {
        "colab": {
          "base_uri": "https://localhost:8080/",
          "height": 235
        },
        "id": "S_Rnve-RPN8q",
        "outputId": "d28a6b3c-d1d1-405d-b34b-0a141ca2a7de"
      },
      "source": [
        "transactions_eshop = transactions.loc[transactions.Store_type=='e-Shop']\n",
        "transactions_id_date = transactions_eshop[['cust_id','tran_date']]\n",
        "transactions_id_date.head()"
      ],
      "execution_count": null,
      "outputs": [
        {
          "output_type": "execute_result",
          "data": {
            "text/html": [
              "<div>\n",
              "<style scoped>\n",
              "    .dataframe tbody tr th:only-of-type {\n",
              "        vertical-align: middle;\n",
              "    }\n",
              "\n",
              "    .dataframe tbody tr th {\n",
              "        vertical-align: top;\n",
              "    }\n",
              "\n",
              "    .dataframe thead th {\n",
              "        text-align: right;\n",
              "    }\n",
              "</style>\n",
              "<table border=\"1\" class=\"dataframe\">\n",
              "  <thead>\n",
              "    <tr style=\"text-align: right;\">\n",
              "      <th></th>\n",
              "      <th>cust_id</th>\n",
              "      <th>tran_date</th>\n",
              "    </tr>\n",
              "    <tr>\n",
              "      <th>transaction_id</th>\n",
              "      <th></th>\n",
              "      <th></th>\n",
              "    </tr>\n",
              "  </thead>\n",
              "  <tbody>\n",
              "    <tr>\n",
              "      <th>80712190438</th>\n",
              "      <td>270351</td>\n",
              "      <td>28-02-2014</td>\n",
              "    </tr>\n",
              "    <tr>\n",
              "      <th>29258453508</th>\n",
              "      <td>270384</td>\n",
              "      <td>27-02-2014</td>\n",
              "    </tr>\n",
              "    <tr>\n",
              "      <th>93274880719</th>\n",
              "      <td>271509</td>\n",
              "      <td>24-02-2014</td>\n",
              "    </tr>\n",
              "    <tr>\n",
              "      <th>45649838090</th>\n",
              "      <td>273667</td>\n",
              "      <td>22-02-2014</td>\n",
              "    </tr>\n",
              "    <tr>\n",
              "      <th>50076728598</th>\n",
              "      <td>269014</td>\n",
              "      <td>21-02-2014</td>\n",
              "    </tr>\n",
              "  </tbody>\n",
              "</table>\n",
              "</div>"
            ],
            "text/plain": [
              "                cust_id   tran_date\n",
              "transaction_id                     \n",
              "80712190438      270351  28-02-2014\n",
              "29258453508      270384  27-02-2014\n",
              "93274880719      271509  24-02-2014\n",
              "45649838090      273667  22-02-2014\n",
              "50076728598      269014  21-02-2014"
            ]
          },
          "metadata": {
            "tags": []
          },
          "execution_count": 8
        }
      ]
    },
    {
      "cell_type": "markdown",
      "metadata": {
        "id": "iw1-BrMoRIS7"
      },
      "source": [
        "On regarde un client en particulier"
      ]
    },
    {
      "cell_type": "code",
      "metadata": {
        "colab": {
          "base_uri": "https://localhost:8080/"
        },
        "id": "2Y3_ttcxRKiY",
        "outputId": "0dab5166-53df-42f4-e957-0ee4424cf4c0"
      },
      "source": [
        "transactions_client_268819 = transactions[transactions['cust_id'] == 268819]\n",
        "\n",
        "total = 0\n",
        "\n",
        "for amount in transactions_client_268819['total_amt']:\n",
        "  total += amount\n",
        "\n",
        "print(total)"
      ],
      "execution_count": null,
      "outputs": [
        {
          "output_type": "stream",
          "text": [
            "14911.974999999999\n"
          ],
          "name": "stdout"
        }
      ]
    },
    {
      "cell_type": "markdown",
      "metadata": {
        "id": "HarzpHMTRocy"
      },
      "source": [
        "**Stats de base**"
      ]
    },
    {
      "cell_type": "code",
      "metadata": {
        "colab": {
          "base_uri": "https://localhost:8080/",
          "height": 317
        },
        "id": "4-XY59vdRqBt",
        "outputId": "f79a7048-cd53-4049-f21d-1deccf39af51"
      },
      "source": [
        "transactions.describe()"
      ],
      "execution_count": null,
      "outputs": [
        {
          "output_type": "execute_result",
          "data": {
            "text/html": [
              "<div>\n",
              "<style scoped>\n",
              "    .dataframe tbody tr th:only-of-type {\n",
              "        vertical-align: middle;\n",
              "    }\n",
              "\n",
              "    .dataframe tbody tr th {\n",
              "        vertical-align: top;\n",
              "    }\n",
              "\n",
              "    .dataframe thead th {\n",
              "        text-align: right;\n",
              "    }\n",
              "</style>\n",
              "<table border=\"1\" class=\"dataframe\">\n",
              "  <thead>\n",
              "    <tr style=\"text-align: right;\">\n",
              "      <th></th>\n",
              "      <th>cust_id</th>\n",
              "      <th>prod_subcat_code</th>\n",
              "      <th>prod_cat_code</th>\n",
              "      <th>Qty</th>\n",
              "      <th>Rate</th>\n",
              "      <th>Tax</th>\n",
              "      <th>total_amt</th>\n",
              "    </tr>\n",
              "  </thead>\n",
              "  <tbody>\n",
              "    <tr>\n",
              "      <th>count</th>\n",
              "      <td>23053.000000</td>\n",
              "      <td>23053.000000</td>\n",
              "      <td>23053.000000</td>\n",
              "      <td>23053.000000</td>\n",
              "      <td>23053.000000</td>\n",
              "      <td>23053.000000</td>\n",
              "      <td>23053.000000</td>\n",
              "    </tr>\n",
              "    <tr>\n",
              "      <th>mean</th>\n",
              "      <td>271021.746497</td>\n",
              "      <td>6.149091</td>\n",
              "      <td>3.763632</td>\n",
              "      <td>2.432395</td>\n",
              "      <td>636.369713</td>\n",
              "      <td>248.667192</td>\n",
              "      <td>2107.308002</td>\n",
              "    </tr>\n",
              "    <tr>\n",
              "      <th>std</th>\n",
              "      <td>2431.692059</td>\n",
              "      <td>3.726372</td>\n",
              "      <td>1.677016</td>\n",
              "      <td>2.268406</td>\n",
              "      <td>622.363498</td>\n",
              "      <td>187.177773</td>\n",
              "      <td>2507.561264</td>\n",
              "    </tr>\n",
              "    <tr>\n",
              "      <th>min</th>\n",
              "      <td>266783.000000</td>\n",
              "      <td>1.000000</td>\n",
              "      <td>1.000000</td>\n",
              "      <td>-5.000000</td>\n",
              "      <td>-1499.000000</td>\n",
              "      <td>7.350000</td>\n",
              "      <td>-8270.925000</td>\n",
              "    </tr>\n",
              "    <tr>\n",
              "      <th>25%</th>\n",
              "      <td>268935.000000</td>\n",
              "      <td>3.000000</td>\n",
              "      <td>2.000000</td>\n",
              "      <td>1.000000</td>\n",
              "      <td>312.000000</td>\n",
              "      <td>98.280000</td>\n",
              "      <td>762.450000</td>\n",
              "    </tr>\n",
              "    <tr>\n",
              "      <th>50%</th>\n",
              "      <td>270980.000000</td>\n",
              "      <td>5.000000</td>\n",
              "      <td>4.000000</td>\n",
              "      <td>3.000000</td>\n",
              "      <td>710.000000</td>\n",
              "      <td>199.080000</td>\n",
              "      <td>1754.740000</td>\n",
              "    </tr>\n",
              "    <tr>\n",
              "      <th>75%</th>\n",
              "      <td>273114.000000</td>\n",
              "      <td>10.000000</td>\n",
              "      <td>5.000000</td>\n",
              "      <td>4.000000</td>\n",
              "      <td>1109.000000</td>\n",
              "      <td>365.715000</td>\n",
              "      <td>3569.150000</td>\n",
              "    </tr>\n",
              "    <tr>\n",
              "      <th>max</th>\n",
              "      <td>275265.000000</td>\n",
              "      <td>12.000000</td>\n",
              "      <td>6.000000</td>\n",
              "      <td>5.000000</td>\n",
              "      <td>1500.000000</td>\n",
              "      <td>787.500000</td>\n",
              "      <td>8287.500000</td>\n",
              "    </tr>\n",
              "  </tbody>\n",
              "</table>\n",
              "</div>"
            ],
            "text/plain": [
              "             cust_id  prod_subcat_code  ...           Tax     total_amt\n",
              "count   23053.000000      23053.000000  ...  23053.000000  23053.000000\n",
              "mean   271021.746497          6.149091  ...    248.667192   2107.308002\n",
              "std      2431.692059          3.726372  ...    187.177773   2507.561264\n",
              "min    266783.000000          1.000000  ...      7.350000  -8270.925000\n",
              "25%    268935.000000          3.000000  ...     98.280000    762.450000\n",
              "50%    270980.000000          5.000000  ...    199.080000   1754.740000\n",
              "75%    273114.000000         10.000000  ...    365.715000   3569.150000\n",
              "max    275265.000000         12.000000  ...    787.500000   8287.500000\n",
              "\n",
              "[8 rows x 7 columns]"
            ]
          },
          "metadata": {
            "tags": []
          },
          "execution_count": 11
        }
      ]
    },
    {
      "cell_type": "markdown",
      "metadata": {
        "id": "HpgLAxMERCrL"
      },
      "source": [
        "**Comptage** des valeurs différentes"
      ]
    },
    {
      "cell_type": "code",
      "metadata": {
        "colab": {
          "base_uri": "https://localhost:8080/"
        },
        "id": "Qse_mR5_Rh_Y",
        "outputId": "69b095ea-02c7-4c50-a507-3c70ce8faa6b"
      },
      "source": [
        "transactions.Store_type.value_counts()"
      ],
      "execution_count": null,
      "outputs": [
        {
          "output_type": "execute_result",
          "data": {
            "text/plain": [
              "e-Shop            9311\n",
              "MBR               4661\n",
              "Flagship store    4577\n",
              "TeleShop          4504\n",
              "Name: Store_type, dtype: int64"
            ]
          },
          "metadata": {
            "tags": []
          },
          "execution_count": 12
        }
      ]
    },
    {
      "cell_type": "code",
      "metadata": {
        "colab": {
          "base_uri": "https://localhost:8080/"
        },
        "id": "rsRlfbM6RzuI",
        "outputId": "b09f5a10-8b79-40ca-f006-b5336284228b"
      },
      "source": [
        "transactions['Store_type'].value_counts()"
      ],
      "execution_count": null,
      "outputs": [
        {
          "output_type": "execute_result",
          "data": {
            "text/plain": [
              "e-Shop            9311\n",
              "MBR               4661\n",
              "Flagship store    4577\n",
              "TeleShop          4504\n",
              "Name: Store_type, dtype: int64"
            ]
          },
          "metadata": {
            "tags": []
          },
          "execution_count": 13
        }
      ]
    },
    {
      "cell_type": "markdown",
      "metadata": {
        "id": "hmdsyJ3eSPe9"
      },
      "source": [
        "Questions sur des résultats du describe.\n",
        "Soit on affiche direct le describe et on se met à lire.\n",
        "Soit on demande les quantités, direct, c'est ce que je vais faire ici."
      ]
    },
    {
      "cell_type": "code",
      "metadata": {
        "colab": {
          "base_uri": "https://localhost:8080/"
        },
        "id": "GVK_nD9QR_P4",
        "outputId": "9d76b273-384f-41ed-dd95-514b2e13a20a"
      },
      "source": [
        "transactions.total_amt.mean(),transactions.Qty.max()"
      ],
      "execution_count": null,
      "outputs": [
        {
          "output_type": "execute_result",
          "data": {
            "text/plain": [
              "(2107.3080019953964, 5)"
            ]
          },
          "metadata": {
            "tags": []
          },
          "execution_count": 14
        }
      ]
    },
    {
      "cell_type": "markdown",
      "metadata": {
        "id": "Vtw6NbLvSqYK"
      },
      "source": [
        "On peut bidouiller 'en avance de phase' les datas"
      ]
    },
    {
      "cell_type": "code",
      "metadata": {
        "colab": {
          "base_uri": "https://localhost:8080/",
          "height": 317
        },
        "id": "O9i4yZgHStrR",
        "outputId": "b61ddff8-61dd-4792-be76-7d81da36cd56"
      },
      "source": [
        "transactions[transactions['total_amt'] > 0].describe()"
      ],
      "execution_count": null,
      "outputs": [
        {
          "output_type": "execute_result",
          "data": {
            "text/html": [
              "<div>\n",
              "<style scoped>\n",
              "    .dataframe tbody tr th:only-of-type {\n",
              "        vertical-align: middle;\n",
              "    }\n",
              "\n",
              "    .dataframe tbody tr th {\n",
              "        vertical-align: top;\n",
              "    }\n",
              "\n",
              "    .dataframe thead th {\n",
              "        text-align: right;\n",
              "    }\n",
              "</style>\n",
              "<table border=\"1\" class=\"dataframe\">\n",
              "  <thead>\n",
              "    <tr style=\"text-align: right;\">\n",
              "      <th></th>\n",
              "      <th>cust_id</th>\n",
              "      <th>prod_subcat_code</th>\n",
              "      <th>prod_cat_code</th>\n",
              "      <th>Qty</th>\n",
              "      <th>Rate</th>\n",
              "      <th>Tax</th>\n",
              "      <th>total_amt</th>\n",
              "    </tr>\n",
              "  </thead>\n",
              "  <tbody>\n",
              "    <tr>\n",
              "      <th>count</th>\n",
              "      <td>20876.000000</td>\n",
              "      <td>20876.000000</td>\n",
              "      <td>20876.000000</td>\n",
              "      <td>20876.000000</td>\n",
              "      <td>20876.000000</td>\n",
              "      <td>20876.000000</td>\n",
              "      <td>20876.000000</td>\n",
              "    </tr>\n",
              "    <tr>\n",
              "      <th>mean</th>\n",
              "      <td>271027.141981</td>\n",
              "      <td>6.156639</td>\n",
              "      <td>3.761496</td>\n",
              "      <td>3.003497</td>\n",
              "      <td>785.927764</td>\n",
              "      <td>247.861232</td>\n",
              "      <td>2608.444389</td>\n",
              "    </tr>\n",
              "    <tr>\n",
              "      <th>std</th>\n",
              "      <td>2433.338935</td>\n",
              "      <td>3.722363</td>\n",
              "      <td>1.675859</td>\n",
              "      <td>1.420479</td>\n",
              "      <td>415.586498</td>\n",
              "      <td>186.644248</td>\n",
              "      <td>1964.208517</td>\n",
              "    </tr>\n",
              "    <tr>\n",
              "      <th>min</th>\n",
              "      <td>266783.000000</td>\n",
              "      <td>1.000000</td>\n",
              "      <td>1.000000</td>\n",
              "      <td>1.000000</td>\n",
              "      <td>70.000000</td>\n",
              "      <td>7.350000</td>\n",
              "      <td>77.350000</td>\n",
              "    </tr>\n",
              "    <tr>\n",
              "      <th>25%</th>\n",
              "      <td>268938.000000</td>\n",
              "      <td>3.000000</td>\n",
              "      <td>2.000000</td>\n",
              "      <td>2.000000</td>\n",
              "      <td>426.000000</td>\n",
              "      <td>97.938750</td>\n",
              "      <td>1030.688750</td>\n",
              "    </tr>\n",
              "    <tr>\n",
              "      <th>50%</th>\n",
              "      <td>271004.000000</td>\n",
              "      <td>5.000000</td>\n",
              "      <td>4.000000</td>\n",
              "      <td>3.000000</td>\n",
              "      <td>788.000000</td>\n",
              "      <td>198.555000</td>\n",
              "      <td>2089.555000</td>\n",
              "    </tr>\n",
              "    <tr>\n",
              "      <th>75%</th>\n",
              "      <td>273122.250000</td>\n",
              "      <td>10.000000</td>\n",
              "      <td>5.000000</td>\n",
              "      <td>4.000000</td>\n",
              "      <td>1148.000000</td>\n",
              "      <td>363.510000</td>\n",
              "      <td>3825.510000</td>\n",
              "    </tr>\n",
              "    <tr>\n",
              "      <th>max</th>\n",
              "      <td>275265.000000</td>\n",
              "      <td>12.000000</td>\n",
              "      <td>6.000000</td>\n",
              "      <td>5.000000</td>\n",
              "      <td>1500.000000</td>\n",
              "      <td>787.500000</td>\n",
              "      <td>8287.500000</td>\n",
              "    </tr>\n",
              "  </tbody>\n",
              "</table>\n",
              "</div>"
            ],
            "text/plain": [
              "             cust_id  prod_subcat_code  ...           Tax     total_amt\n",
              "count   20876.000000      20876.000000  ...  20876.000000  20876.000000\n",
              "mean   271027.141981          6.156639  ...    247.861232   2608.444389\n",
              "std      2433.338935          3.722363  ...    186.644248   1964.208517\n",
              "min    266783.000000          1.000000  ...      7.350000     77.350000\n",
              "25%    268938.000000          3.000000  ...     97.938750   1030.688750\n",
              "50%    271004.000000          5.000000  ...    198.555000   2089.555000\n",
              "75%    273122.250000         10.000000  ...    363.510000   3825.510000\n",
              "max    275265.000000         12.000000  ...    787.500000   8287.500000\n",
              "\n",
              "[8 rows x 7 columns]"
            ]
          },
          "metadata": {
            "tags": []
          },
          "execution_count": 15
        }
      ]
    },
    {
      "cell_type": "code",
      "metadata": {
        "colab": {
          "base_uri": "https://localhost:8080/"
        },
        "id": "1m2Y8cAnS0I4",
        "outputId": "50f9b330-9b9a-439e-d6d4-660d3735fb59"
      },
      "source": [
        "#ou\n",
        "transactions[transactions['total_amt'] > 0].total_amt.mean()"
      ],
      "execution_count": null,
      "outputs": [
        {
          "output_type": "execute_result",
          "data": {
            "text/plain": [
              "2608.444389250814"
            ]
          },
          "metadata": {
            "tags": []
          },
          "execution_count": 16
        }
      ]
    },
    {
      "cell_type": "markdown",
      "metadata": {
        "id": "gbLDmQ2RTAu2"
      },
      "source": [
        "#Data cleaning \"rapide\""
      ]
    },
    {
      "cell_type": "code",
      "metadata": {
        "id": "HAxkdN5ZTko5"
      },
      "source": [
        "#reboot?\n",
        "url = 'https://raw.githubusercontent.com/federicoding/TrainingGeneral/main/Transactions.csv'\n",
        "transactions = pd.read_csv(filepath_or_buffer=url, sep=',', header=0, index_col=\"transaction_id\")"
      ],
      "execution_count": 4,
      "outputs": []
    },
    {
      "cell_type": "markdown",
      "metadata": {
        "id": "cOcUX0D0THm0"
      },
      "source": [
        "Recherche de **duplicates**\n",
        "\n",
        "Avec **duplicated** qui ressort une Series de False&True si la ligne est un doublon.\n",
        "\n",
        "Pour en avoir le **total** on en finit avec **.sum()**"
      ]
    },
    {
      "cell_type": "code",
      "metadata": {
        "colab": {
          "base_uri": "https://localhost:8080/"
        },
        "id": "DmwGXoVvS6c4",
        "outputId": "4b353f73-021f-4065-f469-ed4c6b19ccbf"
      },
      "source": [
        "print(\"Il y a : \",transactions.duplicated().sum(), \"doublons dans le dataframe de transactions\")"
      ],
      "execution_count": 5,
      "outputs": [
        {
          "output_type": "stream",
          "text": [
            "Il y a :  13 doublons dans le dataframe de transactions\n"
          ],
          "name": "stdout"
        }
      ]
    },
    {
      "cell_type": "markdown",
      "metadata": {
        "id": "OCHYKGtXRo4b"
      },
      "source": [
        "Suppression des **doublons**\n",
        "\n",
        "Avec **drop_duplicates** avec la syntaxe suivante:\n",
        "\n",
        "drop_duplicates(subset, keep, inplace)\n",
        "\n",
        "*   Paramètre **subset** indique la ou les colonnes à considérer pour identifier et supprimer les doublons. Par défaut, **subset = None**: on considère toutes les colonnes du DataFrame.\n",
        "*   Paramètre keep indique quelle entrée garder:\n",
        "    * **'first'**: on garde la **première** occurence\n",
        "    * **'last'**: on garde la **dernière** occurence\n",
        "    * **'False'**: on ne garde **aucune** des occurences\n",
        "    * par défaut, **keep = 'first'**\n",
        "  \n",
        "*  Param **inplace** précise si on modifie **directement** le DataFrame (si **True**) ou si la méthode renvoie une **copie** du DataFrame. Si inplace=True la méthode est **irréversible**. Par défaut, inplace = False."
      ]
    },
    {
      "cell_type": "code",
      "metadata": {
        "colab": {
          "base_uri": "https://localhost:8080/",
          "height": 640
        },
        "id": "q-lI0I88TXQZ",
        "outputId": "7c25b7b3-610d-413f-af04-45e0eb4a03a7"
      },
      "source": [
        "transactions = transactions.drop_duplicates(keep='first')\n",
        "transactions"
      ],
      "execution_count": 6,
      "outputs": [
        {
          "output_type": "execute_result",
          "data": {
            "text/html": [
              "<div>\n",
              "<style scoped>\n",
              "    .dataframe tbody tr th:only-of-type {\n",
              "        vertical-align: middle;\n",
              "    }\n",
              "\n",
              "    .dataframe tbody tr th {\n",
              "        vertical-align: top;\n",
              "    }\n",
              "\n",
              "    .dataframe thead th {\n",
              "        text-align: right;\n",
              "    }\n",
              "</style>\n",
              "<table border=\"1\" class=\"dataframe\">\n",
              "  <thead>\n",
              "    <tr style=\"text-align: right;\">\n",
              "      <th></th>\n",
              "      <th>cust_id</th>\n",
              "      <th>tran_date</th>\n",
              "      <th>prod_subcat_code</th>\n",
              "      <th>prod_cat_code</th>\n",
              "      <th>Qty</th>\n",
              "      <th>Rate</th>\n",
              "      <th>Tax</th>\n",
              "      <th>total_amt</th>\n",
              "      <th>Store_type</th>\n",
              "    </tr>\n",
              "    <tr>\n",
              "      <th>transaction_id</th>\n",
              "      <th></th>\n",
              "      <th></th>\n",
              "      <th></th>\n",
              "      <th></th>\n",
              "      <th></th>\n",
              "      <th></th>\n",
              "      <th></th>\n",
              "      <th></th>\n",
              "      <th></th>\n",
              "    </tr>\n",
              "  </thead>\n",
              "  <tbody>\n",
              "    <tr>\n",
              "      <th>80712190438</th>\n",
              "      <td>270351</td>\n",
              "      <td>28-02-2014</td>\n",
              "      <td>1</td>\n",
              "      <td>1</td>\n",
              "      <td>-5</td>\n",
              "      <td>-772</td>\n",
              "      <td>405.300</td>\n",
              "      <td>-4265.300</td>\n",
              "      <td>e-Shop</td>\n",
              "    </tr>\n",
              "    <tr>\n",
              "      <th>29258453508</th>\n",
              "      <td>270384</td>\n",
              "      <td>27-02-2014</td>\n",
              "      <td>5</td>\n",
              "      <td>3</td>\n",
              "      <td>-5</td>\n",
              "      <td>-1497</td>\n",
              "      <td>785.925</td>\n",
              "      <td>-8270.925</td>\n",
              "      <td>e-Shop</td>\n",
              "    </tr>\n",
              "    <tr>\n",
              "      <th>51750724947</th>\n",
              "      <td>273420</td>\n",
              "      <td>24-02-2014</td>\n",
              "      <td>6</td>\n",
              "      <td>5</td>\n",
              "      <td>-2</td>\n",
              "      <td>-791</td>\n",
              "      <td>166.110</td>\n",
              "      <td>-1748.110</td>\n",
              "      <td>TeleShop</td>\n",
              "    </tr>\n",
              "    <tr>\n",
              "      <th>93274880719</th>\n",
              "      <td>271509</td>\n",
              "      <td>24-02-2014</td>\n",
              "      <td>11</td>\n",
              "      <td>6</td>\n",
              "      <td>-3</td>\n",
              "      <td>-1363</td>\n",
              "      <td>429.345</td>\n",
              "      <td>-4518.345</td>\n",
              "      <td>e-Shop</td>\n",
              "    </tr>\n",
              "    <tr>\n",
              "      <th>51750724947</th>\n",
              "      <td>273420</td>\n",
              "      <td>23-02-2014</td>\n",
              "      <td>6</td>\n",
              "      <td>5</td>\n",
              "      <td>-2</td>\n",
              "      <td>-791</td>\n",
              "      <td>166.110</td>\n",
              "      <td>-1748.110</td>\n",
              "      <td>TeleShop</td>\n",
              "    </tr>\n",
              "    <tr>\n",
              "      <th>...</th>\n",
              "      <td>...</td>\n",
              "      <td>...</td>\n",
              "      <td>...</td>\n",
              "      <td>...</td>\n",
              "      <td>...</td>\n",
              "      <td>...</td>\n",
              "      <td>...</td>\n",
              "      <td>...</td>\n",
              "      <td>...</td>\n",
              "    </tr>\n",
              "    <tr>\n",
              "      <th>94340757522</th>\n",
              "      <td>274550</td>\n",
              "      <td>25-01-2011</td>\n",
              "      <td>12</td>\n",
              "      <td>5</td>\n",
              "      <td>1</td>\n",
              "      <td>1264</td>\n",
              "      <td>132.720</td>\n",
              "      <td>1396.720</td>\n",
              "      <td>e-Shop</td>\n",
              "    </tr>\n",
              "    <tr>\n",
              "      <th>89780862956</th>\n",
              "      <td>270022</td>\n",
              "      <td>25-01-2011</td>\n",
              "      <td>4</td>\n",
              "      <td>1</td>\n",
              "      <td>1</td>\n",
              "      <td>677</td>\n",
              "      <td>71.085</td>\n",
              "      <td>748.085</td>\n",
              "      <td>e-Shop</td>\n",
              "    </tr>\n",
              "    <tr>\n",
              "      <th>85115299378</th>\n",
              "      <td>271020</td>\n",
              "      <td>25-01-2011</td>\n",
              "      <td>2</td>\n",
              "      <td>6</td>\n",
              "      <td>4</td>\n",
              "      <td>1052</td>\n",
              "      <td>441.840</td>\n",
              "      <td>4649.840</td>\n",
              "      <td>MBR</td>\n",
              "    </tr>\n",
              "    <tr>\n",
              "      <th>72870271171</th>\n",
              "      <td>270911</td>\n",
              "      <td>25-01-2011</td>\n",
              "      <td>11</td>\n",
              "      <td>5</td>\n",
              "      <td>3</td>\n",
              "      <td>1142</td>\n",
              "      <td>359.730</td>\n",
              "      <td>3785.730</td>\n",
              "      <td>TeleShop</td>\n",
              "    </tr>\n",
              "    <tr>\n",
              "      <th>77960931771</th>\n",
              "      <td>271961</td>\n",
              "      <td>25-01-2011</td>\n",
              "      <td>11</td>\n",
              "      <td>5</td>\n",
              "      <td>1</td>\n",
              "      <td>447</td>\n",
              "      <td>46.935</td>\n",
              "      <td>493.935</td>\n",
              "      <td>TeleShop</td>\n",
              "    </tr>\n",
              "  </tbody>\n",
              "</table>\n",
              "<p>23040 rows × 9 columns</p>\n",
              "</div>"
            ],
            "text/plain": [
              "                cust_id   tran_date  ...  total_amt  Store_type\n",
              "transaction_id                       ...                       \n",
              "80712190438      270351  28-02-2014  ...  -4265.300      e-Shop\n",
              "29258453508      270384  27-02-2014  ...  -8270.925      e-Shop\n",
              "51750724947      273420  24-02-2014  ...  -1748.110    TeleShop\n",
              "93274880719      271509  24-02-2014  ...  -4518.345      e-Shop\n",
              "51750724947      273420  23-02-2014  ...  -1748.110    TeleShop\n",
              "...                 ...         ...  ...        ...         ...\n",
              "94340757522      274550  25-01-2011  ...   1396.720      e-Shop\n",
              "89780862956      270022  25-01-2011  ...    748.085      e-Shop\n",
              "85115299378      271020  25-01-2011  ...   4649.840         MBR\n",
              "72870271171      270911  25-01-2011  ...   3785.730    TeleShop\n",
              "77960931771      271961  25-01-2011  ...    493.935    TeleShop\n",
              "\n",
              "[23040 rows x 9 columns]"
            ]
          },
          "metadata": {
            "tags": []
          },
          "execution_count": 6
        }
      ]
    },
    {
      "cell_type": "code",
      "metadata": {
        "colab": {
          "base_uri": "https://localhost:8080/",
          "height": 388
        },
        "id": "mP8K30Z2T3_D",
        "outputId": "9d16ca87-d792-4b20-bde6-1aa13e9a1daf"
      },
      "source": [
        "transactions.drop_duplicates(subset='prod_cat_code', keep='first')"
      ],
      "execution_count": 7,
      "outputs": [
        {
          "output_type": "execute_result",
          "data": {
            "text/html": [
              "<div>\n",
              "<style scoped>\n",
              "    .dataframe tbody tr th:only-of-type {\n",
              "        vertical-align: middle;\n",
              "    }\n",
              "\n",
              "    .dataframe tbody tr th {\n",
              "        vertical-align: top;\n",
              "    }\n",
              "\n",
              "    .dataframe thead th {\n",
              "        text-align: right;\n",
              "    }\n",
              "</style>\n",
              "<table border=\"1\" class=\"dataframe\">\n",
              "  <thead>\n",
              "    <tr style=\"text-align: right;\">\n",
              "      <th></th>\n",
              "      <th>cust_id</th>\n",
              "      <th>tran_date</th>\n",
              "      <th>prod_subcat_code</th>\n",
              "      <th>prod_cat_code</th>\n",
              "      <th>Qty</th>\n",
              "      <th>Rate</th>\n",
              "      <th>Tax</th>\n",
              "      <th>total_amt</th>\n",
              "      <th>Store_type</th>\n",
              "    </tr>\n",
              "    <tr>\n",
              "      <th>transaction_id</th>\n",
              "      <th></th>\n",
              "      <th></th>\n",
              "      <th></th>\n",
              "      <th></th>\n",
              "      <th></th>\n",
              "      <th></th>\n",
              "      <th></th>\n",
              "      <th></th>\n",
              "      <th></th>\n",
              "    </tr>\n",
              "  </thead>\n",
              "  <tbody>\n",
              "    <tr>\n",
              "      <th>80712190438</th>\n",
              "      <td>270351</td>\n",
              "      <td>28-02-2014</td>\n",
              "      <td>1</td>\n",
              "      <td>1</td>\n",
              "      <td>-5</td>\n",
              "      <td>-772</td>\n",
              "      <td>405.300</td>\n",
              "      <td>-4265.300</td>\n",
              "      <td>e-Shop</td>\n",
              "    </tr>\n",
              "    <tr>\n",
              "      <th>29258453508</th>\n",
              "      <td>270384</td>\n",
              "      <td>27-02-2014</td>\n",
              "      <td>5</td>\n",
              "      <td>3</td>\n",
              "      <td>-5</td>\n",
              "      <td>-1497</td>\n",
              "      <td>785.925</td>\n",
              "      <td>-8270.925</td>\n",
              "      <td>e-Shop</td>\n",
              "    </tr>\n",
              "    <tr>\n",
              "      <th>51750724947</th>\n",
              "      <td>273420</td>\n",
              "      <td>24-02-2014</td>\n",
              "      <td>6</td>\n",
              "      <td>5</td>\n",
              "      <td>-2</td>\n",
              "      <td>-791</td>\n",
              "      <td>166.110</td>\n",
              "      <td>-1748.110</td>\n",
              "      <td>TeleShop</td>\n",
              "    </tr>\n",
              "    <tr>\n",
              "      <th>93274880719</th>\n",
              "      <td>271509</td>\n",
              "      <td>24-02-2014</td>\n",
              "      <td>11</td>\n",
              "      <td>6</td>\n",
              "      <td>-3</td>\n",
              "      <td>-1363</td>\n",
              "      <td>429.345</td>\n",
              "      <td>-4518.345</td>\n",
              "      <td>e-Shop</td>\n",
              "    </tr>\n",
              "    <tr>\n",
              "      <th>43134751727</th>\n",
              "      <td>268487</td>\n",
              "      <td>20-02-2014</td>\n",
              "      <td>3</td>\n",
              "      <td>2</td>\n",
              "      <td>-1</td>\n",
              "      <td>-611</td>\n",
              "      <td>64.155</td>\n",
              "      <td>-675.155</td>\n",
              "      <td>e-Shop</td>\n",
              "    </tr>\n",
              "    <tr>\n",
              "      <th>25963520987</th>\n",
              "      <td>274829</td>\n",
              "      <td>20-02-2014</td>\n",
              "      <td>4</td>\n",
              "      <td>4</td>\n",
              "      <td>3</td>\n",
              "      <td>502</td>\n",
              "      <td>158.130</td>\n",
              "      <td>1664.130</td>\n",
              "      <td>Flagship store</td>\n",
              "    </tr>\n",
              "  </tbody>\n",
              "</table>\n",
              "</div>"
            ],
            "text/plain": [
              "                cust_id   tran_date  ...  total_amt      Store_type\n",
              "transaction_id                       ...                           \n",
              "80712190438      270351  28-02-2014  ...  -4265.300          e-Shop\n",
              "29258453508      270384  27-02-2014  ...  -8270.925          e-Shop\n",
              "51750724947      273420  24-02-2014  ...  -1748.110        TeleShop\n",
              "93274880719      271509  24-02-2014  ...  -4518.345          e-Shop\n",
              "43134751727      268487  20-02-2014  ...   -675.155          e-Shop\n",
              "25963520987      274829  20-02-2014  ...   1664.130  Flagship store\n",
              "\n",
              "[6 rows x 9 columns]"
            ]
          },
          "metadata": {
            "tags": []
          },
          "execution_count": 7
        }
      ]
    },
    {
      "cell_type": "code",
      "metadata": {
        "id": "xD3W8029UAbo"
      },
      "source": [
        "url = 'https://raw.githubusercontent.com/federicoding/TrainingGeneral/main/Transactions.csv'\n",
        "transactions = pd.read_csv(filepath_or_buffer=url, sep=',', header=0, index_col=\"transaction_id\")\n",
        "\n",
        "transactions = transactions.drop_duplicates(keep = 'first')"
      ],
      "execution_count": 8,
      "outputs": []
    },
    {
      "cell_type": "code",
      "metadata": {
        "id": "b8TRzZmVUZaS"
      },
      "source": [
        "import numpy as np"
      ],
      "execution_count": 9,
      "outputs": []
    },
    {
      "cell_type": "markdown",
      "metadata": {
        "id": "terZgaBpUfmW"
      },
      "source": [
        "On va remplacer des modalités, convertir et renommer des colonnes"
      ]
    },
    {
      "cell_type": "code",
      "metadata": {
        "id": "sRKNQtkRUbQo"
      },
      "source": [
        "#transactions = transactions.replace(['e-Shop', 'TeleShop', 'MBR', 'Flagship store', np.nan],\n",
        "#                                   [1, 2, 3, 4, 0])\n",
        "#print(transactions.head(10))\n",
        "#\n",
        "#new_types = {'Store_type'        : 'int',\n",
        "#             'prod_sub_cat_code' : 'int'}\n",
        "#\n",
        "#transactions = transactions.astype(new_types)\n",
        "#\n",
        "#new_names = {'Store_type'  : 'store_type',\n",
        "#new_names = { 'Qty'        : 'qty',\n",
        "#              'Rate'       : 'rate',\n",
        "#              'Tax'        : 'tax'}\n",
        "#\n",
        "#transactions = transactions.rename(new_names, axis = 1)\n",
        "#\n",
        "#transactions.head()"
      ],
      "execution_count": 10,
      "outputs": []
    },
    {
      "cell_type": "markdown",
      "metadata": {
        "id": "38JpW40vYoq_"
      },
      "source": [
        "Bon, ça galère en dictionnary ><"
      ]
    },
    {
      "cell_type": "code",
      "metadata": {
        "id": "h9VpXRIeV344"
      },
      "source": [
        "transactions = transactions.replace(['e-Shop', 'TeleShop', 'MBR', 'Flagship store', np.nan],\n",
        "                                   [1, 2, 3, 4, 0])"
      ],
      "execution_count": 11,
      "outputs": []
    },
    {
      "cell_type": "code",
      "metadata": {
        "id": "81T5JP9UYtAk"
      },
      "source": [
        "transactions['Store_type'] = transactions['Store_type'].astype('int')"
      ],
      "execution_count": 12,
      "outputs": []
    },
    {
      "cell_type": "code",
      "metadata": {
        "id": "JMb8OtRSY6wF"
      },
      "source": [
        "transactions['prod_subcat_code'] = transactions['prod_subcat_code'].astype('int')"
      ],
      "execution_count": 13,
      "outputs": []
    },
    {
      "cell_type": "code",
      "metadata": {
        "colab": {
          "base_uri": "https://localhost:8080/",
          "height": 340
        },
        "id": "C8pIUJWHZHbx",
        "outputId": "1cb0b5cc-a53e-4a9c-e1b8-6b87e51d9489"
      },
      "source": [
        "new_names = {'Store_type'  : 'store_type',\n",
        "              'Qty'        : 'qty',\n",
        "              'Rate'       : 'rate',\n",
        "              'Tax'        : 'tax'}\n",
        "\n",
        "transactions = transactions.rename(new_names, axis = 1)\n",
        "\n",
        "transactions.head()"
      ],
      "execution_count": 14,
      "outputs": [
        {
          "output_type": "execute_result",
          "data": {
            "text/html": [
              "<div>\n",
              "<style scoped>\n",
              "    .dataframe tbody tr th:only-of-type {\n",
              "        vertical-align: middle;\n",
              "    }\n",
              "\n",
              "    .dataframe tbody tr th {\n",
              "        vertical-align: top;\n",
              "    }\n",
              "\n",
              "    .dataframe thead th {\n",
              "        text-align: right;\n",
              "    }\n",
              "</style>\n",
              "<table border=\"1\" class=\"dataframe\">\n",
              "  <thead>\n",
              "    <tr style=\"text-align: right;\">\n",
              "      <th></th>\n",
              "      <th>cust_id</th>\n",
              "      <th>tran_date</th>\n",
              "      <th>prod_subcat_code</th>\n",
              "      <th>prod_cat_code</th>\n",
              "      <th>qty</th>\n",
              "      <th>rate</th>\n",
              "      <th>tax</th>\n",
              "      <th>total_amt</th>\n",
              "      <th>store_type</th>\n",
              "    </tr>\n",
              "    <tr>\n",
              "      <th>transaction_id</th>\n",
              "      <th></th>\n",
              "      <th></th>\n",
              "      <th></th>\n",
              "      <th></th>\n",
              "      <th></th>\n",
              "      <th></th>\n",
              "      <th></th>\n",
              "      <th></th>\n",
              "      <th></th>\n",
              "    </tr>\n",
              "  </thead>\n",
              "  <tbody>\n",
              "    <tr>\n",
              "      <th>80712190438</th>\n",
              "      <td>270351</td>\n",
              "      <td>28-02-2014</td>\n",
              "      <td>1</td>\n",
              "      <td>1</td>\n",
              "      <td>-5</td>\n",
              "      <td>-772</td>\n",
              "      <td>405.300</td>\n",
              "      <td>-4265.300</td>\n",
              "      <td>1</td>\n",
              "    </tr>\n",
              "    <tr>\n",
              "      <th>29258453508</th>\n",
              "      <td>270384</td>\n",
              "      <td>27-02-2014</td>\n",
              "      <td>5</td>\n",
              "      <td>3</td>\n",
              "      <td>-5</td>\n",
              "      <td>-1497</td>\n",
              "      <td>785.925</td>\n",
              "      <td>-8270.925</td>\n",
              "      <td>1</td>\n",
              "    </tr>\n",
              "    <tr>\n",
              "      <th>51750724947</th>\n",
              "      <td>273420</td>\n",
              "      <td>24-02-2014</td>\n",
              "      <td>6</td>\n",
              "      <td>5</td>\n",
              "      <td>-2</td>\n",
              "      <td>-791</td>\n",
              "      <td>166.110</td>\n",
              "      <td>-1748.110</td>\n",
              "      <td>2</td>\n",
              "    </tr>\n",
              "    <tr>\n",
              "      <th>93274880719</th>\n",
              "      <td>271509</td>\n",
              "      <td>24-02-2014</td>\n",
              "      <td>11</td>\n",
              "      <td>6</td>\n",
              "      <td>-3</td>\n",
              "      <td>-1363</td>\n",
              "      <td>429.345</td>\n",
              "      <td>-4518.345</td>\n",
              "      <td>1</td>\n",
              "    </tr>\n",
              "    <tr>\n",
              "      <th>51750724947</th>\n",
              "      <td>273420</td>\n",
              "      <td>23-02-2014</td>\n",
              "      <td>6</td>\n",
              "      <td>5</td>\n",
              "      <td>-2</td>\n",
              "      <td>-791</td>\n",
              "      <td>166.110</td>\n",
              "      <td>-1748.110</td>\n",
              "      <td>2</td>\n",
              "    </tr>\n",
              "  </tbody>\n",
              "</table>\n",
              "</div>"
            ],
            "text/plain": [
              "                cust_id   tran_date  ...  total_amt  store_type\n",
              "transaction_id                       ...                       \n",
              "80712190438      270351  28-02-2014  ...  -4265.300           1\n",
              "29258453508      270384  27-02-2014  ...  -8270.925           1\n",
              "51750724947      273420  24-02-2014  ...  -1748.110           2\n",
              "93274880719      271509  24-02-2014  ...  -4518.345           1\n",
              "51750724947      273420  23-02-2014  ...  -1748.110           2\n",
              "\n",
              "[5 rows x 9 columns]"
            ]
          },
          "metadata": {
            "tags": []
          },
          "execution_count": 14
        }
      ]
    },
    {
      "cell_type": "markdown",
      "metadata": {
        "id": "nwyzTRTEZy1i"
      },
      "source": [
        "On va split la date (qui est en texte) en trois valeurs traitables (pas du texte quoi ^^)\n",
        "\n",
        "Pour ça on crée 3 fonctions qui splittent et renvoient un n-ième élément, et ensuite on l'applique au jeu de données avec un **apply**"
      ]
    },
    {
      "cell_type": "code",
      "metadata": {
        "id": "a8Ljh0d2lBnX"
      },
      "source": [
        "transactions = transactions[~transactions['tran_date'].str.contains(pat='/')]"
      ],
      "execution_count": 44,
      "outputs": []
    },
    {
      "cell_type": "markdown",
      "metadata": {
        "id": "aazjeihdeowI"
      },
      "source": [
        "**Nota Bene** belle galère car mon fichier n'est pas aussi clean, donc je dois enlever des trucs en plus avant que ça puisse passer...\n"
      ]
    },
    {
      "cell_type": "code",
      "metadata": {
        "colab": {
          "base_uri": "https://localhost:8080/"
        },
        "id": "K6icAD3je7Wq",
        "outputId": "d6f3a2d9-7f6e-4b95-8579-6e4db8018df9"
      },
      "source": [
        "transactions['tran_date'].isnull().values.any()"
      ],
      "execution_count": 16,
      "outputs": [
        {
          "output_type": "execute_result",
          "data": {
            "text/plain": [
              "False"
            ]
          },
          "metadata": {
            "tags": []
          },
          "execution_count": 16
        }
      ]
    },
    {
      "cell_type": "code",
      "metadata": {
        "colab": {
          "base_uri": "https://localhost:8080/",
          "height": 35
        },
        "id": "jAsz-Y_qcpEf",
        "outputId": "d2ee0c1f-ccb7-4df2-c576-dba61dc4ed81"
      },
      "source": [
        "transactions['tran_date'].iloc[0].split('-')[2]"
      ],
      "execution_count": 17,
      "outputs": [
        {
          "output_type": "execute_result",
          "data": {
            "application/vnd.google.colaboratory.intrinsic+json": {
              "type": "string"
            },
            "text/plain": [
              "'2014'"
            ]
          },
          "metadata": {
            "tags": []
          },
          "execution_count": 17
        }
      ]
    },
    {
      "cell_type": "code",
      "metadata": {
        "id": "w2E0JZosbX9Y"
      },
      "source": [
        "def get_day(date) :\n",
        "    return date.split(\"-\")[0]\n",
        "\n"
      ],
      "execution_count": 18,
      "outputs": []
    },
    {
      "cell_type": "code",
      "metadata": {
        "id": "16YI7JJWeZZC"
      },
      "source": [
        "def get_month(date) :\n",
        "    return date.split(\"-\")[1]"
      ],
      "execution_count": 19,
      "outputs": []
    },
    {
      "cell_type": "code",
      "metadata": {
        "id": "Jwidc9gmebyA"
      },
      "source": [
        "def get_year(date) :\n",
        "    return date.split(\"-\")[2]"
      ],
      "execution_count": 42,
      "outputs": []
    },
    {
      "cell_type": "markdown",
      "metadata": {
        "id": "kHKwrYpflE5H"
      },
      "source": [
        "**ça marche une fois qu'on a filtré toutes les dates avec putain de /**"
      ]
    },
    {
      "cell_type": "code",
      "metadata": {
        "colab": {
          "base_uri": "https://localhost:8080/",
          "height": 682
        },
        "id": "-DoP_bo2eioT",
        "outputId": "a67baef1-339b-4b52-a374-ec36307cd1a4"
      },
      "source": [
        "transactions['day'], transactions['month'], transactions['year'] = transactions.tran_date.apply(get_day), transactions.tran_date.apply(get_month), transactions.tran_date.apply(get_year)\n",
        "transactions.head(10)"
      ],
      "execution_count": 45,
      "outputs": [
        {
          "output_type": "stream",
          "text": [
            "/usr/local/lib/python3.7/dist-packages/ipykernel_launcher.py:1: SettingWithCopyWarning: \n",
            "A value is trying to be set on a copy of a slice from a DataFrame.\n",
            "Try using .loc[row_indexer,col_indexer] = value instead\n",
            "\n",
            "See the caveats in the documentation: https://pandas.pydata.org/pandas-docs/stable/user_guide/indexing.html#returning-a-view-versus-a-copy\n",
            "  \"\"\"Entry point for launching an IPython kernel.\n"
          ],
          "name": "stderr"
        },
        {
          "output_type": "execute_result",
          "data": {
            "text/html": [
              "<div>\n",
              "<style scoped>\n",
              "    .dataframe tbody tr th:only-of-type {\n",
              "        vertical-align: middle;\n",
              "    }\n",
              "\n",
              "    .dataframe tbody tr th {\n",
              "        vertical-align: top;\n",
              "    }\n",
              "\n",
              "    .dataframe thead th {\n",
              "        text-align: right;\n",
              "    }\n",
              "</style>\n",
              "<table border=\"1\" class=\"dataframe\">\n",
              "  <thead>\n",
              "    <tr style=\"text-align: right;\">\n",
              "      <th></th>\n",
              "      <th>cust_id</th>\n",
              "      <th>tran_date</th>\n",
              "      <th>prod_subcat_code</th>\n",
              "      <th>prod_cat_code</th>\n",
              "      <th>qty</th>\n",
              "      <th>rate</th>\n",
              "      <th>tax</th>\n",
              "      <th>total_amt</th>\n",
              "      <th>store_type</th>\n",
              "      <th>day</th>\n",
              "      <th>month</th>\n",
              "      <th>year</th>\n",
              "    </tr>\n",
              "    <tr>\n",
              "      <th>transaction_id</th>\n",
              "      <th></th>\n",
              "      <th></th>\n",
              "      <th></th>\n",
              "      <th></th>\n",
              "      <th></th>\n",
              "      <th></th>\n",
              "      <th></th>\n",
              "      <th></th>\n",
              "      <th></th>\n",
              "      <th></th>\n",
              "      <th></th>\n",
              "      <th></th>\n",
              "    </tr>\n",
              "  </thead>\n",
              "  <tbody>\n",
              "    <tr>\n",
              "      <th>80712190438</th>\n",
              "      <td>270351</td>\n",
              "      <td>28-02-2014</td>\n",
              "      <td>1</td>\n",
              "      <td>1</td>\n",
              "      <td>-5</td>\n",
              "      <td>-772</td>\n",
              "      <td>405.300</td>\n",
              "      <td>-4265.300</td>\n",
              "      <td>e-Shop</td>\n",
              "      <td>28</td>\n",
              "      <td>02</td>\n",
              "      <td>2014</td>\n",
              "    </tr>\n",
              "    <tr>\n",
              "      <th>29258453508</th>\n",
              "      <td>270384</td>\n",
              "      <td>27-02-2014</td>\n",
              "      <td>5</td>\n",
              "      <td>3</td>\n",
              "      <td>-5</td>\n",
              "      <td>-1497</td>\n",
              "      <td>785.925</td>\n",
              "      <td>-8270.925</td>\n",
              "      <td>e-Shop</td>\n",
              "      <td>27</td>\n",
              "      <td>02</td>\n",
              "      <td>2014</td>\n",
              "    </tr>\n",
              "    <tr>\n",
              "      <th>51750724947</th>\n",
              "      <td>273420</td>\n",
              "      <td>24-02-2014</td>\n",
              "      <td>6</td>\n",
              "      <td>5</td>\n",
              "      <td>-2</td>\n",
              "      <td>-791</td>\n",
              "      <td>166.110</td>\n",
              "      <td>-1748.110</td>\n",
              "      <td>TeleShop</td>\n",
              "      <td>24</td>\n",
              "      <td>02</td>\n",
              "      <td>2014</td>\n",
              "    </tr>\n",
              "    <tr>\n",
              "      <th>93274880719</th>\n",
              "      <td>271509</td>\n",
              "      <td>24-02-2014</td>\n",
              "      <td>11</td>\n",
              "      <td>6</td>\n",
              "      <td>-3</td>\n",
              "      <td>-1363</td>\n",
              "      <td>429.345</td>\n",
              "      <td>-4518.345</td>\n",
              "      <td>e-Shop</td>\n",
              "      <td>24</td>\n",
              "      <td>02</td>\n",
              "      <td>2014</td>\n",
              "    </tr>\n",
              "    <tr>\n",
              "      <th>51750724947</th>\n",
              "      <td>273420</td>\n",
              "      <td>23-02-2014</td>\n",
              "      <td>6</td>\n",
              "      <td>5</td>\n",
              "      <td>-2</td>\n",
              "      <td>-791</td>\n",
              "      <td>166.110</td>\n",
              "      <td>-1748.110</td>\n",
              "      <td>TeleShop</td>\n",
              "      <td>23</td>\n",
              "      <td>02</td>\n",
              "      <td>2014</td>\n",
              "    </tr>\n",
              "    <tr>\n",
              "      <th>97439039119</th>\n",
              "      <td>272357</td>\n",
              "      <td>23-02-2014</td>\n",
              "      <td>8</td>\n",
              "      <td>3</td>\n",
              "      <td>-2</td>\n",
              "      <td>-824</td>\n",
              "      <td>173.040</td>\n",
              "      <td>-1821.040</td>\n",
              "      <td>TeleShop</td>\n",
              "      <td>23</td>\n",
              "      <td>02</td>\n",
              "      <td>2014</td>\n",
              "    </tr>\n",
              "    <tr>\n",
              "      <th>45649838090</th>\n",
              "      <td>273667</td>\n",
              "      <td>22-02-2014</td>\n",
              "      <td>11</td>\n",
              "      <td>6</td>\n",
              "      <td>-1</td>\n",
              "      <td>-1450</td>\n",
              "      <td>152.250</td>\n",
              "      <td>-1602.250</td>\n",
              "      <td>e-Shop</td>\n",
              "      <td>22</td>\n",
              "      <td>02</td>\n",
              "      <td>2014</td>\n",
              "    </tr>\n",
              "    <tr>\n",
              "      <th>22643667930</th>\n",
              "      <td>271489</td>\n",
              "      <td>22-02-2014</td>\n",
              "      <td>12</td>\n",
              "      <td>6</td>\n",
              "      <td>-1</td>\n",
              "      <td>-1225</td>\n",
              "      <td>128.625</td>\n",
              "      <td>-1353.625</td>\n",
              "      <td>TeleShop</td>\n",
              "      <td>22</td>\n",
              "      <td>02</td>\n",
              "      <td>2014</td>\n",
              "    </tr>\n",
              "    <tr>\n",
              "      <th>79792372943</th>\n",
              "      <td>275108</td>\n",
              "      <td>22-02-2014</td>\n",
              "      <td>3</td>\n",
              "      <td>1</td>\n",
              "      <td>-3</td>\n",
              "      <td>-908</td>\n",
              "      <td>286.020</td>\n",
              "      <td>-3010.020</td>\n",
              "      <td>MBR</td>\n",
              "      <td>22</td>\n",
              "      <td>02</td>\n",
              "      <td>2014</td>\n",
              "    </tr>\n",
              "    <tr>\n",
              "      <th>50076728598</th>\n",
              "      <td>269014</td>\n",
              "      <td>21-02-2014</td>\n",
              "      <td>8</td>\n",
              "      <td>3</td>\n",
              "      <td>-4</td>\n",
              "      <td>-581</td>\n",
              "      <td>244.020</td>\n",
              "      <td>-2568.020</td>\n",
              "      <td>e-Shop</td>\n",
              "      <td>21</td>\n",
              "      <td>02</td>\n",
              "      <td>2014</td>\n",
              "    </tr>\n",
              "  </tbody>\n",
              "</table>\n",
              "</div>"
            ],
            "text/plain": [
              "                cust_id   tran_date  prod_subcat_code  ...  day  month  year\n",
              "transaction_id                                         ...                  \n",
              "80712190438      270351  28-02-2014                 1  ...   28     02  2014\n",
              "29258453508      270384  27-02-2014                 5  ...   27     02  2014\n",
              "51750724947      273420  24-02-2014                 6  ...   24     02  2014\n",
              "93274880719      271509  24-02-2014                11  ...   24     02  2014\n",
              "51750724947      273420  23-02-2014                 6  ...   23     02  2014\n",
              "97439039119      272357  23-02-2014                 8  ...   23     02  2014\n",
              "45649838090      273667  22-02-2014                11  ...   22     02  2014\n",
              "22643667930      271489  22-02-2014                12  ...   22     02  2014\n",
              "79792372943      275108  22-02-2014                 3  ...   22     02  2014\n",
              "50076728598      269014  21-02-2014                 8  ...   21     02  2014\n",
              "\n",
              "[10 rows x 12 columns]"
            ]
          },
          "metadata": {
            "tags": []
          },
          "execution_count": 45
        }
      ]
    },
    {
      "cell_type": "code",
      "metadata": {
        "id": "0kcn0gg9fZ28"
      },
      "source": [
        "#days = transactions['tran_date'].apply(get_day)\n"
      ],
      "execution_count": 22,
      "outputs": []
    },
    {
      "cell_type": "code",
      "metadata": {
        "id": "v0VfpV0Vfeqa"
      },
      "source": [
        "#months = transactions['tran_date'].apply(get_month)"
      ],
      "execution_count": 23,
      "outputs": []
    },
    {
      "cell_type": "code",
      "metadata": {
        "id": "qMNPIxSzfgLc"
      },
      "source": [
        "#years = transactions['tran_date'].apply(get_year)"
      ],
      "execution_count": 24,
      "outputs": []
    },
    {
      "cell_type": "markdown",
      "metadata": {
        "id": "fPthFDrbfwH2"
      },
      "source": [
        "Je perds patience mais il semble que certaines dates n'aient pas le bon format / longueur"
      ]
    },
    {
      "cell_type": "code",
      "metadata": {
        "colab": {
          "base_uri": "https://localhost:8080/"
        },
        "id": "q43Q-oyHf0Jf",
        "outputId": "d1095447-0745-4590-9828-e0c6f16bba7b"
      },
      "source": [
        "transactions['tran_date'].sort_values( key = lambda x: x.str.len())"
      ],
      "execution_count": 25,
      "outputs": [
        {
          "output_type": "execute_result",
          "data": {
            "text/plain": [
              "transaction_id\n",
              "80712190438    28-02-2014\n",
              "96315253560    30-01-2012\n",
              "56831384096    29-01-2012\n",
              "31475622493    29-01-2012\n",
              "62446296347    29-01-2012\n",
              "                  ...    \n",
              "64908614797    13-02-2013\n",
              "96591948815    13-02-2013\n",
              "72638047851    13-02-2013\n",
              "58125944124    13-02-2013\n",
              "77960931771    25-01-2011\n",
              "Name: tran_date, Length: 13918, dtype: object"
            ]
          },
          "metadata": {
            "tags": []
          },
          "execution_count": 25
        }
      ]
    },
    {
      "cell_type": "markdown",
      "metadata": {
        "id": "rIuT3_q9gNBE"
      },
      "source": [
        "OK y a des dates qui ont des **putain de / de mes deux**, forcément, en split sur **-** ben ça passe pas ><\n",
        "\n",
        "Faudrait filtrer et tout et tout, mais pour l'instant, je passe...\n",
        "\n",
        "Ou alors, petit détour vite fait..."
      ]
    },
    {
      "cell_type": "code",
      "metadata": {
        "colab": {
          "base_uri": "https://localhost:8080/"
        },
        "id": "axyRFAIPhV3h",
        "outputId": "bb26aed6-283b-47d0-f13f-4e47e4eb6451"
      },
      "source": [
        "y_a_un_slash = transactions['tran_date'].str.contains(pat = '/')\n",
        "y_a_un_slash"
      ],
      "execution_count": 26,
      "outputs": [
        {
          "output_type": "execute_result",
          "data": {
            "text/plain": [
              "transaction_id\n",
              "80712190438    False\n",
              "29258453508    False\n",
              "51750724947    False\n",
              "93274880719    False\n",
              "51750724947    False\n",
              "               ...  \n",
              "94340757522    False\n",
              "89780862956    False\n",
              "85115299378    False\n",
              "72870271171    False\n",
              "77960931771    False\n",
              "Name: tran_date, Length: 13918, dtype: bool"
            ]
          },
          "metadata": {
            "tags": []
          },
          "execution_count": 26
        }
      ]
    },
    {
      "cell_type": "code",
      "metadata": {
        "id": "921zrxDqiR0z"
      },
      "source": [
        "#transactions2 = transactions[~transactions['tran_date'].str.contains(pat='/')]"
      ],
      "execution_count": 27,
      "outputs": []
    },
    {
      "cell_type": "code",
      "metadata": {
        "id": "HVthSXVTk5Qj"
      },
      "source": [
        "#transactions2.describe()"
      ],
      "execution_count": 28,
      "outputs": []
    },
    {
      "cell_type": "markdown",
      "metadata": {
        "id": "RVNtjw__gh5T"
      },
      "source": [
        "Petite manip de row etc etc"
      ]
    },
    {
      "cell_type": "code",
      "metadata": {
        "colab": {
          "base_uri": "https://localhost:8080/"
        },
        "id": "2PkWR0FqLQJu",
        "outputId": "a96b5c4e-7dc5-4242-b62a-5bbad1ab3e5f"
      },
      "source": [
        "transactions['prod_cat'] = transactions.astype('str').apply(lambda row: row['prod_cat_code']+'-'+row['prod_subcat_code'],\n",
        "                                                            axis = 1)\n",
        "print(transactions['prod_cat'])"
      ],
      "execution_count": 29,
      "outputs": [
        {
          "output_type": "stream",
          "text": [
            "transaction_id\n",
            "80712190438     1-1\n",
            "29258453508     3-5\n",
            "51750724947     5-6\n",
            "93274880719    6-11\n",
            "51750724947     5-6\n",
            "               ... \n",
            "94340757522    5-12\n",
            "89780862956     1-4\n",
            "85115299378     6-2\n",
            "72870271171    5-11\n",
            "77960931771    5-11\n",
            "Name: prod_cat, Length: 13918, dtype: object\n"
          ],
          "name": "stdout"
        }
      ]
    },
    {
      "cell_type": "markdown",
      "metadata": {
        "id": "dTX18U11LLNe"
      },
      "source": [
        "Vite fait les valeurs manquantes (*el classico*)"
      ]
    },
    {
      "cell_type": "markdown",
      "metadata": {
        "id": "Md7IERsBNbqI"
      },
      "source": [
        "Avec primo une relance"
      ]
    },
    {
      "cell_type": "code",
      "metadata": {
        "id": "ZqS1FIhYNdy9"
      },
      "source": [
        "url = 'https://raw.githubusercontent.com/federicoding/TrainingGeneral/main/Transactions.csv'\n",
        "transactions = pd.read_csv(filepath_or_buffer=url, sep=',', header=0, index_col=\"transaction_id\")\n",
        "\n",
        "transactions = transactions.drop_duplicates(keep = 'first')"
      ],
      "execution_count": 30,
      "outputs": []
    },
    {
      "cell_type": "code",
      "metadata": {
        "colab": {
          "base_uri": "https://localhost:8080/",
          "height": 340
        },
        "id": "6C8yfWuJNkMn",
        "outputId": "c4f2d37e-1f66-49a8-bc30-bc48a46c3a75"
      },
      "source": [
        "new_names = {'Store_type'  : 'store_type',\n",
        "              'Qty'        : 'qty',\n",
        "              'Rate'       : 'rate',\n",
        "              'Tax'        : 'tax'}\n",
        "\n",
        "transactions = transactions.rename(new_names, axis = 1)\n",
        "\n",
        "transactions.head()"
      ],
      "execution_count": 31,
      "outputs": [
        {
          "output_type": "execute_result",
          "data": {
            "text/html": [
              "<div>\n",
              "<style scoped>\n",
              "    .dataframe tbody tr th:only-of-type {\n",
              "        vertical-align: middle;\n",
              "    }\n",
              "\n",
              "    .dataframe tbody tr th {\n",
              "        vertical-align: top;\n",
              "    }\n",
              "\n",
              "    .dataframe thead th {\n",
              "        text-align: right;\n",
              "    }\n",
              "</style>\n",
              "<table border=\"1\" class=\"dataframe\">\n",
              "  <thead>\n",
              "    <tr style=\"text-align: right;\">\n",
              "      <th></th>\n",
              "      <th>cust_id</th>\n",
              "      <th>tran_date</th>\n",
              "      <th>prod_subcat_code</th>\n",
              "      <th>prod_cat_code</th>\n",
              "      <th>qty</th>\n",
              "      <th>rate</th>\n",
              "      <th>tax</th>\n",
              "      <th>total_amt</th>\n",
              "      <th>store_type</th>\n",
              "    </tr>\n",
              "    <tr>\n",
              "      <th>transaction_id</th>\n",
              "      <th></th>\n",
              "      <th></th>\n",
              "      <th></th>\n",
              "      <th></th>\n",
              "      <th></th>\n",
              "      <th></th>\n",
              "      <th></th>\n",
              "      <th></th>\n",
              "      <th></th>\n",
              "    </tr>\n",
              "  </thead>\n",
              "  <tbody>\n",
              "    <tr>\n",
              "      <th>80712190438</th>\n",
              "      <td>270351</td>\n",
              "      <td>28-02-2014</td>\n",
              "      <td>1</td>\n",
              "      <td>1</td>\n",
              "      <td>-5</td>\n",
              "      <td>-772</td>\n",
              "      <td>405.300</td>\n",
              "      <td>-4265.300</td>\n",
              "      <td>e-Shop</td>\n",
              "    </tr>\n",
              "    <tr>\n",
              "      <th>29258453508</th>\n",
              "      <td>270384</td>\n",
              "      <td>27-02-2014</td>\n",
              "      <td>5</td>\n",
              "      <td>3</td>\n",
              "      <td>-5</td>\n",
              "      <td>-1497</td>\n",
              "      <td>785.925</td>\n",
              "      <td>-8270.925</td>\n",
              "      <td>e-Shop</td>\n",
              "    </tr>\n",
              "    <tr>\n",
              "      <th>51750724947</th>\n",
              "      <td>273420</td>\n",
              "      <td>24-02-2014</td>\n",
              "      <td>6</td>\n",
              "      <td>5</td>\n",
              "      <td>-2</td>\n",
              "      <td>-791</td>\n",
              "      <td>166.110</td>\n",
              "      <td>-1748.110</td>\n",
              "      <td>TeleShop</td>\n",
              "    </tr>\n",
              "    <tr>\n",
              "      <th>93274880719</th>\n",
              "      <td>271509</td>\n",
              "      <td>24-02-2014</td>\n",
              "      <td>11</td>\n",
              "      <td>6</td>\n",
              "      <td>-3</td>\n",
              "      <td>-1363</td>\n",
              "      <td>429.345</td>\n",
              "      <td>-4518.345</td>\n",
              "      <td>e-Shop</td>\n",
              "    </tr>\n",
              "    <tr>\n",
              "      <th>51750724947</th>\n",
              "      <td>273420</td>\n",
              "      <td>23-02-2014</td>\n",
              "      <td>6</td>\n",
              "      <td>5</td>\n",
              "      <td>-2</td>\n",
              "      <td>-791</td>\n",
              "      <td>166.110</td>\n",
              "      <td>-1748.110</td>\n",
              "      <td>TeleShop</td>\n",
              "    </tr>\n",
              "  </tbody>\n",
              "</table>\n",
              "</div>"
            ],
            "text/plain": [
              "                cust_id   tran_date  ...  total_amt  store_type\n",
              "transaction_id                       ...                       \n",
              "80712190438      270351  28-02-2014  ...  -4265.300      e-Shop\n",
              "29258453508      270384  27-02-2014  ...  -8270.925      e-Shop\n",
              "51750724947      273420  24-02-2014  ...  -1748.110    TeleShop\n",
              "93274880719      271509  24-02-2014  ...  -4518.345      e-Shop\n",
              "51750724947      273420  23-02-2014  ...  -1748.110    TeleShop\n",
              "\n",
              "[5 rows x 9 columns]"
            ]
          },
          "metadata": {
            "tags": []
          },
          "execution_count": 31
        }
      ]
    },
    {
      "cell_type": "markdown",
      "metadata": {
        "id": "0CRzDWaxMBtq"
      },
      "source": [
        "Detection des **colonnes** avec **au moins une NA**"
      ]
    },
    {
      "cell_type": "code",
      "metadata": {
        "colab": {
          "base_uri": "https://localhost:8080/"
        },
        "id": "GdERxuDCLyRe",
        "outputId": "5fafca4b-9409-4c73-c3d6-7506d933143b"
      },
      "source": [
        "transactions.isna().any(axis=0)"
      ],
      "execution_count": 32,
      "outputs": [
        {
          "output_type": "execute_result",
          "data": {
            "text/plain": [
              "cust_id             False\n",
              "tran_date           False\n",
              "prod_subcat_code    False\n",
              "prod_cat_code       False\n",
              "qty                 False\n",
              "rate                False\n",
              "tax                 False\n",
              "total_amt           False\n",
              "store_type          False\n",
              "dtype: bool"
            ]
          },
          "metadata": {
            "tags": []
          },
          "execution_count": 32
        }
      ]
    },
    {
      "cell_type": "markdown",
      "metadata": {
        "id": "78N_cPRnMOI4"
      },
      "source": [
        "Detection des **lignes** avec **au moins une NA** "
      ]
    },
    {
      "cell_type": "code",
      "metadata": {
        "colab": {
          "base_uri": "https://localhost:8080/"
        },
        "id": "vFO7mcTeMLM5",
        "outputId": "6fe8ec21-4b4b-498d-b341-2a3bcdfb387e"
      },
      "source": [
        "transactions.isna().any(axis=1)"
      ],
      "execution_count": 33,
      "outputs": [
        {
          "output_type": "execute_result",
          "data": {
            "text/plain": [
              "transaction_id\n",
              "80712190438    False\n",
              "29258453508    False\n",
              "51750724947    False\n",
              "93274880719    False\n",
              "51750724947    False\n",
              "               ...  \n",
              "94340757522    False\n",
              "89780862956    False\n",
              "85115299378    False\n",
              "72870271171    False\n",
              "77960931771    False\n",
              "Length: 23040, dtype: bool"
            ]
          },
          "metadata": {
            "tags": []
          },
          "execution_count": 33
        }
      ]
    },
    {
      "cell_type": "markdown",
      "metadata": {
        "id": "yBe4ZlAZMhcV"
      },
      "source": [
        "Affichage des **entrées contenant des NA**"
      ]
    },
    {
      "cell_type": "code",
      "metadata": {
        "colab": {
          "base_uri": "https://localhost:8080/",
          "height": 100
        },
        "id": "oh5Ci5-IMkjg",
        "outputId": "24225d7b-3ed6-4bd0-8fd9-c7f617242e76"
      },
      "source": [
        "transactions[transactions.isna().any(axis=1)]"
      ],
      "execution_count": 34,
      "outputs": [
        {
          "output_type": "execute_result",
          "data": {
            "text/html": [
              "<div>\n",
              "<style scoped>\n",
              "    .dataframe tbody tr th:only-of-type {\n",
              "        vertical-align: middle;\n",
              "    }\n",
              "\n",
              "    .dataframe tbody tr th {\n",
              "        vertical-align: top;\n",
              "    }\n",
              "\n",
              "    .dataframe thead th {\n",
              "        text-align: right;\n",
              "    }\n",
              "</style>\n",
              "<table border=\"1\" class=\"dataframe\">\n",
              "  <thead>\n",
              "    <tr style=\"text-align: right;\">\n",
              "      <th></th>\n",
              "      <th>cust_id</th>\n",
              "      <th>tran_date</th>\n",
              "      <th>prod_subcat_code</th>\n",
              "      <th>prod_cat_code</th>\n",
              "      <th>qty</th>\n",
              "      <th>rate</th>\n",
              "      <th>tax</th>\n",
              "      <th>total_amt</th>\n",
              "      <th>store_type</th>\n",
              "    </tr>\n",
              "    <tr>\n",
              "      <th>transaction_id</th>\n",
              "      <th></th>\n",
              "      <th></th>\n",
              "      <th></th>\n",
              "      <th></th>\n",
              "      <th></th>\n",
              "      <th></th>\n",
              "      <th></th>\n",
              "      <th></th>\n",
              "      <th></th>\n",
              "    </tr>\n",
              "  </thead>\n",
              "  <tbody>\n",
              "  </tbody>\n",
              "</table>\n",
              "</div>"
            ],
            "text/plain": [
              "Empty DataFrame\n",
              "Columns: [cust_id, tran_date, prod_subcat_code, prod_cat_code, qty, rate, tax, total_amt, store_type]\n",
              "Index: []"
            ]
          },
          "metadata": {
            "tags": []
          },
          "execution_count": 34
        }
      ]
    },
    {
      "cell_type": "markdown",
      "metadata": {
        "id": "QWEE3EGLMva2"
      },
      "source": [
        "**Comptage** du **nb de NA** dans une **colonne**"
      ]
    },
    {
      "cell_type": "code",
      "metadata": {
        "colab": {
          "base_uri": "https://localhost:8080/"
        },
        "id": "6gbCmf_VMr5K",
        "outputId": "2a931aac-9392-4838-b93a-368978713364"
      },
      "source": [
        "transactions.isnull().sum(axis=0)"
      ],
      "execution_count": 35,
      "outputs": [
        {
          "output_type": "execute_result",
          "data": {
            "text/plain": [
              "cust_id             0\n",
              "tran_date           0\n",
              "prod_subcat_code    0\n",
              "prod_cat_code       0\n",
              "qty                 0\n",
              "rate                0\n",
              "tax                 0\n",
              "total_amt           0\n",
              "store_type          0\n",
              "dtype: int64"
            ]
          },
          "metadata": {
            "tags": []
          },
          "execution_count": 35
        }
      ]
    },
    {
      "cell_type": "markdown",
      "metadata": {
        "id": "z3GpdjJFM_TE"
      },
      "source": [
        "**Comptage** du **nb de NA** par **ligne**"
      ]
    },
    {
      "cell_type": "code",
      "metadata": {
        "colab": {
          "base_uri": "https://localhost:8080/"
        },
        "id": "OEw108wJM4_n",
        "outputId": "b0116b80-de43-4459-d6de-adf1bf57a2df"
      },
      "source": [
        "transactions.isnull().sum(axis=1)"
      ],
      "execution_count": 36,
      "outputs": [
        {
          "output_type": "execute_result",
          "data": {
            "text/plain": [
              "transaction_id\n",
              "80712190438    0\n",
              "29258453508    0\n",
              "51750724947    0\n",
              "93274880719    0\n",
              "51750724947    0\n",
              "              ..\n",
              "94340757522    0\n",
              "89780862956    0\n",
              "85115299378    0\n",
              "72870271171    0\n",
              "77960931771    0\n",
              "Length: 23040, dtype: int64"
            ]
          },
          "metadata": {
            "tags": []
          },
          "execution_count": 36
        }
      ]
    },
    {
      "cell_type": "code",
      "metadata": {
        "colab": {
          "base_uri": "https://localhost:8080/",
          "height": 351
        },
        "id": "tQvjkO5MNQKL",
        "outputId": "362676ab-e834-4edb-ca21-a4dac0b172fa"
      },
      "source": [
        "transactions.isna()\n",
        "print(transactions.isna().any(axis=0).sum(),\" colonnes contiennent des valeurs manquantes.\")\n",
        "print(transactions.isna().any(axis=1).sum(),\" lignes contiennent des valeurs manquantes.\")\n",
        "transactions.describe()"
      ],
      "execution_count": 37,
      "outputs": [
        {
          "output_type": "stream",
          "text": [
            "0  colonnes contiennent des valeurs manquantes.\n",
            "0  lignes contiennent des valeurs manquantes.\n"
          ],
          "name": "stdout"
        },
        {
          "output_type": "execute_result",
          "data": {
            "text/html": [
              "<div>\n",
              "<style scoped>\n",
              "    .dataframe tbody tr th:only-of-type {\n",
              "        vertical-align: middle;\n",
              "    }\n",
              "\n",
              "    .dataframe tbody tr th {\n",
              "        vertical-align: top;\n",
              "    }\n",
              "\n",
              "    .dataframe thead th {\n",
              "        text-align: right;\n",
              "    }\n",
              "</style>\n",
              "<table border=\"1\" class=\"dataframe\">\n",
              "  <thead>\n",
              "    <tr style=\"text-align: right;\">\n",
              "      <th></th>\n",
              "      <th>cust_id</th>\n",
              "      <th>prod_subcat_code</th>\n",
              "      <th>prod_cat_code</th>\n",
              "      <th>qty</th>\n",
              "      <th>rate</th>\n",
              "      <th>tax</th>\n",
              "      <th>total_amt</th>\n",
              "    </tr>\n",
              "  </thead>\n",
              "  <tbody>\n",
              "    <tr>\n",
              "      <th>count</th>\n",
              "      <td>23040.000000</td>\n",
              "      <td>23040.000000</td>\n",
              "      <td>23040.000000</td>\n",
              "      <td>23040.000000</td>\n",
              "      <td>23040.000000</td>\n",
              "      <td>23040.000000</td>\n",
              "      <td>23040.000000</td>\n",
              "    </tr>\n",
              "    <tr>\n",
              "      <th>mean</th>\n",
              "      <td>271021.880252</td>\n",
              "      <td>6.148785</td>\n",
              "      <td>3.763498</td>\n",
              "      <td>2.435764</td>\n",
              "      <td>637.094965</td>\n",
              "      <td>248.677488</td>\n",
              "      <td>2109.865226</td>\n",
              "    </tr>\n",
              "    <tr>\n",
              "      <th>std</th>\n",
              "      <td>2431.573668</td>\n",
              "      <td>3.726197</td>\n",
              "      <td>1.677091</td>\n",
              "      <td>2.264326</td>\n",
              "      <td>621.727374</td>\n",
              "      <td>187.188311</td>\n",
              "      <td>2505.610295</td>\n",
              "    </tr>\n",
              "    <tr>\n",
              "      <th>min</th>\n",
              "      <td>266783.000000</td>\n",
              "      <td>1.000000</td>\n",
              "      <td>1.000000</td>\n",
              "      <td>-5.000000</td>\n",
              "      <td>-1499.000000</td>\n",
              "      <td>7.350000</td>\n",
              "      <td>-8270.925000</td>\n",
              "    </tr>\n",
              "    <tr>\n",
              "      <th>25%</th>\n",
              "      <td>268935.000000</td>\n",
              "      <td>3.000000</td>\n",
              "      <td>2.000000</td>\n",
              "      <td>1.000000</td>\n",
              "      <td>312.000000</td>\n",
              "      <td>98.280000</td>\n",
              "      <td>762.450000</td>\n",
              "    </tr>\n",
              "    <tr>\n",
              "      <th>50%</th>\n",
              "      <td>270980.500000</td>\n",
              "      <td>5.000000</td>\n",
              "      <td>4.000000</td>\n",
              "      <td>3.000000</td>\n",
              "      <td>710.000000</td>\n",
              "      <td>199.080000</td>\n",
              "      <td>1756.950000</td>\n",
              "    </tr>\n",
              "    <tr>\n",
              "      <th>75%</th>\n",
              "      <td>273114.250000</td>\n",
              "      <td>10.000000</td>\n",
              "      <td>5.000000</td>\n",
              "      <td>4.000000</td>\n",
              "      <td>1109.000000</td>\n",
              "      <td>365.767500</td>\n",
              "      <td>3570.255000</td>\n",
              "    </tr>\n",
              "    <tr>\n",
              "      <th>max</th>\n",
              "      <td>275265.000000</td>\n",
              "      <td>12.000000</td>\n",
              "      <td>6.000000</td>\n",
              "      <td>5.000000</td>\n",
              "      <td>1500.000000</td>\n",
              "      <td>787.500000</td>\n",
              "      <td>8287.500000</td>\n",
              "    </tr>\n",
              "  </tbody>\n",
              "</table>\n",
              "</div>"
            ],
            "text/plain": [
              "             cust_id  prod_subcat_code  ...           tax     total_amt\n",
              "count   23040.000000      23040.000000  ...  23040.000000  23040.000000\n",
              "mean   271021.880252          6.148785  ...    248.677488   2109.865226\n",
              "std      2431.573668          3.726197  ...    187.188311   2505.610295\n",
              "min    266783.000000          1.000000  ...      7.350000  -8270.925000\n",
              "25%    268935.000000          3.000000  ...     98.280000    762.450000\n",
              "50%    270980.500000          5.000000  ...    199.080000   1756.950000\n",
              "75%    273114.250000         10.000000  ...    365.767500   3570.255000\n",
              "max    275265.000000         12.000000  ...    787.500000   8287.500000\n",
              "\n",
              "[8 rows x 7 columns]"
            ]
          },
          "metadata": {
            "tags": []
          },
          "execution_count": 37
        }
      ]
    },
    {
      "cell_type": "markdown",
      "metadata": {
        "id": "E-T4vj2KN8kF"
      },
      "source": [
        "**Remplacement** des **NA**\n",
        "\n",
        "Méthode **fillna()**\n",
        "\n",
        "Pour les colonnes de **type numérique**:\n",
        "\n",
        "*   Par une valeur constante: df.fillna(0)\n",
        "*   Par la moyenne (*e.g.*): df.fillna(df.mean())\n",
        "*   On peut aussi par la médiane (utiliser **median**) ou par le min/max (utiliser **min**/**max**)\n",
        "\n",
        "Pour les colonnes de **type catégorielle**\n",
        "\n",
        "*   Par le **mode**, *i.e.* la modalité la plus fréquente (utiliser **mode**)\n",
        "*   Par une constante ou catégorie arbitraire: 0, -1\n",
        "\n",
        "Faire attention à bien travailler sur la colonne cible, sinon c'est le bordel."
      ]
    },
    {
      "cell_type": "markdown",
      "metadata": {
        "id": "BMONKxlQOBYZ"
      },
      "source": [
        "**Suppression** des valeurs manquantes **NA**\n",
        "\n",
        "Méthode **dropna**\n",
        "\n",
        "Syntaxe:   dropna(axis, how, subset,..)\n",
        "\n",
        "*   Paramètre **axis** si on doit supprimer les lignes ou les colonnes (**0** pour les lignes, **1** pour les colonnes).\n",
        "*   Paramètre **how** précise la méthodologie de suppression:\n",
        "      *  **how = 'any'**: on supprime la ligne (ou colonne) si elle contient **au moins une* valeur manquante.\n",
        "      *  **how = 'all'** on supprime la ligne (ou colonne) que si elle ne contient **que** des valeurs manquantes.\n",
        "\n",
        "*   Paramètre **subset** permet de préciser les colonnes/lignes sur lesquelles on effectue la recherche de valeurs manquantes.\n",
        "\n",
        "*e.g.* Suppression des lignes ayant des valeurs manquantes dans les colonnes suivantes 'col1', 'col3' et 'col5':\n",
        "\n",
        "df.dropna(axis = 0, how = 'any', subset = ['col1','col3', 'col5'])"
      ]
    },
    {
      "cell_type": "markdown",
      "metadata": {
        "id": "XIqXwV7pUF0y"
      },
      "source": [
        "#Préprocessing\n",
        "\n",
        "Généralement **4 opérations**:\n",
        "*  **filtrer**\n",
        "*  **unir**\n",
        "*  **ordonner**\n",
        "*  **grouper**"
      ]
    },
    {
      "cell_type": "markdown",
      "metadata": {
        "id": "XE7DtQsUUaP9"
      },
      "source": [
        "##Filtrer\n",
        "\n",
        "Les opérations suivantes sont disponibles:\n",
        "*  l'opérateur 'et': **&**\n",
        "*  l'opérateur 'ou': **|**\n",
        "*  l'opérateur 'non': **-**\n",
        "\n",
        "**NB:** s'il faut vérifier **simultanément** des conditions, alors les isoler chacune dans sa paranthèse, l'isolant de **l'opérateur**.\n",
        "\n",
        "Exemple de deux conditions remplies simultanément:\n",
        "\n",
        "print(df[(df['année'] == 1953) **&** (df['surface'] >75)])\n",
        "\n",
        "Remplacer **&** par **|** si l'on veut un *ou* logique, *i.e.* **au moins une** condition vérifiée."
      ]
    },
    {
      "cell_type": "code",
      "metadata": {
        "colab": {
          "base_uri": "https://localhost:8080/"
        },
        "id": "kiApfn6HOC_Q",
        "outputId": "f33f0899-f677-4252-a6ee-6dc1e9dd2723"
      },
      "source": [
        "# Création de e_shop et teleshop\n",
        "teleshop = transactions[(transactions['store_type'] == 'TeleShop') & (transactions['total_amt'] > 5000)]\n",
        "\n",
        "e_shop = transactions[(transactions['store_type'] == 'e-Shop') & (transactions['total_amt'] > 5000)]\n",
        "\n",
        "# Dénombrement des lignes des 2 DataFrame avec la fonction len. D'autres solutions existent.\n",
        "print('Nombre de transactions à plus de 5000€ pour le e-shop :', len(e_shop['total_amt']))\n",
        "print('Nombre de transactions à plus de 5000€ pour le TeleShop :', len(teleshop['total_amt']))"
      ],
      "execution_count": null,
      "outputs": [
        {
          "output_type": "stream",
          "text": [
            "Nombre de transactions à plus de 5000€ pour le e-shop : 1190\n",
            "Nombre de transactions à plus de 5000€ pour le TeleShop : 536\n"
          ],
          "name": "stdout"
        }
      ]
    },
    {
      "cell_type": "markdown",
      "metadata": {
        "id": "j0bRBTHkV8pA"
      },
      "source": [
        "On s'attaque maintenant aux autres fichiers:"
      ]
    },
    {
      "cell_type": "code",
      "metadata": {
        "id": "sJPRdTlUWAV0"
      },
      "source": [
        "url = 'https://raw.githubusercontent.com/federicoding/TrainingGeneral/main/Customer.csv'\n",
        "customer = pd.read_csv(filepath_or_buffer=url, sep=',')\n",
        "\n",
        "url = 'https://raw.githubusercontent.com/federicoding/TrainingGeneral/main/prod_cat_info.csv'\n",
        "prod_cat_info = pd.read_csv(filepath_or_buffer=url, sep=',')"
      ],
      "execution_count": null,
      "outputs": []
    },
    {
      "cell_type": "markdown",
      "metadata": {
        "id": "_3IjNQ-qWszX"
      },
      "source": [
        "Remplacement du **Gender** et du **city_code** par leur mode"
      ]
    },
    {
      "cell_type": "code",
      "metadata": {
        "id": "DWPCeNjfW4Rf"
      },
      "source": [
        "customer['Gender'] = customer['Gender'].fillna(customer['Gender'].mode()[0])\n",
        "customer['city_code'] = customer['city_code'].fillna(customer['city_code'].mode()[0])"
      ],
      "execution_count": null,
      "outputs": []
    },
    {
      "cell_type": "markdown",
      "metadata": {
        "id": "1wlfK_amXVkl"
      },
      "source": [
        "##Unir\n",
        "\n",
        "Avec les fonctions **concat** et **merge**\n",
        "\n",
        "**concat** permet de concaténer plusieurs DataFrames, c'est à dire les juxtaposer horizontalement ou verticalement.\n",
        "\n",
        "`pd.concat(obj, axis..`\n",
        "\n",
        "*   Le paramètre `obj` contient la liste des `DataFrames` à concaténer\n",
        "*   Le paramètre `axis` précise si l'on doit concaténer verticalement (`axis = 0`) [par *en dessous* quoi] ou horizontalement (`axis = 1`) [collé *côte à côte* / *rajout de colonnes*]. "
      ]
    },
    {
      "cell_type": "markdown",
      "metadata": {
        "id": "YX437hdDY-5z"
      },
      "source": [
        "Méthode **merge** \n",
        "\n",
        "Utile si les deux `DataFrames` ont une colonne en commun, via:\n",
        "\n",
        "`merge(right, on how, ...)`\n",
        "\n",
        "*   Le paramètre **right** est le `DataFrame` à fusionner avec celui qui appelle la méthode\n",
        "*   Le paramètre **on** est le nom des colonnes des `DataFrame` qui serviront de référence pour la fusion. Elles doivent être **communes** aux deux `DataFrames`\n",
        "*   Le paramètre **how** permet de choisir le **type de jointure** à effectuer. Les valeurs de ce paramètre sont basées sur les jointures de la syntaxe SQL.\n",
        "\n",
        "**how** peut prendre 4 valeurs (`'inner','outer,'left','right'`)\n",
        "\n",
        "Voir les images (stockées sur le DD local malheureusement ^^).\n",
        "\n",
        "Bref, en gros on fait souvent du `left`.\n",
        "\n",
        "NB: on peut faire ça *proprement* en changeant les noms des colonnes avant et tout et tout"
      ]
    },
    {
      "cell_type": "code",
      "metadata": {
        "colab": {
          "base_uri": "https://localhost:8080/",
          "height": 394
        },
        "id": "oR8IntbRXM9G",
        "outputId": "10790f7f-4bdb-4bfd-8794-666b8c1ff999"
      },
      "source": [
        "#genre:\n",
        "# On renomme la colonne 'customer_Id' en 'cust_id' pour faire la fusion\n",
        "customer = customer.rename(columns = {'customer_Id':'cust_id'})\n",
        "\n",
        "# Jointure à gauche entre transactions et customer sur la colonne 'cust_id'\n",
        "fusion = transactions.merge(right = customer, on = 'cust_id', how = 'left')\n",
        "\n",
        "# La fusion n'a produit aucun NaN\n",
        "fusion.isna().sum()\n",
        "\n",
        "# Les colonnes DOB, Gender, city_code ont bien été ajoutées à transactions\n",
        "fusion.head()"
      ],
      "execution_count": null,
      "outputs": [
        {
          "output_type": "execute_result",
          "data": {
            "text/html": [
              "<div>\n",
              "<style scoped>\n",
              "    .dataframe tbody tr th:only-of-type {\n",
              "        vertical-align: middle;\n",
              "    }\n",
              "\n",
              "    .dataframe tbody tr th {\n",
              "        vertical-align: top;\n",
              "    }\n",
              "\n",
              "    .dataframe thead th {\n",
              "        text-align: right;\n",
              "    }\n",
              "</style>\n",
              "<table border=\"1\" class=\"dataframe\">\n",
              "  <thead>\n",
              "    <tr style=\"text-align: right;\">\n",
              "      <th></th>\n",
              "      <th>cust_id</th>\n",
              "      <th>tran_date</th>\n",
              "      <th>prod_subcat_code</th>\n",
              "      <th>prod_cat_code</th>\n",
              "      <th>qty</th>\n",
              "      <th>rate</th>\n",
              "      <th>tax</th>\n",
              "      <th>total_amt</th>\n",
              "      <th>store_type</th>\n",
              "      <th>DOB</th>\n",
              "      <th>Gender</th>\n",
              "      <th>city_code</th>\n",
              "    </tr>\n",
              "  </thead>\n",
              "  <tbody>\n",
              "    <tr>\n",
              "      <th>0</th>\n",
              "      <td>270351</td>\n",
              "      <td>28-02-2014</td>\n",
              "      <td>1</td>\n",
              "      <td>1</td>\n",
              "      <td>-5</td>\n",
              "      <td>-772</td>\n",
              "      <td>405.300</td>\n",
              "      <td>-4265.300</td>\n",
              "      <td>e-Shop</td>\n",
              "      <td>26-09-1981</td>\n",
              "      <td>M</td>\n",
              "      <td>5.0</td>\n",
              "    </tr>\n",
              "    <tr>\n",
              "      <th>1</th>\n",
              "      <td>270384</td>\n",
              "      <td>27-02-2014</td>\n",
              "      <td>5</td>\n",
              "      <td>3</td>\n",
              "      <td>-5</td>\n",
              "      <td>-1497</td>\n",
              "      <td>785.925</td>\n",
              "      <td>-8270.925</td>\n",
              "      <td>e-Shop</td>\n",
              "      <td>11-05-1973</td>\n",
              "      <td>F</td>\n",
              "      <td>8.0</td>\n",
              "    </tr>\n",
              "    <tr>\n",
              "      <th>2</th>\n",
              "      <td>273420</td>\n",
              "      <td>24-02-2014</td>\n",
              "      <td>6</td>\n",
              "      <td>5</td>\n",
              "      <td>-2</td>\n",
              "      <td>-791</td>\n",
              "      <td>166.110</td>\n",
              "      <td>-1748.110</td>\n",
              "      <td>TeleShop</td>\n",
              "      <td>27-07-1992</td>\n",
              "      <td>M</td>\n",
              "      <td>8.0</td>\n",
              "    </tr>\n",
              "    <tr>\n",
              "      <th>3</th>\n",
              "      <td>271509</td>\n",
              "      <td>24-02-2014</td>\n",
              "      <td>11</td>\n",
              "      <td>6</td>\n",
              "      <td>-3</td>\n",
              "      <td>-1363</td>\n",
              "      <td>429.345</td>\n",
              "      <td>-4518.345</td>\n",
              "      <td>e-Shop</td>\n",
              "      <td>08-06-1981</td>\n",
              "      <td>M</td>\n",
              "      <td>3.0</td>\n",
              "    </tr>\n",
              "    <tr>\n",
              "      <th>4</th>\n",
              "      <td>273420</td>\n",
              "      <td>23-02-2014</td>\n",
              "      <td>6</td>\n",
              "      <td>5</td>\n",
              "      <td>-2</td>\n",
              "      <td>-791</td>\n",
              "      <td>166.110</td>\n",
              "      <td>-1748.110</td>\n",
              "      <td>TeleShop</td>\n",
              "      <td>27-07-1992</td>\n",
              "      <td>M</td>\n",
              "      <td>8.0</td>\n",
              "    </tr>\n",
              "  </tbody>\n",
              "</table>\n",
              "</div>"
            ],
            "text/plain": [
              "   cust_id   tran_date  prod_subcat_code  ...         DOB  Gender  city_code\n",
              "0   270351  28-02-2014                 1  ...  26-09-1981       M        5.0\n",
              "1   270384  27-02-2014                 5  ...  11-05-1973       F        8.0\n",
              "2   273420  24-02-2014                 6  ...  27-07-1992       M        8.0\n",
              "3   271509  24-02-2014                11  ...  08-06-1981       M        3.0\n",
              "4   273420  23-02-2014                 6  ...  27-07-1992       M        8.0\n",
              "\n",
              "[5 rows x 12 columns]"
            ]
          },
          "metadata": {
            "tags": []
          },
          "execution_count": 36
        }
      ]
    },
    {
      "cell_type": "markdown",
      "metadata": {
        "id": "WxjeMfgRa9Bz"
      },
      "source": [
        "Ou un peu plus salement, mais rapidement"
      ]
    },
    {
      "cell_type": "code",
      "metadata": {
        "id": "ayAIRMxSa8OL"
      },
      "source": [
        "#genre:\n",
        "#merge \"prod_concat\" and \"customer\" table and create the final table \"customer_final\"\n",
        "#customer_final = pd.merge(left=prod_concat, right=customer,right_on=\"customer_Id\", left_on=\"cust_id\", how=\"left\")"
      ],
      "execution_count": null,
      "outputs": []
    },
    {
      "cell_type": "markdown",
      "metadata": {
        "id": "atVq8ZfObiBA"
      },
      "source": [
        "La **fusion** s'est bien passée, mais **l'index** à sauté. Il faut le refaire. Avec la méthode **set_index**.\n",
        "\n",
        "Il faut donner à manger à `set_index()` soit:\n",
        "*   le **nom** d'une colonne à utiliser comme indexation\n",
        "*  un `array` Numpy ou une `Series` pandas avec le même nombre de lignes que le `DataFrame` appelant la méthode."
      ]
    },
    {
      "cell_type": "code",
      "metadata": {
        "colab": {
          "base_uri": "https://localhost:8080/",
          "height": 425
        },
        "id": "xRNmq5XbcEfE",
        "outputId": "8c5e93dc-fb09-4920-dac3-fbc829087d75"
      },
      "source": [
        "new_index = transactions.index\n",
        "fusion = fusion.set_index(new_index)\n",
        "fusion.head()"
      ],
      "execution_count": null,
      "outputs": [
        {
          "output_type": "execute_result",
          "data": {
            "text/html": [
              "<div>\n",
              "<style scoped>\n",
              "    .dataframe tbody tr th:only-of-type {\n",
              "        vertical-align: middle;\n",
              "    }\n",
              "\n",
              "    .dataframe tbody tr th {\n",
              "        vertical-align: top;\n",
              "    }\n",
              "\n",
              "    .dataframe thead th {\n",
              "        text-align: right;\n",
              "    }\n",
              "</style>\n",
              "<table border=\"1\" class=\"dataframe\">\n",
              "  <thead>\n",
              "    <tr style=\"text-align: right;\">\n",
              "      <th></th>\n",
              "      <th>cust_id</th>\n",
              "      <th>tran_date</th>\n",
              "      <th>prod_subcat_code</th>\n",
              "      <th>prod_cat_code</th>\n",
              "      <th>qty</th>\n",
              "      <th>rate</th>\n",
              "      <th>tax</th>\n",
              "      <th>total_amt</th>\n",
              "      <th>store_type</th>\n",
              "      <th>DOB</th>\n",
              "      <th>Gender</th>\n",
              "      <th>city_code</th>\n",
              "    </tr>\n",
              "    <tr>\n",
              "      <th>transaction_id</th>\n",
              "      <th></th>\n",
              "      <th></th>\n",
              "      <th></th>\n",
              "      <th></th>\n",
              "      <th></th>\n",
              "      <th></th>\n",
              "      <th></th>\n",
              "      <th></th>\n",
              "      <th></th>\n",
              "      <th></th>\n",
              "      <th></th>\n",
              "      <th></th>\n",
              "    </tr>\n",
              "  </thead>\n",
              "  <tbody>\n",
              "    <tr>\n",
              "      <th>80712190438</th>\n",
              "      <td>270351</td>\n",
              "      <td>28-02-2014</td>\n",
              "      <td>1</td>\n",
              "      <td>1</td>\n",
              "      <td>-5</td>\n",
              "      <td>-772</td>\n",
              "      <td>405.300</td>\n",
              "      <td>-4265.300</td>\n",
              "      <td>e-Shop</td>\n",
              "      <td>26-09-1981</td>\n",
              "      <td>M</td>\n",
              "      <td>5.0</td>\n",
              "    </tr>\n",
              "    <tr>\n",
              "      <th>29258453508</th>\n",
              "      <td>270384</td>\n",
              "      <td>27-02-2014</td>\n",
              "      <td>5</td>\n",
              "      <td>3</td>\n",
              "      <td>-5</td>\n",
              "      <td>-1497</td>\n",
              "      <td>785.925</td>\n",
              "      <td>-8270.925</td>\n",
              "      <td>e-Shop</td>\n",
              "      <td>11-05-1973</td>\n",
              "      <td>F</td>\n",
              "      <td>8.0</td>\n",
              "    </tr>\n",
              "    <tr>\n",
              "      <th>51750724947</th>\n",
              "      <td>273420</td>\n",
              "      <td>24-02-2014</td>\n",
              "      <td>6</td>\n",
              "      <td>5</td>\n",
              "      <td>-2</td>\n",
              "      <td>-791</td>\n",
              "      <td>166.110</td>\n",
              "      <td>-1748.110</td>\n",
              "      <td>TeleShop</td>\n",
              "      <td>27-07-1992</td>\n",
              "      <td>M</td>\n",
              "      <td>8.0</td>\n",
              "    </tr>\n",
              "    <tr>\n",
              "      <th>93274880719</th>\n",
              "      <td>271509</td>\n",
              "      <td>24-02-2014</td>\n",
              "      <td>11</td>\n",
              "      <td>6</td>\n",
              "      <td>-3</td>\n",
              "      <td>-1363</td>\n",
              "      <td>429.345</td>\n",
              "      <td>-4518.345</td>\n",
              "      <td>e-Shop</td>\n",
              "      <td>08-06-1981</td>\n",
              "      <td>M</td>\n",
              "      <td>3.0</td>\n",
              "    </tr>\n",
              "    <tr>\n",
              "      <th>51750724947</th>\n",
              "      <td>273420</td>\n",
              "      <td>23-02-2014</td>\n",
              "      <td>6</td>\n",
              "      <td>5</td>\n",
              "      <td>-2</td>\n",
              "      <td>-791</td>\n",
              "      <td>166.110</td>\n",
              "      <td>-1748.110</td>\n",
              "      <td>TeleShop</td>\n",
              "      <td>27-07-1992</td>\n",
              "      <td>M</td>\n",
              "      <td>8.0</td>\n",
              "    </tr>\n",
              "  </tbody>\n",
              "</table>\n",
              "</div>"
            ],
            "text/plain": [
              "                cust_id   tran_date  ...  Gender  city_code\n",
              "transaction_id                       ...                   \n",
              "80712190438      270351  28-02-2014  ...       M        5.0\n",
              "29258453508      270384  27-02-2014  ...       F        8.0\n",
              "51750724947      273420  24-02-2014  ...       M        8.0\n",
              "93274880719      271509  24-02-2014  ...       M        3.0\n",
              "51750724947      273420  23-02-2014  ...       M        8.0\n",
              "\n",
              "[5 rows x 12 columns]"
            ]
          },
          "metadata": {
            "tags": []
          },
          "execution_count": 37
        }
      ]
    },
    {
      "cell_type": "markdown",
      "metadata": {
        "id": "LtXe9rUacR9z"
      },
      "source": [
        "##Trier et Ordonner\n",
        "\n",
        "Deux méthodes: **sort_values** et **sort_index**\n",
        "\n",
        "**sort_values** permet de trier les lignes d'une `DataFrame` selon les valeurs d'une ou de plusieurs colonnes, syntaxe:\n",
        "\n",
        "`sort_values(by, ascending,...)`\n",
        "\n",
        "*   le paramètre `by` permet de préciser sur quelle(s) colonne(s) le tri est effectué\n",
        "*   le paramètre `ascending` est un booléen (`True` ou `False`) déterminant l'odre croissant/décroissant du tri. Par défaut ce paramètre vaut `True`\n",
        "\n",
        "On peut trier par *tiroirs* *i.e.* un premier tri global, par exemple par une valeur numérique, et ensuite par ordre alphabétique sur une deuxième colonne (sans toucher au premier tri).\n",
        "\n",
        "**sort_index** permet de trier par l'index."
      ]
    },
    {
      "cell_type": "markdown",
      "metadata": {
        "id": "hiep--VSd9vx"
      },
      "source": [
        "Petit exercice de style avec des `DataFrames` de bateaux"
      ]
    },
    {
      "cell_type": "code",
      "metadata": {
        "id": "QtM_xqthcPD0"
      },
      "source": [
        "# Definition des dictionnaires\n",
        "data_bateaux = {'nom_bateau'  : ['Julia', 'Siren', 'Sea Sons', 'Hercules', 'Cesar', 'Minerva'], \n",
        "                'couleur'    : ['bleu', 'vert', 'rouge', 'bleu', 'jaune', 'vert'],\n",
        "                'numero_reservation': [2, 3, 6, 1, 4, 5],\n",
        "                'nombre_reservations': [34, 10, 20, 41, 12, 16]}\n",
        "\n",
        "data_clients = {'id_client' : [91, 154, 124, 320, 87, 22], \n",
        "                'nom_client'        : ['Marie', 'Anna', 'Yann', 'Lea', 'Marc', 'Yassine'],\n",
        "                'id_reservation': [1, 2, 3, 7, 9, 5]}\n",
        "\n",
        "# Creation des DataFrames\n",
        "bateaux = pd.DataFrame(data_bateaux)\n",
        "clients = pd.DataFrame(data_clients)"
      ],
      "execution_count": null,
      "outputs": []
    },
    {
      "cell_type": "code",
      "metadata": {
        "id": "JTRVnL7YeHRv"
      },
      "source": [
        "#on renome la colonne\n",
        "bateaux = bateaux.rename(columns={'numero_reservation':'id_reservation'})\n",
        "\n",
        "#on joint bateaux et clients\n",
        "bateaux_clients = bateaux.merge(right = clients, on='id_reservation', how='left')\n",
        "\n",
        "#on indexe avec la colonne 'nom_bateau'\n",
        "bateaux_clients = bateaux_clients.set_index('nom_bateau')"
      ],
      "execution_count": null,
      "outputs": []
    },
    {
      "cell_type": "markdown",
      "metadata": {
        "id": "N3wI9Gwkevla"
      },
      "source": [
        "On cherche qui a réservé les bateaux `Julia` et `Siren`"
      ]
    },
    {
      "cell_type": "code",
      "metadata": {
        "colab": {
          "base_uri": "https://localhost:8080/"
        },
        "id": "sfSih72Ae21M",
        "outputId": "252326c6-9d59-49e2-a6e6-352c10158822"
      },
      "source": [
        "print(\"Le client qui a réservé 'Julia' est:\", bateaux_clients.loc['Julia','nom_client'])\n",
        "print(\"Le client qui a réservé 'Siren' est:\", bateaux_clients.loc['Siren', 'nom_client'])"
      ],
      "execution_count": null,
      "outputs": [
        {
          "output_type": "stream",
          "text": [
            "Le client qui a réservé 'Julia' est: Anna\n",
            "Le client qui a réservé 'Siren' est: Yann\n"
          ],
          "name": "stdout"
        }
      ]
    },
    {
      "cell_type": "markdown",
      "metadata": {
        "id": "JEfwJqLafV5F"
      },
      "source": [
        "Avec la méthode **`isna`** appliquée à la colonne `nom_client` déterminer les bateaux non réservés"
      ]
    },
    {
      "cell_type": "code",
      "metadata": {
        "colab": {
          "base_uri": "https://localhost:8080/"
        },
        "id": "W2t0ysUwfiz7",
        "outputId": "fbc38dc2-01b7-4abb-b9d2-850906618912"
      },
      "source": [
        "bateaux_non_reserves = bateaux_clients[bateaux_clients['nom_client'].isna()]\n",
        "print(\"Les bateaux qui n'ont pas été réservés sont:\", [bateau for bateau in bateaux_non_reserves.index])"
      ],
      "execution_count": null,
      "outputs": [
        {
          "output_type": "stream",
          "text": [
            "Les bateaux qui n'ont pas été réservés sont: ['Sea Sons', 'Cesar']\n"
          ],
          "name": "stdout"
        }
      ]
    },
    {
      "cell_type": "markdown",
      "metadata": {
        "id": "oWKEUwlvf9_o"
      },
      "source": [
        "Avec **sort_values** déterminer le nom du client qui a réservé le bateau bleu ayant le plus de réservations à son actif."
      ]
    },
    {
      "cell_type": "code",
      "metadata": {
        "colab": {
          "base_uri": "https://localhost:8080/"
        },
        "id": "o09TVwIbf4dV",
        "outputId": "50673327-8663-4768-f8d1-6f2328fde4a2"
      },
      "source": [
        "bateaux_clients = bateaux_clients.sort_values(by=['couleur','nombre_reservations'], ascending=[True,False])\n",
        "\n",
        "print(bateaux_clients)\n",
        "\n",
        "print(\"Le bateau bleu le plus réservé l'est par:\",bateaux_clients.nom_client[0])"
      ],
      "execution_count": null,
      "outputs": [
        {
          "output_type": "stream",
          "text": [
            "           couleur  id_reservation  nombre_reservations  id_client nom_client\n",
            "nom_bateau                                                                   \n",
            "Hercules      bleu               1                   41       91.0      Marie\n",
            "Julia         bleu               2                   34      154.0       Anna\n",
            "Cesar        jaune               4                   12        NaN        NaN\n",
            "Sea Sons     rouge               6                   20        NaN        NaN\n",
            "Minerva       vert               5                   16       22.0    Yassine\n",
            "Siren         vert               3                   10      124.0       Yann\n",
            "Le bateau bleu le plus réservé l'est par: Marie\n"
          ],
          "name": "stdout"
        }
      ]
    },
    {
      "cell_type": "markdown",
      "metadata": {
        "id": "VC89Scl0em12"
      },
      "source": [
        "##Grouper les éléments\n",
        "\n",
        "Avec les méthodes suivantes: **groupby**, **agg** et **crosstab**.\n",
        "\n",
        "###Groupby\n",
        "\n",
        "**`groupby`** permet de grouper les lignes d'un `DataFrame` qui partagent une valeur commune sur une colonne.\n",
        "\n",
        "**Cette méthode ne renvoie pas un DataFrame** mais un objet de classe **DataFrameGroupBy**.\n",
        "\n",
        "La *structure* de l'opération **groupby** est la suivante, en trois étapes:\n",
        "*   **Séparation** (**Split**) des données\n",
        "*   **Application** (**Apply**) d'une fonction\n",
        "*   **Combinaison** (**Combine**) des résultats\n",
        "\n",
        "*E.g.*: pour l'exemple des bateaux précédents, les *split* par couleur, *apply* une moyenne (sur nb reservations par exemple) et *combine* le résultat pour le présenter.\n",
        "\n",
        "Il est possible, pour chaque de spécifier pour chaque colonne quelle fonction doit être utilisée à l'étape **Application** (**Apply**) d'une opération `groupby`. Pour cela on utilise la méthode **agg** de la classe `DataFrameGroupeBy` en lui renseignant un **dictionnaire** où chaque **cléf** et le **nom** d'une colonne et la **valeur** est la **fonction** à appliquer."
      ]
    },
    {
      "cell_type": "markdown",
      "metadata": {
        "id": "7x59Rnhyg3Dh"
      },
      "source": [
        "Nous voulons, **pour chaque client** (cust_id), déterminer pour la colonne `total_amt` le **minimum**, **maximum**, le **montant total dépensé*. Nous voulons aussi savoir dans **combien de types** de magasins différents le client a efféctué une transaction (colonne `store_type`).\n",
        "\n",
        "Nous pouvons effectuer faire ces calculs à l'aide d'une **opération groupby**:\n",
        "\n",
        "*   **Séparer** les transactions par l'**identifiant client**.\n",
        "*   Pour la colonne **total_amt**, calculer le minimum (`min`), maximum (`max`) et la somme (`sum`). Pour la colonne **store_type**, compter le **nombre de modalités prises** (`count`).\n",
        "*   **Combiner** les résultats dans un `DataFrame`.\n",
        "\n",
        "Pour trouver le nombre de modalités prise par la colonne store_type, nous allons utiliser la fonction **lambda** suivante:\n",
        "\n",
        "`import numpy as np`\n",
        "\n",
        "`n_modalities = lambda store_type: len(np.unique(store_type))`\n",
        "\n",
        "*   La fonction lambda doit prendre en argument une **colonne** et retourner un **nombre**.\n",
        "*   La fonction **np.unique** determine les modalités **uniques** qui apparaissent dans une séquence.\n",
        "*   La fonction **len** compte le nombre d'éléments dans une séquence.\n",
        "\n",
        "Ainsi, cette fonction va nous permettre de déterminer le nombre de modalités uniques pour la colonne `store_type`.\n",
        "\n",
        "Pour appliquer ces fonctions dans l'opération `groupby`, nous allons utiliser un dictionnaire dont les **clés** sont les **colonnes** à traiter et les **valeurs** les **fonctions** à utiliser.\n",
        "\n",
        "functions_to_apply = {\n",
        "    # Les méthodes statistiques classiques peuvent être renseignées avec\n",
        "    # chaines de caractères\n",
        "    'total_amt' : ['min', 'max', 'sum'],\n",
        "    'store_type' : n_modalities\n",
        "}\n",
        "Ce dictionnaire peut maintenant être utilisé avec la méthode **agg**:\n",
        "`transactions.groupby('cust_id').agg(functions_to_apply)`"
      ]
    },
    {
      "cell_type": "markdown",
      "metadata": {
        "id": "B9tuLMooic7o"
      },
      "source": [
        "On va faire de même pour la colonne **qty**, pour chaque client on vuet le max, min et mediane. Attention à filtrer les quantités négatives."
      ]
    },
    {
      "cell_type": "code",
      "metadata": {
        "id": "7ksFdXtngx_D",
        "colab": {
          "base_uri": "https://localhost:8080/",
          "height": 266
        },
        "outputId": "5d584463-9079-4c37-85da-780051bfb21a"
      },
      "source": [
        "max_qty = lambda qty: qty[qty > 0].max()\n",
        "min_qty = lambda qty: qty[qty > 0].min()\n",
        "median_qty = lambda qty: qty[qty > 0].median()\n",
        "\n",
        "\n",
        "fonctions_a_appliquer = {'qty': [max_qty, min_qty, median_qty]}\n",
        "\n",
        "qty_groupy = transactions.groupby('cust_id').agg(fonctions_a_appliquer)\n",
        "qty_groupy.head()"
      ],
      "execution_count": 38,
      "outputs": [
        {
          "output_type": "execute_result",
          "data": {
            "text/html": [
              "<div>\n",
              "<style scoped>\n",
              "    .dataframe tbody tr th:only-of-type {\n",
              "        vertical-align: middle;\n",
              "    }\n",
              "\n",
              "    .dataframe tbody tr th {\n",
              "        vertical-align: top;\n",
              "    }\n",
              "\n",
              "    .dataframe thead tr th {\n",
              "        text-align: left;\n",
              "    }\n",
              "\n",
              "    .dataframe thead tr:last-of-type th {\n",
              "        text-align: right;\n",
              "    }\n",
              "</style>\n",
              "<table border=\"1\" class=\"dataframe\">\n",
              "  <thead>\n",
              "    <tr>\n",
              "      <th></th>\n",
              "      <th colspan=\"3\" halign=\"left\">qty</th>\n",
              "    </tr>\n",
              "    <tr>\n",
              "      <th></th>\n",
              "      <th>&lt;lambda_0&gt;</th>\n",
              "      <th>&lt;lambda_1&gt;</th>\n",
              "      <th>&lt;lambda_2&gt;</th>\n",
              "    </tr>\n",
              "    <tr>\n",
              "      <th>cust_id</th>\n",
              "      <th></th>\n",
              "      <th></th>\n",
              "      <th></th>\n",
              "    </tr>\n",
              "  </thead>\n",
              "  <tbody>\n",
              "    <tr>\n",
              "      <th>266783</th>\n",
              "      <td>4</td>\n",
              "      <td>1</td>\n",
              "      <td>2.5</td>\n",
              "    </tr>\n",
              "    <tr>\n",
              "      <th>266784</th>\n",
              "      <td>5</td>\n",
              "      <td>2</td>\n",
              "      <td>3.0</td>\n",
              "    </tr>\n",
              "    <tr>\n",
              "      <th>266785</th>\n",
              "      <td>5</td>\n",
              "      <td>2</td>\n",
              "      <td>5.0</td>\n",
              "    </tr>\n",
              "    <tr>\n",
              "      <th>266788</th>\n",
              "      <td>4</td>\n",
              "      <td>1</td>\n",
              "      <td>1.5</td>\n",
              "    </tr>\n",
              "    <tr>\n",
              "      <th>266794</th>\n",
              "      <td>4</td>\n",
              "      <td>1</td>\n",
              "      <td>3.0</td>\n",
              "    </tr>\n",
              "  </tbody>\n",
              "</table>\n",
              "</div>"
            ],
            "text/plain": [
              "               qty                      \n",
              "        <lambda_0> <lambda_1> <lambda_2>\n",
              "cust_id                                 \n",
              "266783           4          1        2.5\n",
              "266784           5          2        3.0\n",
              "266785           5          2        5.0\n",
              "266788           4          1        1.5\n",
              "266794           4          1        3.0"
            ]
          },
          "metadata": {
            "tags": []
          },
          "execution_count": 38
        }
      ]
    },
    {
      "cell_type": "markdown",
      "metadata": {
        "id": "T_NdYcygkWZe"
      },
      "source": [
        "###Crosstab\n",
        "\n",
        "Une autre manière de grouper et résumer des données est d'utiliser la fonction `crosstab` de `pandas` qui sert à croiser les données des colonnes d'un `DataFrame`.\n",
        "\n",
        "Elle permet de visualiser la **fréquence** d'apparition de **paires de modalités** dans un `DataFrame`.\n",
        "\n",
        "Par exemple, dans `transactions` nous voulons savoir quels sont les couples de catégorie et sous-catégories les plus fréquents (colonnes `prod_cat_code` et `prod_subcat_code`).\n",
        "\n",
        "La fonction `crosstab` de pandans nous donne ce résultat de la façon suivante:"
      ]
    },
    {
      "cell_type": "code",
      "metadata": {
        "colab": {
          "base_uri": "https://localhost:8080/",
          "height": 266
        },
        "id": "70u6l6WRjgH8",
        "outputId": "c4fec57c-6598-4d23-ccbd-81dca118f5c3"
      },
      "source": [
        "colonne1 = transactions['prod_cat_code']\n",
        "colonne2 = transactions['prod_subcat_code']\n",
        "pd.crosstab(colonne1, colonne2)"
      ],
      "execution_count": 39,
      "outputs": [
        {
          "output_type": "execute_result",
          "data": {
            "text/html": [
              "<div>\n",
              "<style scoped>\n",
              "    .dataframe tbody tr th:only-of-type {\n",
              "        vertical-align: middle;\n",
              "    }\n",
              "\n",
              "    .dataframe tbody tr th {\n",
              "        vertical-align: top;\n",
              "    }\n",
              "\n",
              "    .dataframe thead th {\n",
              "        text-align: right;\n",
              "    }\n",
              "</style>\n",
              "<table border=\"1\" class=\"dataframe\">\n",
              "  <thead>\n",
              "    <tr style=\"text-align: right;\">\n",
              "      <th>prod_subcat_code</th>\n",
              "      <th>1</th>\n",
              "      <th>2</th>\n",
              "      <th>3</th>\n",
              "      <th>4</th>\n",
              "      <th>5</th>\n",
              "      <th>6</th>\n",
              "      <th>7</th>\n",
              "      <th>8</th>\n",
              "      <th>9</th>\n",
              "      <th>10</th>\n",
              "      <th>11</th>\n",
              "      <th>12</th>\n",
              "    </tr>\n",
              "    <tr>\n",
              "      <th>prod_cat_code</th>\n",
              "      <th></th>\n",
              "      <th></th>\n",
              "      <th></th>\n",
              "      <th></th>\n",
              "      <th></th>\n",
              "      <th></th>\n",
              "      <th></th>\n",
              "      <th></th>\n",
              "      <th></th>\n",
              "      <th></th>\n",
              "      <th></th>\n",
              "      <th></th>\n",
              "    </tr>\n",
              "  </thead>\n",
              "  <tbody>\n",
              "    <tr>\n",
              "      <th>1</th>\n",
              "      <td>1005</td>\n",
              "      <td>0</td>\n",
              "      <td>988</td>\n",
              "      <td>967</td>\n",
              "      <td>0</td>\n",
              "      <td>0</td>\n",
              "      <td>0</td>\n",
              "      <td>0</td>\n",
              "      <td>0</td>\n",
              "      <td>0</td>\n",
              "      <td>0</td>\n",
              "      <td>0</td>\n",
              "    </tr>\n",
              "    <tr>\n",
              "      <th>2</th>\n",
              "      <td>940</td>\n",
              "      <td>0</td>\n",
              "      <td>1047</td>\n",
              "      <td>1009</td>\n",
              "      <td>0</td>\n",
              "      <td>0</td>\n",
              "      <td>0</td>\n",
              "      <td>0</td>\n",
              "      <td>0</td>\n",
              "      <td>0</td>\n",
              "      <td>0</td>\n",
              "      <td>0</td>\n",
              "    </tr>\n",
              "    <tr>\n",
              "      <th>3</th>\n",
              "      <td>0</td>\n",
              "      <td>0</td>\n",
              "      <td>0</td>\n",
              "      <td>1030</td>\n",
              "      <td>958</td>\n",
              "      <td>0</td>\n",
              "      <td>0</td>\n",
              "      <td>970</td>\n",
              "      <td>985</td>\n",
              "      <td>952</td>\n",
              "      <td>0</td>\n",
              "      <td>0</td>\n",
              "    </tr>\n",
              "    <tr>\n",
              "      <th>4</th>\n",
              "      <td>1003</td>\n",
              "      <td>0</td>\n",
              "      <td>0</td>\n",
              "      <td>994</td>\n",
              "      <td>0</td>\n",
              "      <td>0</td>\n",
              "      <td>0</td>\n",
              "      <td>0</td>\n",
              "      <td>0</td>\n",
              "      <td>0</td>\n",
              "      <td>0</td>\n",
              "      <td>0</td>\n",
              "    </tr>\n",
              "    <tr>\n",
              "      <th>5</th>\n",
              "      <td>0</td>\n",
              "      <td>0</td>\n",
              "      <td>1030</td>\n",
              "      <td>0</td>\n",
              "      <td>0</td>\n",
              "      <td>989</td>\n",
              "      <td>1043</td>\n",
              "      <td>0</td>\n",
              "      <td>0</td>\n",
              "      <td>1003</td>\n",
              "      <td>1035</td>\n",
              "      <td>966</td>\n",
              "    </tr>\n",
              "    <tr>\n",
              "      <th>6</th>\n",
              "      <td>0</td>\n",
              "      <td>1007</td>\n",
              "      <td>0</td>\n",
              "      <td>0</td>\n",
              "      <td>0</td>\n",
              "      <td>0</td>\n",
              "      <td>0</td>\n",
              "      <td>0</td>\n",
              "      <td>0</td>\n",
              "      <td>1036</td>\n",
              "      <td>1022</td>\n",
              "      <td>1061</td>\n",
              "    </tr>\n",
              "  </tbody>\n",
              "</table>\n",
              "</div>"
            ],
            "text/plain": [
              "prod_subcat_code    1     2     3     4    5   ...   8    9     10    11    12\n",
              "prod_cat_code                                  ...                            \n",
              "1                 1005     0   988   967    0  ...    0    0     0     0     0\n",
              "2                  940     0  1047  1009    0  ...    0    0     0     0     0\n",
              "3                    0     0     0  1030  958  ...  970  985   952     0     0\n",
              "4                 1003     0     0   994    0  ...    0    0     0     0     0\n",
              "5                    0     0  1030     0    0  ...    0    0  1003  1035   966\n",
              "6                    0  1007     0     0    0  ...    0    0  1036  1022  1061\n",
              "\n",
              "[6 rows x 12 columns]"
            ]
          },
          "metadata": {
            "tags": []
          },
          "execution_count": 39
        }
      ]
    },
    {
      "cell_type": "markdown",
      "metadata": {
        "id": "OKPufea_lMIJ"
      },
      "source": [
        "La case `(i, j)` du `DataFrame` résultat contient le nombe d'éléments du `DataFrame` ayant la modalité `i` pour la colonne 1 et la modalité `j` pour la colonne 2. Ce qui rend facile de déterminer les **sous-catégories dominantes**.\n",
        "\n",
        "l'argument **normalize** de `crosstab` permet d'afficher les fréquences sous forme de pourcentage (comprendre *un chiffre entre `0` et `1`).\n",
        "\n",
        "L'argument **normalise = 1** normalise le tableau sur l'axis 1 c'est à dire sur chaque **colonne**"
      ]
    },
    {
      "cell_type": "code",
      "metadata": {
        "id": "WeseZWhPnSKa"
      },
      "source": [
        "transactions = transactions[~transactions['tran_date'].str.contains(pat='/')]"
      ],
      "execution_count": 47,
      "outputs": []
    },
    {
      "cell_type": "code",
      "metadata": {
        "id": "Xapiz5-SnZHb"
      },
      "source": [
        "transactions['day'], transactions['month'], transactions['year'] = transactions.tran_date.apply(get_day), transactions.tran_date.apply(get_month), transactions.tran_date.apply(get_year)\n",
        "#NB: Data Cleaning \"rapide\" doit avoir été lancé"
      ],
      "execution_count": 48,
      "outputs": []
    },
    {
      "cell_type": "code",
      "metadata": {
        "colab": {
          "base_uri": "https://localhost:8080/",
          "height": 204
        },
        "id": "zmamTTdslKPr",
        "outputId": "14e720c8-aac1-492a-b3f6-48b4f17e3b54"
      },
      "source": [
        "#Récupération de l'année de la transaction\n",
        "colonne1 = transactions['year']\n",
        "colonne2 = transactions['store_type']\n",
        "\n",
        "pd.crosstab(colonne1, colonne2, normalize = 1)"
      ],
      "execution_count": 50,
      "outputs": [
        {
          "output_type": "execute_result",
          "data": {
            "text/html": [
              "<div>\n",
              "<style scoped>\n",
              "    .dataframe tbody tr th:only-of-type {\n",
              "        vertical-align: middle;\n",
              "    }\n",
              "\n",
              "    .dataframe tbody tr th {\n",
              "        vertical-align: top;\n",
              "    }\n",
              "\n",
              "    .dataframe thead th {\n",
              "        text-align: right;\n",
              "    }\n",
              "</style>\n",
              "<table border=\"1\" class=\"dataframe\">\n",
              "  <thead>\n",
              "    <tr style=\"text-align: right;\">\n",
              "      <th>store_type</th>\n",
              "      <th>Flagship store</th>\n",
              "      <th>MBR</th>\n",
              "      <th>TeleShop</th>\n",
              "      <th>e-Shop</th>\n",
              "    </tr>\n",
              "    <tr>\n",
              "      <th>year</th>\n",
              "      <th></th>\n",
              "      <th></th>\n",
              "      <th></th>\n",
              "      <th></th>\n",
              "    </tr>\n",
              "  </thead>\n",
              "  <tbody>\n",
              "    <tr>\n",
              "      <th>2011</th>\n",
              "      <td>0.297834</td>\n",
              "      <td>0.332394</td>\n",
              "      <td>0.293558</td>\n",
              "      <td>0.314742</td>\n",
              "    </tr>\n",
              "    <tr>\n",
              "      <th>2012</th>\n",
              "      <td>0.335379</td>\n",
              "      <td>0.311620</td>\n",
              "      <td>0.339312</td>\n",
              "      <td>0.328192</td>\n",
              "    </tr>\n",
              "    <tr>\n",
              "      <th>2013</th>\n",
              "      <td>0.331769</td>\n",
              "      <td>0.316901</td>\n",
              "      <td>0.327599</td>\n",
              "      <td>0.314562</td>\n",
              "    </tr>\n",
              "    <tr>\n",
              "      <th>2014</th>\n",
              "      <td>0.035018</td>\n",
              "      <td>0.039085</td>\n",
              "      <td>0.039531</td>\n",
              "      <td>0.042504</td>\n",
              "    </tr>\n",
              "  </tbody>\n",
              "</table>\n",
              "</div>"
            ],
            "text/plain": [
              "store_type  Flagship store       MBR  TeleShop    e-Shop\n",
              "year                                                    \n",
              "2011              0.297834  0.332394  0.293558  0.314742\n",
              "2012              0.335379  0.311620  0.339312  0.328192\n",
              "2013              0.331769  0.316901  0.327599  0.314562\n",
              "2014              0.035018  0.039085  0.039531  0.042504"
            ]
          },
          "metadata": {
            "tags": []
          },
          "execution_count": 50
        }
      ]
    },
    {
      "cell_type": "markdown",
      "metadata": {
        "id": "1pPhX35_npbj"
      },
      "source": [
        "On voit que **33,5379%** des transactions effectuées dans un **Flagship store** ont eu lieu en **2012**.\n",
        "\n",
        "Inversement, en renseignant l'arument **normalize = 0** on normalise le tableau sur chaque **ligne**"
      ]
    },
    {
      "cell_type": "code",
      "metadata": {
        "colab": {
          "base_uri": "https://localhost:8080/",
          "height": 204
        },
        "id": "Wwu1VMk2n_mX",
        "outputId": "033e2706-9ba3-4964-fa03-1c321b3c89a5"
      },
      "source": [
        "pd.crosstab(colonne1, colonne2, normalize = 0)"
      ],
      "execution_count": 51,
      "outputs": [
        {
          "output_type": "execute_result",
          "data": {
            "text/html": [
              "<div>\n",
              "<style scoped>\n",
              "    .dataframe tbody tr th:only-of-type {\n",
              "        vertical-align: middle;\n",
              "    }\n",
              "\n",
              "    .dataframe tbody tr th {\n",
              "        vertical-align: top;\n",
              "    }\n",
              "\n",
              "    .dataframe thead th {\n",
              "        text-align: right;\n",
              "    }\n",
              "</style>\n",
              "<table border=\"1\" class=\"dataframe\">\n",
              "  <thead>\n",
              "    <tr style=\"text-align: right;\">\n",
              "      <th>store_type</th>\n",
              "      <th>Flagship store</th>\n",
              "      <th>MBR</th>\n",
              "      <th>TeleShop</th>\n",
              "      <th>e-Shop</th>\n",
              "    </tr>\n",
              "    <tr>\n",
              "      <th>year</th>\n",
              "      <th></th>\n",
              "      <th></th>\n",
              "      <th></th>\n",
              "      <th></th>\n",
              "    </tr>\n",
              "  </thead>\n",
              "  <tbody>\n",
              "    <tr>\n",
              "      <th>2011</th>\n",
              "      <td>0.190707</td>\n",
              "      <td>0.218215</td>\n",
              "      <td>0.185391</td>\n",
              "      <td>0.405687</td>\n",
              "    </tr>\n",
              "    <tr>\n",
              "      <th>2012</th>\n",
              "      <td>0.203238</td>\n",
              "      <td>0.193612</td>\n",
              "      <td>0.202800</td>\n",
              "      <td>0.400350</td>\n",
              "    </tr>\n",
              "    <tr>\n",
              "      <th>2013</th>\n",
              "      <td>0.205685</td>\n",
              "      <td>0.201432</td>\n",
              "      <td>0.200313</td>\n",
              "      <td>0.392569</td>\n",
              "    </tr>\n",
              "    <tr>\n",
              "      <th>2014</th>\n",
              "      <td>0.175407</td>\n",
              "      <td>0.200723</td>\n",
              "      <td>0.195298</td>\n",
              "      <td>0.428571</td>\n",
              "    </tr>\n",
              "  </tbody>\n",
              "</table>\n",
              "</div>"
            ],
            "text/plain": [
              "store_type  Flagship store       MBR  TeleShop    e-Shop\n",
              "year                                                    \n",
              "2011              0.190707  0.218215  0.185391  0.405687\n",
              "2012              0.203238  0.193612  0.202800  0.400350\n",
              "2013              0.205685  0.201432  0.200313  0.392569\n",
              "2014              0.175407  0.200723  0.195298  0.428571"
            ]
          },
          "metadata": {
            "tags": []
          },
          "execution_count": 51
        }
      ]
    },
    {
      "cell_type": "markdown",
      "metadata": {
        "id": "h8MerL_-oDpD"
      },
      "source": [
        "Et l'on voit que les **e-Shop** représentent **40%** des transactions de l'année **2012**"
      ]
    },
    {
      "cell_type": "markdown",
      "metadata": {
        "id": "ZLtA7QOQoTGF"
      },
      "source": [
        "##Conclusion et recap\n",
        "\n",
        "J'ai vu les points suivants:\n",
        "\n",
        "*   **Filtrer** les lignes d'un `DataFrame` avec **plusieurs conditions** grâce aux opérateurs binaires **&**, **|** et **-**:\n",
        "```python\n",
        "# Année égale à 1979 et surface supérieure à 60\n",
        "df[(df['annee'] == 1979) & (df['surface'] > 60)]\n",
        "```\n",
        "```python\n",
        "# Année supérieure à 1900 ou quartier égal à 'Père-Lachaise'\n",
        "df[(df['année'] > 1900) | (df['quartier'] == 'Père-Lachaise')]\n",
        "```\n",
        "\n",
        "\n",
        "*   **Fusionner** des `DataFrames` grâce à la fonction **concat** et la méthode **merge**.\n",
        "```python\n",
        "# Concaténation verticale\n",
        "pd.concat([df1, df2], axis = 0)\n",
        "```\n",
        "```python\n",
        "# Concaténation horizontal\n",
        "pd.concat([df1, df2], axis = 1)\n",
        "```\n",
        "```python\n",
        "# Différents types de jointures\n",
        "df1.merge(right = df2, on = 'column', how = 'inner')\n",
        "df1.merge(right = df2, on = 'column', how = 'outer')\n",
        "df1.merge(right = df2, on = 'column', how = 'left')\n",
        "df1.merge(right = df2, on = 'column', how = 'right')\n",
        "```\n",
        "\n",
        "*   **Trier** et **ordonner** les valeurs d'un DataFrame grâce aux méthodes **sort_values** et **sort_index**.\n",
        "```python\n",
        "# Tri d'un DataFrame par la colonne 'column' dans l'ordre croissant\n",
        "df.sort_values(by = 'column', ascending = True)\n",
        "```\n",
        "\n",
        "*   Effectuer une **opération groupby** complexe grâce aux fonctions `lambda` et aux méthodes **groupby** et **agg**.\n",
        "```python\n",
        "functions_to_apply = {\n",
        "    'column1' : ['min', 'max'],\n",
        "    'column2' : [np.mean, np.std],\n",
        "    'column3' : lambda x: x.max() - x.min()\n",
        "    }\n",
        "```\n",
        "```python\n",
        "df.groupby('column_to_group_by').agg(functions_to_apply)\n",
        "```"
      ]
    }
  ]
}