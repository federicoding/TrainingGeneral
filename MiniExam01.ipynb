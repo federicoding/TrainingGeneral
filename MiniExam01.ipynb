{
  "nbformat": 4,
  "nbformat_minor": 0,
  "metadata": {
    "colab": {
      "name": "MiniExam01.ipynb",
      "provenance": [],
      "authorship_tag": "ABX9TyPtbSU+R2oYMfhIdG/ruE7P",
      "include_colab_link": true
    },
    "kernelspec": {
      "name": "python3",
      "display_name": "Python 3"
    },
    "language_info": {
      "name": "python"
    }
  },
  "cells": [
    {
      "cell_type": "markdown",
      "metadata": {
        "id": "view-in-github",
        "colab_type": "text"
      },
      "source": [
        "<a href=\"https://colab.research.google.com/github/federicoding/TrainingGeneral/blob/main/MiniExam01.ipynb\" target=\"_parent\"><img src=\"https://colab.research.google.com/assets/colab-badge.svg\" alt=\"Open In Colab\"/></a>"
      ]
    },
    {
      "cell_type": "markdown",
      "metadata": {
        "id": "tsGGeMSuh6na"
      },
      "source": [
        "#Mini Examen\n",
        "\n",
        "Ceci est un raisonnement type pour un mini-examen"
      ]
    },
    {
      "cell_type": "markdown",
      "metadata": {
        "id": "mKyij217iAm6"
      },
      "source": [
        "Ici c'est basé sur heart_disease.csv.\n",
        "\n",
        "Même si, ici, je passe sur le chargement des données."
      ]
    },
    {
      "cell_type": "code",
      "metadata": {
        "id": "JlEtVmEoh2YM"
      },
      "source": [
        ""
      ],
      "execution_count": null,
      "outputs": []
    }
  ]
}